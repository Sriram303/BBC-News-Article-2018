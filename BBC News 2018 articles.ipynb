{
 "cells": [
  {
   "cell_type": "markdown",
   "metadata": {},
   "source": [
    "### Load Data"
   ]
  },
  {
   "cell_type": "code",
   "execution_count": 16,
   "metadata": {},
   "outputs": [],
   "source": [
    "import pandas as pd\n",
    "data = pd.read_csv('bbc2018.csv')"
   ]
  },
  {
   "cell_type": "code",
   "execution_count": 17,
   "metadata": {},
   "outputs": [
    {
     "data": {
      "text/plain": [
       "(4421, 1)"
      ]
     },
     "execution_count": 17,
     "metadata": {},
     "output_type": "execute_result"
    }
   ],
   "source": [
    "data = data.dropna().reset_index(drop=True)\n",
    "data.shape"
   ]
  },
  {
   "cell_type": "code",
   "execution_count": 18,
   "metadata": {},
   "outputs": [
    {
     "data": {
      "text/html": [
       "<div>\n",
       "<style scoped>\n",
       "    .dataframe tbody tr th:only-of-type {\n",
       "        vertical-align: middle;\n",
       "    }\n",
       "\n",
       "    .dataframe tbody tr th {\n",
       "        vertical-align: top;\n",
       "    }\n",
       "\n",
       "    .dataframe thead th {\n",
       "        text-align: right;\n",
       "    }\n",
       "</style>\n",
       "<table border=\"1\" class=\"dataframe\">\n",
       "  <thead>\n",
       "    <tr style=\"text-align: right;\">\n",
       "      <th></th>\n",
       "      <th>articles,lang</th>\n",
       "    </tr>\n",
       "  </thead>\n",
       "  <tbody>\n",
       "    <tr>\n",
       "      <th>0</th>\n",
       "      <td>Image copyright PA/EPA Image caption Oligarch ...</td>\n",
       "    </tr>\n",
       "    <tr>\n",
       "      <th>1</th>\n",
       "      <td>Russian President Vladimir Putin says a list o...</td>\n",
       "    </tr>\n",
       "    <tr>\n",
       "      <th>2</th>\n",
       "      <td>The list names 210 top Russians as part of a s...</td>\n",
       "    </tr>\n",
       "    <tr>\n",
       "      <th>3</th>\n",
       "      <td>However, the US stressed those named were not ...</td>\n",
       "    </tr>\n",
       "    <tr>\n",
       "      <th>4</th>\n",
       "      <td>Mr Putin said the list was an unfriendly act t...</td>\n",
       "    </tr>\n",
       "  </tbody>\n",
       "</table>\n",
       "</div>"
      ],
      "text/plain": [
       "                                       articles,lang\n",
       "0  Image copyright PA/EPA Image caption Oligarch ...\n",
       "1  Russian President Vladimir Putin says a list o...\n",
       "2  The list names 210 top Russians as part of a s...\n",
       "3  However, the US stressed those named were not ...\n",
       "4  Mr Putin said the list was an unfriendly act t..."
      ]
     },
     "execution_count": 18,
     "metadata": {},
     "output_type": "execute_result"
    }
   ],
   "source": [
    "data.head()"
   ]
  },
  {
   "cell_type": "code",
   "execution_count": 19,
   "metadata": {},
   "outputs": [
    {
     "data": {
      "text/plain": [
       "Index(['articles,lang'], dtype='object')"
      ]
     },
     "execution_count": 19,
     "metadata": {},
     "output_type": "execute_result"
    }
   ],
   "source": [
    "data.columns"
   ]
  },
  {
   "cell_type": "markdown",
   "metadata": {},
   "source": [
    "### cleaning"
   ]
  },
  {
   "cell_type": "markdown",
   "metadata": {},
   "source": [
    "#### Keep English Articles"
   ]
  },
  {
   "cell_type": "code",
   "execution_count": 20,
   "metadata": {},
   "outputs": [
    {
     "name": "stderr",
     "output_type": "stream",
     "text": [
      "C:\\ProgramData\\Anaconda3\\lib\\site-packages\\ipykernel_launcher.py:3: TqdmDeprecationWarning: This function will be removed in tqdm==5.0.0\n",
      "Please use `tqdm.notebook.tqdm` instead of `tqdm.tqdm_notebook`\n",
      "  This is separate from the ipykernel package so we can avoid doing imports until\n"
     ]
    },
    {
     "data": {
      "application/vnd.jupyter.widget-view+json": {
       "model_id": "a85dee576c4f464fbd1ce13b70df0321",
       "version_major": 2,
       "version_minor": 0
      },
      "text/plain": [
       "HBox(children=(FloatProgress(value=1.0, bar_style='info', max=1.0), HTML(value='')))"
      ]
     },
     "metadata": {},
     "output_type": "display_data"
    },
    {
     "name": "stderr",
     "output_type": "stream",
     "text": [
      "C:\\ProgramData\\Anaconda3\\lib\\site-packages\\tqdm\\std.py:668: FutureWarning: The Panel class is removed from pandas. Accessing it from the top-level namespace will also be removed in the next version\n",
      "  from pandas import Panel\n"
     ]
    }
   ],
   "source": [
    "from langdetect import detect\n",
    "from tqdm import tqdm_notebook\n",
    "tqdm_notebook().pandas()"
   ]
  },
  {
   "cell_type": "code",
   "execution_count": 24,
   "metadata": {},
   "outputs": [
    {
     "data": {
      "application/vnd.jupyter.widget-view+json": {
       "model_id": "dc786576f0fb445e928516f8e628af71",
       "version_major": 2,
       "version_minor": 0
      },
      "text/plain": [
       "HBox(children=(FloatProgress(value=0.0, max=1000.0), HTML(value='')))"
      ]
     },
     "metadata": {},
     "output_type": "display_data"
    },
    {
     "name": "stdout",
     "output_type": "stream",
     "text": [
      "\n"
     ]
    }
   ],
   "source": [
    "data['lang'] = data['articles,lang'][0:1000].progress_map(detect)"
   ]
  },
  {
   "cell_type": "code",
   "execution_count": 25,
   "metadata": {},
   "outputs": [
    {
     "data": {
      "text/plain": [
       "en    968\n",
       "es     14\n",
       "da      4\n",
       "de      2\n",
       "ca      2\n",
       "ro      1\n",
       "cy      1\n",
       "et      1\n",
       "fr      1\n",
       "pl      1\n",
       "sv      1\n",
       "it      1\n",
       "tl      1\n",
       "no      1\n",
       "id      1\n",
       "Name: lang, dtype: int64"
      ]
     },
     "execution_count": 25,
     "metadata": {},
     "output_type": "execute_result"
    }
   ],
   "source": [
    "data.lang.value_counts()"
   ]
  },
  {
   "cell_type": "code",
   "execution_count": 26,
   "metadata": {},
   "outputs": [],
   "source": [
    "data = data.loc[data.lang=='en']"
   ]
  },
  {
   "cell_type": "markdown",
   "metadata": {},
   "source": [
    "### Tokenization"
   ]
  },
  {
   "cell_type": "code",
   "execution_count": 27,
   "metadata": {},
   "outputs": [],
   "source": [
    "\n",
    "from nltk.tokenize import sent_tokenize"
   ]
  },
  {
   "cell_type": "code",
   "execution_count": 32,
   "metadata": {},
   "outputs": [
    {
     "data": {
      "application/vnd.jupyter.widget-view+json": {
       "model_id": "58c416969af6412cb2bd616d398ee44b",
       "version_major": 2,
       "version_minor": 0
      },
      "text/plain": [
       "HBox(children=(FloatProgress(value=0.0, max=968.0), HTML(value='')))"
      ]
     },
     "metadata": {},
     "output_type": "display_data"
    },
    {
     "name": "stdout",
     "output_type": "stream",
     "text": [
      "\n"
     ]
    },
    {
     "name": "stderr",
     "output_type": "stream",
     "text": [
      "C:\\ProgramData\\Anaconda3\\lib\\site-packages\\ipykernel_launcher.py:1: SettingWithCopyWarning: \n",
      "A value is trying to be set on a copy of a slice from a DataFrame.\n",
      "Try using .loc[row_indexer,col_indexer] = value instead\n",
      "\n",
      "See the caveats in the documentation: https://pandas.pydata.org/pandas-docs/stable/user_guide/indexing.html#returning-a-view-versus-a-copy\n",
      "  \"\"\"Entry point for launching an IPython kernel.\n"
     ]
    },
    {
     "data": {
      "text/plain": [
       "['Image copyright PA/EPA Image caption Oligarch Roman Abramovich (l) and PM Dmitry Medvedev are on the list']"
      ]
     },
     "execution_count": 32,
     "metadata": {},
     "output_type": "execute_result"
    }
   ],
   "source": [
    "data['sentences'] = data['articles,lang'].progress_map(sent_tokenize)\n",
    "data['sentences'].head().tolist()[0][:3] # Print the first 3 sentences of the 1st article"
   ]
  },
  {
   "cell_type": "code",
   "execution_count": 33,
   "metadata": {},
   "outputs": [
    {
     "data": {
      "text/html": [
       "<div>\n",
       "<style scoped>\n",
       "    .dataframe tbody tr th:only-of-type {\n",
       "        vertical-align: middle;\n",
       "    }\n",
       "\n",
       "    .dataframe tbody tr th {\n",
       "        vertical-align: top;\n",
       "    }\n",
       "\n",
       "    .dataframe thead th {\n",
       "        text-align: right;\n",
       "    }\n",
       "</style>\n",
       "<table border=\"1\" class=\"dataframe\">\n",
       "  <thead>\n",
       "    <tr style=\"text-align: right;\">\n",
       "      <th></th>\n",
       "      <th>articles,lang</th>\n",
       "      <th>lang</th>\n",
       "      <th>sentences</th>\n",
       "    </tr>\n",
       "  </thead>\n",
       "  <tbody>\n",
       "    <tr>\n",
       "      <th>0</th>\n",
       "      <td>Image copyright PA/EPA Image caption Oligarch ...</td>\n",
       "      <td>en</td>\n",
       "      <td>[Image copyright PA/EPA Image caption Oligarch...</td>\n",
       "    </tr>\n",
       "    <tr>\n",
       "      <th>1</th>\n",
       "      <td>Russian President Vladimir Putin says a list o...</td>\n",
       "      <td>en</td>\n",
       "      <td>[Russian President Vladimir Putin says a list ...</td>\n",
       "    </tr>\n",
       "    <tr>\n",
       "      <th>2</th>\n",
       "      <td>The list names 210 top Russians as part of a s...</td>\n",
       "      <td>en</td>\n",
       "      <td>[The list names 210 top Russians as part of a ...</td>\n",
       "    </tr>\n",
       "    <tr>\n",
       "      <th>3</th>\n",
       "      <td>However, the US stressed those named were not ...</td>\n",
       "      <td>en</td>\n",
       "      <td>[However, the US stressed those named were not...</td>\n",
       "    </tr>\n",
       "    <tr>\n",
       "      <th>4</th>\n",
       "      <td>Mr Putin said the list was an unfriendly act t...</td>\n",
       "      <td>en</td>\n",
       "      <td>[Mr Putin said the list was an unfriendly act ...</td>\n",
       "    </tr>\n",
       "  </tbody>\n",
       "</table>\n",
       "</div>"
      ],
      "text/plain": [
       "                                       articles,lang lang  \\\n",
       "0  Image copyright PA/EPA Image caption Oligarch ...   en   \n",
       "1  Russian President Vladimir Putin says a list o...   en   \n",
       "2  The list names 210 top Russians as part of a s...   en   \n",
       "3  However, the US stressed those named were not ...   en   \n",
       "4  Mr Putin said the list was an unfriendly act t...   en   \n",
       "\n",
       "                                           sentences  \n",
       "0  [Image copyright PA/EPA Image caption Oligarch...  \n",
       "1  [Russian President Vladimir Putin says a list ...  \n",
       "2  [The list names 210 top Russians as part of a ...  \n",
       "3  [However, the US stressed those named were not...  \n",
       "4  [Mr Putin said the list was an unfriendly act ...  "
      ]
     },
     "execution_count": 33,
     "metadata": {},
     "output_type": "execute_result"
    }
   ],
   "source": [
    "data.head()"
   ]
  },
  {
   "cell_type": "code",
   "execution_count": 34,
   "metadata": {},
   "outputs": [],
   "source": [
    "from nltk.tokenize import word_tokenize"
   ]
  },
  {
   "cell_type": "code",
   "execution_count": 35,
   "metadata": {},
   "outputs": [
    {
     "data": {
      "application/vnd.jupyter.widget-view+json": {
       "model_id": "514fa7cb540f47b39f55bfcc67afe358",
       "version_major": 2,
       "version_minor": 0
      },
      "text/plain": [
       "HBox(children=(FloatProgress(value=0.0, max=968.0), HTML(value='')))"
      ]
     },
     "metadata": {},
     "output_type": "display_data"
    },
    {
     "name": "stdout",
     "output_type": "stream",
     "text": [
      "\n",
      "[['Image', 'copyright', 'PA/EPA', 'Image', 'caption', 'Oligarch', 'Roman', 'Abramovich', '(', 'l', ')', 'and', 'PM', 'Dmitry', 'Medvedev', 'are', 'on', 'the', 'list']]\n"
     ]
    },
    {
     "name": "stderr",
     "output_type": "stream",
     "text": [
      "C:\\ProgramData\\Anaconda3\\lib\\site-packages\\ipykernel_launcher.py:1: SettingWithCopyWarning: \n",
      "A value is trying to be set on a copy of a slice from a DataFrame.\n",
      "Try using .loc[row_indexer,col_indexer] = value instead\n",
      "\n",
      "See the caveats in the documentation: https://pandas.pydata.org/pandas-docs/stable/user_guide/indexing.html#returning-a-view-versus-a-copy\n",
      "  \"\"\"Entry point for launching an IPython kernel.\n"
     ]
    }
   ],
   "source": [
    "data['tokens_sentences'] = data['sentences'].progress_map(lambda sentences: [word_tokenize(sentence) for sentence in sentences])\n",
    "print(data['tokens_sentences'].head(1).tolist()[0][:3])"
   ]
  },
  {
   "cell_type": "markdown",
   "metadata": {},
   "source": [
    "### Lemmatizing with POS tagging"
   ]
  },
  {
   "cell_type": "code",
   "execution_count": 36,
   "metadata": {},
   "outputs": [],
   "source": [
    "from nltk import pos_tag"
   ]
  },
  {
   "cell_type": "code",
   "execution_count": 37,
   "metadata": {},
   "outputs": [
    {
     "data": {
      "application/vnd.jupyter.widget-view+json": {
       "model_id": "268b4fde939545c38238c9bb90af4987",
       "version_major": 2,
       "version_minor": 0
      },
      "text/plain": [
       "HBox(children=(FloatProgress(value=0.0, max=968.0), HTML(value='')))"
      ]
     },
     "metadata": {},
     "output_type": "display_data"
    },
    {
     "name": "stdout",
     "output_type": "stream",
     "text": [
      "\n",
      "[[('Image', 'NN'), ('copyright', 'NN'), ('PA/EPA', 'NNP'), ('Image', 'NNP'), ('caption', 'NN'), ('Oligarch', 'NNP'), ('Roman', 'NNP'), ('Abramovich', 'NNP'), ('(', '('), ('l', 'NN'), (')', ')'), ('and', 'CC'), ('PM', 'NNP'), ('Dmitry', 'NNP'), ('Medvedev', 'NNP'), ('are', 'VBP'), ('on', 'IN'), ('the', 'DT'), ('list', 'NN')]]\n"
     ]
    },
    {
     "name": "stderr",
     "output_type": "stream",
     "text": [
      "C:\\ProgramData\\Anaconda3\\lib\\site-packages\\ipykernel_launcher.py:1: SettingWithCopyWarning: \n",
      "A value is trying to be set on a copy of a slice from a DataFrame.\n",
      "Try using .loc[row_indexer,col_indexer] = value instead\n",
      "\n",
      "See the caveats in the documentation: https://pandas.pydata.org/pandas-docs/stable/user_guide/indexing.html#returning-a-view-versus-a-copy\n",
      "  \"\"\"Entry point for launching an IPython kernel.\n"
     ]
    }
   ],
   "source": [
    "data['POS_tokens'] = data['tokens_sentences'].progress_map(lambda tokens_sentences: [pos_tag(tokens) for tokens in tokens_sentences])\n",
    "print(data['POS_tokens'].head(1).tolist()[0][:3])"
   ]
  },
  {
   "cell_type": "code",
   "execution_count": 38,
   "metadata": {},
   "outputs": [],
   "source": [
    "# Inspired from https://stackoverflow.com/a/15590384\n",
    "from nltk.corpus import wordnet\n",
    "\n",
    "def get_wordnet_pos(treebank_tag):\n",
    "\n",
    "    if treebank_tag.startswith('J'):\n",
    "        return wordnet.ADJ\n",
    "    elif treebank_tag.startswith('V'):\n",
    "        return wordnet.VERB\n",
    "    elif treebank_tag.startswith('N'):\n",
    "        return wordnet.NOUN\n",
    "    elif treebank_tag.startswith('R'):\n",
    "        return wordnet.ADV\n",
    "    else:\n",
    "        return ''\n",
    "\n",
    "from nltk.stem.wordnet import WordNetLemmatizer\n",
    "lemmatizer = WordNetLemmatizer()"
   ]
  },
  {
   "cell_type": "code",
   "execution_count": 39,
   "metadata": {},
   "outputs": [
    {
     "data": {
      "application/vnd.jupyter.widget-view+json": {
       "model_id": "f65b5291156a46c093324cd97e0a3451",
       "version_major": 2,
       "version_minor": 0
      },
      "text/plain": [
       "HBox(children=(FloatProgress(value=0.0, max=968.0), HTML(value='')))"
      ]
     },
     "metadata": {},
     "output_type": "display_data"
    },
    {
     "name": "stdout",
     "output_type": "stream",
     "text": [
      "\n"
     ]
    }
   ],
   "source": [
    "\n",
    "# Lemmatizing each word with its POS tag, in each sentence\n",
    "data['tokens_sentences_lemmatized'] = data['POS_tokens'].progress_map(\n",
    "    lambda list_tokens_POS: [\n",
    "        [\n",
    "            lemmatizer.lemmatize(el[0], get_wordnet_pos(el[1])) \n",
    "            if get_wordnet_pos(el[1]) != '' else el[0] for el in tokens_POS\n",
    "        ] \n",
    "        for tokens_POS in list_tokens_POS\n",
    "    ]\n",
    ")"
   ]
  },
  {
   "cell_type": "code",
   "execution_count": 40,
   "metadata": {},
   "outputs": [
    {
     "data": {
      "text/plain": [
       "[['Image',\n",
       "  'copyright',\n",
       "  'PA/EPA',\n",
       "  'Image',\n",
       "  'caption',\n",
       "  'Oligarch',\n",
       "  'Roman',\n",
       "  'Abramovich',\n",
       "  '(',\n",
       "  'l',\n",
       "  ')',\n",
       "  'and',\n",
       "  'PM',\n",
       "  'Dmitry',\n",
       "  'Medvedev',\n",
       "  'be',\n",
       "  'on',\n",
       "  'the',\n",
       "  'list']]"
      ]
     },
     "execution_count": 40,
     "metadata": {},
     "output_type": "execute_result"
    }
   ],
   "source": [
    "\n",
    "data['tokens_sentences_lemmatized'].head(1).tolist()[0][:3]"
   ]
  },
  {
   "cell_type": "code",
   "execution_count": 80,
   "metadata": {
    "scrolled": false
   },
   "outputs": [
    {
     "data": {
      "text/html": [
       "<div>\n",
       "<style scoped>\n",
       "    .dataframe tbody tr th:only-of-type {\n",
       "        vertical-align: middle;\n",
       "    }\n",
       "\n",
       "    .dataframe tbody tr th {\n",
       "        vertical-align: top;\n",
       "    }\n",
       "\n",
       "    .dataframe thead th {\n",
       "        text-align: right;\n",
       "    }\n",
       "</style>\n",
       "<table border=\"1\" class=\"dataframe\">\n",
       "  <thead>\n",
       "    <tr style=\"text-align: right;\">\n",
       "      <th></th>\n",
       "      <th>articles,lang</th>\n",
       "      <th>lang</th>\n",
       "      <th>sentences</th>\n",
       "      <th>tokens_sentences</th>\n",
       "      <th>POS_tokens</th>\n",
       "      <th>tokens_sentences_lemmatized</th>\n",
       "      <th>tokens</th>\n",
       "      <th>articles</th>\n",
       "    </tr>\n",
       "  </thead>\n",
       "  <tbody>\n",
       "    <tr>\n",
       "      <th>0</th>\n",
       "      <td>Image copyright PA/EPA Image caption Oligarch ...</td>\n",
       "      <td>en</td>\n",
       "      <td>[Image copyright PA/EPA Image caption Oligarch...</td>\n",
       "      <td>[[Image, copyright, PA/EPA, Image, caption, Ol...</td>\n",
       "      <td>[[(Image, NN), (copyright, NN), (PA/EPA, NNP),...</td>\n",
       "      <td>[[Image, copyright, PA/EPA, Image, caption, Ol...</td>\n",
       "      <td>[oligarch, roman, abramovich, pm, dmitry, medv...</td>\n",
       "      <td>Image copyright PA/EPA Image caption Oligarch ...</td>\n",
       "    </tr>\n",
       "    <tr>\n",
       "      <th>1</th>\n",
       "      <td>Russian President Vladimir Putin says a list o...</td>\n",
       "      <td>en</td>\n",
       "      <td>[Russian President Vladimir Putin says a list ...</td>\n",
       "      <td>[[Russian, President, Vladimir, Putin, says, a...</td>\n",
       "      <td>[[(Russian, JJ), (President, NNP), (Vladimir, ...</td>\n",
       "      <td>[[Russian, President, Vladimir, Putin, say, a,...</td>\n",
       "      <td>[russian, president, vladimir, putin, list, of...</td>\n",
       "      <td>Russian President Vladimir Putin says a list o...</td>\n",
       "    </tr>\n",
       "    <tr>\n",
       "      <th>2</th>\n",
       "      <td>The list names 210 top Russians as part of a s...</td>\n",
       "      <td>en</td>\n",
       "      <td>[The list names 210 top Russians as part of a ...</td>\n",
       "      <td>[[The, list, names, 210, top, Russians, as, pa...</td>\n",
       "      <td>[[(The, DT), (list, NN), (names, RB), (210, CD...</td>\n",
       "      <td>[[The, list, names, 210, top, Russians, as, pa...</td>\n",
       "      <td>[list, names, top, russians, part, sanction, l...</td>\n",
       "      <td>The list names 210 top Russians as part of a s...</td>\n",
       "    </tr>\n",
       "    <tr>\n",
       "      <th>3</th>\n",
       "      <td>However, the US stressed those named were not ...</td>\n",
       "      <td>en</td>\n",
       "      <td>[However, the US stressed those named were not...</td>\n",
       "      <td>[[However, ,, the, US, stressed, those, named,...</td>\n",
       "      <td>[[(However, RB), (,, ,), (the, DT), (US, NNP),...</td>\n",
       "      <td>[[However, ,, the, US, stress, those, name, be...</td>\n",
       "      <td>[however, us, stress, name, subject, new, sanc...</td>\n",
       "      <td>However, the US stressed those named were not ...</td>\n",
       "    </tr>\n",
       "    <tr>\n",
       "      <th>4</th>\n",
       "      <td>Mr Putin said the list was an unfriendly act t...</td>\n",
       "      <td>en</td>\n",
       "      <td>[Mr Putin said the list was an unfriendly act ...</td>\n",
       "      <td>[[Mr, Putin, said, the, list, was, an, unfrien...</td>\n",
       "      <td>[[(Mr, NNP), (Putin, NNP), (said, VBD), (the, ...</td>\n",
       "      <td>[[Mr, Putin, say, the, list, be, an, unfriendl...</td>\n",
       "      <td>[putin, list, unfriendly, act, complicate, tie...</td>\n",
       "      <td>Mr Putin said the list was an unfriendly act t...</td>\n",
       "    </tr>\n",
       "  </tbody>\n",
       "</table>\n",
       "</div>"
      ],
      "text/plain": [
       "                                       articles,lang lang  \\\n",
       "0  Image copyright PA/EPA Image caption Oligarch ...   en   \n",
       "1  Russian President Vladimir Putin says a list o...   en   \n",
       "2  The list names 210 top Russians as part of a s...   en   \n",
       "3  However, the US stressed those named were not ...   en   \n",
       "4  Mr Putin said the list was an unfriendly act t...   en   \n",
       "\n",
       "                                           sentences  \\\n",
       "0  [Image copyright PA/EPA Image caption Oligarch...   \n",
       "1  [Russian President Vladimir Putin says a list ...   \n",
       "2  [The list names 210 top Russians as part of a ...   \n",
       "3  [However, the US stressed those named were not...   \n",
       "4  [Mr Putin said the list was an unfriendly act ...   \n",
       "\n",
       "                                    tokens_sentences  \\\n",
       "0  [[Image, copyright, PA/EPA, Image, caption, Ol...   \n",
       "1  [[Russian, President, Vladimir, Putin, says, a...   \n",
       "2  [[The, list, names, 210, top, Russians, as, pa...   \n",
       "3  [[However, ,, the, US, stressed, those, named,...   \n",
       "4  [[Mr, Putin, said, the, list, was, an, unfrien...   \n",
       "\n",
       "                                          POS_tokens  \\\n",
       "0  [[(Image, NN), (copyright, NN), (PA/EPA, NNP),...   \n",
       "1  [[(Russian, JJ), (President, NNP), (Vladimir, ...   \n",
       "2  [[(The, DT), (list, NN), (names, RB), (210, CD...   \n",
       "3  [[(However, RB), (,, ,), (the, DT), (US, NNP),...   \n",
       "4  [[(Mr, NNP), (Putin, NNP), (said, VBD), (the, ...   \n",
       "\n",
       "                         tokens_sentences_lemmatized  \\\n",
       "0  [[Image, copyright, PA/EPA, Image, caption, Ol...   \n",
       "1  [[Russian, President, Vladimir, Putin, say, a,...   \n",
       "2  [[The, list, names, 210, top, Russians, as, pa...   \n",
       "3  [[However, ,, the, US, stress, those, name, be...   \n",
       "4  [[Mr, Putin, say, the, list, be, an, unfriendl...   \n",
       "\n",
       "                                              tokens  \\\n",
       "0  [oligarch, roman, abramovich, pm, dmitry, medv...   \n",
       "1  [russian, president, vladimir, putin, list, of...   \n",
       "2  [list, names, top, russians, part, sanction, l...   \n",
       "3  [however, us, stress, name, subject, new, sanc...   \n",
       "4  [putin, list, unfriendly, act, complicate, tie...   \n",
       "\n",
       "                                            articles  \n",
       "0  Image copyright PA/EPA Image caption Oligarch ...  \n",
       "1  Russian President Vladimir Putin says a list o...  \n",
       "2  The list names 210 top Russians as part of a s...  \n",
       "3  However, the US stressed those named were not ...  \n",
       "4  Mr Putin said the list was an unfriendly act t...  "
      ]
     },
     "execution_count": 80,
     "metadata": {},
     "output_type": "execute_result"
    }
   ],
   "source": [
    "data.head()"
   ]
  },
  {
   "cell_type": "markdown",
   "metadata": {},
   "source": [
    "### Regrouping tokens and removing stop words"
   ]
  },
  {
   "cell_type": "code",
   "execution_count": 41,
   "metadata": {},
   "outputs": [],
   "source": [
    "from nltk.corpus import stopwords\n",
    "stopwords_verbs = ['say', 'get', 'go', 'know', 'may', 'need', 'like', 'make', 'see', 'want', 'come', 'take', 'use', 'would', 'can']\n",
    "stopwords_other = ['one', 'mr', 'bbc', 'image', 'getty', 'de', 'en', 'caption', 'also', 'copyright', 'something']\n",
    "my_stopwords = stopwords.words('English') + stopwords_verbs + stopwords_other"
   ]
  },
  {
   "cell_type": "code",
   "execution_count": 42,
   "metadata": {},
   "outputs": [],
   "source": [
    "from itertools import chain # to flatten list of sentences of tokens into list of tokens"
   ]
  },
  {
   "cell_type": "code",
   "execution_count": 43,
   "metadata": {},
   "outputs": [],
   "source": [
    "data['tokens'] = data['tokens_sentences_lemmatized'].map(lambda sentences: list(chain.from_iterable(sentences)))\n",
    "data['tokens'] = data['tokens'].map(lambda tokens: [token.lower() for token in tokens if token.isalpha() \n",
    "                                                    and token.lower() not in my_stopwords and len(token)>1])"
   ]
  },
  {
   "cell_type": "code",
   "execution_count": 44,
   "metadata": {},
   "outputs": [
    {
     "data": {
      "text/plain": [
       "['oligarch', 'roman', 'abramovich', 'pm', 'dmitry', 'medvedev', 'list']"
      ]
     },
     "execution_count": 44,
     "metadata": {},
     "output_type": "execute_result"
    }
   ],
   "source": [
    "data['tokens'].head(1).tolist()[0][:30]"
   ]
  },
  {
   "cell_type": "code",
   "execution_count": 81,
   "metadata": {},
   "outputs": [
    {
     "data": {
      "text/html": [
       "<div>\n",
       "<style scoped>\n",
       "    .dataframe tbody tr th:only-of-type {\n",
       "        vertical-align: middle;\n",
       "    }\n",
       "\n",
       "    .dataframe tbody tr th {\n",
       "        vertical-align: top;\n",
       "    }\n",
       "\n",
       "    .dataframe thead th {\n",
       "        text-align: right;\n",
       "    }\n",
       "</style>\n",
       "<table border=\"1\" class=\"dataframe\">\n",
       "  <thead>\n",
       "    <tr style=\"text-align: right;\">\n",
       "      <th></th>\n",
       "      <th>articles,lang</th>\n",
       "      <th>lang</th>\n",
       "      <th>sentences</th>\n",
       "      <th>tokens_sentences</th>\n",
       "      <th>POS_tokens</th>\n",
       "      <th>tokens_sentences_lemmatized</th>\n",
       "      <th>tokens</th>\n",
       "      <th>articles</th>\n",
       "    </tr>\n",
       "  </thead>\n",
       "  <tbody>\n",
       "    <tr>\n",
       "      <th>0</th>\n",
       "      <td>Image copyright PA/EPA Image caption Oligarch ...</td>\n",
       "      <td>en</td>\n",
       "      <td>[Image copyright PA/EPA Image caption Oligarch...</td>\n",
       "      <td>[[Image, copyright, PA/EPA, Image, caption, Ol...</td>\n",
       "      <td>[[(Image, NN), (copyright, NN), (PA/EPA, NNP),...</td>\n",
       "      <td>[[Image, copyright, PA/EPA, Image, caption, Ol...</td>\n",
       "      <td>[oligarch, roman, abramovich, pm, dmitry, medv...</td>\n",
       "      <td>Image copyright PA/EPA Image caption Oligarch ...</td>\n",
       "    </tr>\n",
       "    <tr>\n",
       "      <th>1</th>\n",
       "      <td>Russian President Vladimir Putin says a list o...</td>\n",
       "      <td>en</td>\n",
       "      <td>[Russian President Vladimir Putin says a list ...</td>\n",
       "      <td>[[Russian, President, Vladimir, Putin, says, a...</td>\n",
       "      <td>[[(Russian, JJ), (President, NNP), (Vladimir, ...</td>\n",
       "      <td>[[Russian, President, Vladimir, Putin, say, a,...</td>\n",
       "      <td>[russian, president, vladimir, putin, list, of...</td>\n",
       "      <td>Russian President Vladimir Putin says a list o...</td>\n",
       "    </tr>\n",
       "    <tr>\n",
       "      <th>2</th>\n",
       "      <td>The list names 210 top Russians as part of a s...</td>\n",
       "      <td>en</td>\n",
       "      <td>[The list names 210 top Russians as part of a ...</td>\n",
       "      <td>[[The, list, names, 210, top, Russians, as, pa...</td>\n",
       "      <td>[[(The, DT), (list, NN), (names, RB), (210, CD...</td>\n",
       "      <td>[[The, list, names, 210, top, Russians, as, pa...</td>\n",
       "      <td>[list, names, top, russians, part, sanction, l...</td>\n",
       "      <td>The list names 210 top Russians as part of a s...</td>\n",
       "    </tr>\n",
       "    <tr>\n",
       "      <th>3</th>\n",
       "      <td>However, the US stressed those named were not ...</td>\n",
       "      <td>en</td>\n",
       "      <td>[However, the US stressed those named were not...</td>\n",
       "      <td>[[However, ,, the, US, stressed, those, named,...</td>\n",
       "      <td>[[(However, RB), (,, ,), (the, DT), (US, NNP),...</td>\n",
       "      <td>[[However, ,, the, US, stress, those, name, be...</td>\n",
       "      <td>[however, us, stress, name, subject, new, sanc...</td>\n",
       "      <td>However, the US stressed those named were not ...</td>\n",
       "    </tr>\n",
       "    <tr>\n",
       "      <th>4</th>\n",
       "      <td>Mr Putin said the list was an unfriendly act t...</td>\n",
       "      <td>en</td>\n",
       "      <td>[Mr Putin said the list was an unfriendly act ...</td>\n",
       "      <td>[[Mr, Putin, said, the, list, was, an, unfrien...</td>\n",
       "      <td>[[(Mr, NNP), (Putin, NNP), (said, VBD), (the, ...</td>\n",
       "      <td>[[Mr, Putin, say, the, list, be, an, unfriendl...</td>\n",
       "      <td>[putin, list, unfriendly, act, complicate, tie...</td>\n",
       "      <td>Mr Putin said the list was an unfriendly act t...</td>\n",
       "    </tr>\n",
       "  </tbody>\n",
       "</table>\n",
       "</div>"
      ],
      "text/plain": [
       "                                       articles,lang lang  \\\n",
       "0  Image copyright PA/EPA Image caption Oligarch ...   en   \n",
       "1  Russian President Vladimir Putin says a list o...   en   \n",
       "2  The list names 210 top Russians as part of a s...   en   \n",
       "3  However, the US stressed those named were not ...   en   \n",
       "4  Mr Putin said the list was an unfriendly act t...   en   \n",
       "\n",
       "                                           sentences  \\\n",
       "0  [Image copyright PA/EPA Image caption Oligarch...   \n",
       "1  [Russian President Vladimir Putin says a list ...   \n",
       "2  [The list names 210 top Russians as part of a ...   \n",
       "3  [However, the US stressed those named were not...   \n",
       "4  [Mr Putin said the list was an unfriendly act ...   \n",
       "\n",
       "                                    tokens_sentences  \\\n",
       "0  [[Image, copyright, PA/EPA, Image, caption, Ol...   \n",
       "1  [[Russian, President, Vladimir, Putin, says, a...   \n",
       "2  [[The, list, names, 210, top, Russians, as, pa...   \n",
       "3  [[However, ,, the, US, stressed, those, named,...   \n",
       "4  [[Mr, Putin, said, the, list, was, an, unfrien...   \n",
       "\n",
       "                                          POS_tokens  \\\n",
       "0  [[(Image, NN), (copyright, NN), (PA/EPA, NNP),...   \n",
       "1  [[(Russian, JJ), (President, NNP), (Vladimir, ...   \n",
       "2  [[(The, DT), (list, NN), (names, RB), (210, CD...   \n",
       "3  [[(However, RB), (,, ,), (the, DT), (US, NNP),...   \n",
       "4  [[(Mr, NNP), (Putin, NNP), (said, VBD), (the, ...   \n",
       "\n",
       "                         tokens_sentences_lemmatized  \\\n",
       "0  [[Image, copyright, PA/EPA, Image, caption, Ol...   \n",
       "1  [[Russian, President, Vladimir, Putin, say, a,...   \n",
       "2  [[The, list, names, 210, top, Russians, as, pa...   \n",
       "3  [[However, ,, the, US, stress, those, name, be...   \n",
       "4  [[Mr, Putin, say, the, list, be, an, unfriendl...   \n",
       "\n",
       "                                              tokens  \\\n",
       "0  [oligarch, roman, abramovich, pm, dmitry, medv...   \n",
       "1  [russian, president, vladimir, putin, list, of...   \n",
       "2  [list, names, top, russians, part, sanction, l...   \n",
       "3  [however, us, stress, name, subject, new, sanc...   \n",
       "4  [putin, list, unfriendly, act, complicate, tie...   \n",
       "\n",
       "                                            articles  \n",
       "0  Image copyright PA/EPA Image caption Oligarch ...  \n",
       "1  Russian President Vladimir Putin says a list o...  \n",
       "2  The list names 210 top Russians as part of a s...  \n",
       "3  However, the US stressed those named were not ...  \n",
       "4  Mr Putin said the list was an unfriendly act t...  "
      ]
     },
     "execution_count": 81,
     "metadata": {},
     "output_type": "execute_result"
    }
   ],
   "source": [
    "data.head()"
   ]
  },
  {
   "cell_type": "markdown",
   "metadata": {},
   "source": [
    "### LDA"
   ]
  },
  {
   "cell_type": "markdown",
   "metadata": {},
   "source": [
    "### Data preparation"
   ]
  },
  {
   "cell_type": "markdown",
   "metadata": {},
   "source": [
    "### Prepare bi-grams and tri-grams"
   ]
  },
  {
   "cell_type": "code",
   "execution_count": 45,
   "metadata": {},
   "outputs": [],
   "source": [
    "from gensim.models import Phrases"
   ]
  },
  {
   "cell_type": "code",
   "execution_count": 46,
   "metadata": {},
   "outputs": [],
   "source": [
    "tokens = data['tokens'].tolist()\n",
    "bigram_model = Phrases(tokens)\n",
    "trigram_model = Phrases(bigram_model[tokens], min_count=1)\n",
    "tokens = list(trigram_model[bigram_model[tokens]])"
   ]
  },
  {
   "cell_type": "code",
   "execution_count": 82,
   "metadata": {},
   "outputs": [
    {
     "data": {
      "text/html": [
       "<div>\n",
       "<style scoped>\n",
       "    .dataframe tbody tr th:only-of-type {\n",
       "        vertical-align: middle;\n",
       "    }\n",
       "\n",
       "    .dataframe tbody tr th {\n",
       "        vertical-align: top;\n",
       "    }\n",
       "\n",
       "    .dataframe thead th {\n",
       "        text-align: right;\n",
       "    }\n",
       "</style>\n",
       "<table border=\"1\" class=\"dataframe\">\n",
       "  <thead>\n",
       "    <tr style=\"text-align: right;\">\n",
       "      <th></th>\n",
       "      <th>articles,lang</th>\n",
       "      <th>lang</th>\n",
       "      <th>sentences</th>\n",
       "      <th>tokens_sentences</th>\n",
       "      <th>POS_tokens</th>\n",
       "      <th>tokens_sentences_lemmatized</th>\n",
       "      <th>tokens</th>\n",
       "      <th>articles</th>\n",
       "    </tr>\n",
       "  </thead>\n",
       "  <tbody>\n",
       "    <tr>\n",
       "      <th>0</th>\n",
       "      <td>Image copyright PA/EPA Image caption Oligarch ...</td>\n",
       "      <td>en</td>\n",
       "      <td>[Image copyright PA/EPA Image caption Oligarch...</td>\n",
       "      <td>[[Image, copyright, PA/EPA, Image, caption, Ol...</td>\n",
       "      <td>[[(Image, NN), (copyright, NN), (PA/EPA, NNP),...</td>\n",
       "      <td>[[Image, copyright, PA/EPA, Image, caption, Ol...</td>\n",
       "      <td>[oligarch, roman, abramovich, pm, dmitry, medv...</td>\n",
       "      <td>Image copyright PA/EPA Image caption Oligarch ...</td>\n",
       "    </tr>\n",
       "    <tr>\n",
       "      <th>1</th>\n",
       "      <td>Russian President Vladimir Putin says a list o...</td>\n",
       "      <td>en</td>\n",
       "      <td>[Russian President Vladimir Putin says a list ...</td>\n",
       "      <td>[[Russian, President, Vladimir, Putin, says, a...</td>\n",
       "      <td>[[(Russian, JJ), (President, NNP), (Vladimir, ...</td>\n",
       "      <td>[[Russian, President, Vladimir, Putin, say, a,...</td>\n",
       "      <td>[russian, president, vladimir, putin, list, of...</td>\n",
       "      <td>Russian President Vladimir Putin says a list o...</td>\n",
       "    </tr>\n",
       "    <tr>\n",
       "      <th>2</th>\n",
       "      <td>The list names 210 top Russians as part of a s...</td>\n",
       "      <td>en</td>\n",
       "      <td>[The list names 210 top Russians as part of a ...</td>\n",
       "      <td>[[The, list, names, 210, top, Russians, as, pa...</td>\n",
       "      <td>[[(The, DT), (list, NN), (names, RB), (210, CD...</td>\n",
       "      <td>[[The, list, names, 210, top, Russians, as, pa...</td>\n",
       "      <td>[list, names, top, russians, part, sanction, l...</td>\n",
       "      <td>The list names 210 top Russians as part of a s...</td>\n",
       "    </tr>\n",
       "    <tr>\n",
       "      <th>3</th>\n",
       "      <td>However, the US stressed those named were not ...</td>\n",
       "      <td>en</td>\n",
       "      <td>[However, the US stressed those named were not...</td>\n",
       "      <td>[[However, ,, the, US, stressed, those, named,...</td>\n",
       "      <td>[[(However, RB), (,, ,), (the, DT), (US, NNP),...</td>\n",
       "      <td>[[However, ,, the, US, stress, those, name, be...</td>\n",
       "      <td>[however, us, stress, name, subject, new, sanc...</td>\n",
       "      <td>However, the US stressed those named were not ...</td>\n",
       "    </tr>\n",
       "    <tr>\n",
       "      <th>4</th>\n",
       "      <td>Mr Putin said the list was an unfriendly act t...</td>\n",
       "      <td>en</td>\n",
       "      <td>[Mr Putin said the list was an unfriendly act ...</td>\n",
       "      <td>[[Mr, Putin, said, the, list, was, an, unfrien...</td>\n",
       "      <td>[[(Mr, NNP), (Putin, NNP), (said, VBD), (the, ...</td>\n",
       "      <td>[[Mr, Putin, say, the, list, be, an, unfriendl...</td>\n",
       "      <td>[putin, list, unfriendly, act, complicate, tie...</td>\n",
       "      <td>Mr Putin said the list was an unfriendly act t...</td>\n",
       "    </tr>\n",
       "  </tbody>\n",
       "</table>\n",
       "</div>"
      ],
      "text/plain": [
       "                                       articles,lang lang  \\\n",
       "0  Image copyright PA/EPA Image caption Oligarch ...   en   \n",
       "1  Russian President Vladimir Putin says a list o...   en   \n",
       "2  The list names 210 top Russians as part of a s...   en   \n",
       "3  However, the US stressed those named were not ...   en   \n",
       "4  Mr Putin said the list was an unfriendly act t...   en   \n",
       "\n",
       "                                           sentences  \\\n",
       "0  [Image copyright PA/EPA Image caption Oligarch...   \n",
       "1  [Russian President Vladimir Putin says a list ...   \n",
       "2  [The list names 210 top Russians as part of a ...   \n",
       "3  [However, the US stressed those named were not...   \n",
       "4  [Mr Putin said the list was an unfriendly act ...   \n",
       "\n",
       "                                    tokens_sentences  \\\n",
       "0  [[Image, copyright, PA/EPA, Image, caption, Ol...   \n",
       "1  [[Russian, President, Vladimir, Putin, says, a...   \n",
       "2  [[The, list, names, 210, top, Russians, as, pa...   \n",
       "3  [[However, ,, the, US, stressed, those, named,...   \n",
       "4  [[Mr, Putin, said, the, list, was, an, unfrien...   \n",
       "\n",
       "                                          POS_tokens  \\\n",
       "0  [[(Image, NN), (copyright, NN), (PA/EPA, NNP),...   \n",
       "1  [[(Russian, JJ), (President, NNP), (Vladimir, ...   \n",
       "2  [[(The, DT), (list, NN), (names, RB), (210, CD...   \n",
       "3  [[(However, RB), (,, ,), (the, DT), (US, NNP),...   \n",
       "4  [[(Mr, NNP), (Putin, NNP), (said, VBD), (the, ...   \n",
       "\n",
       "                         tokens_sentences_lemmatized  \\\n",
       "0  [[Image, copyright, PA/EPA, Image, caption, Ol...   \n",
       "1  [[Russian, President, Vladimir, Putin, say, a,...   \n",
       "2  [[The, list, names, 210, top, Russians, as, pa...   \n",
       "3  [[However, ,, the, US, stress, those, name, be...   \n",
       "4  [[Mr, Putin, say, the, list, be, an, unfriendl...   \n",
       "\n",
       "                                              tokens  \\\n",
       "0  [oligarch, roman, abramovich, pm, dmitry, medv...   \n",
       "1  [russian, president, vladimir, putin, list, of...   \n",
       "2  [list, names, top, russians, part, sanction, l...   \n",
       "3  [however, us, stress, name, subject, new, sanc...   \n",
       "4  [putin, list, unfriendly, act, complicate, tie...   \n",
       "\n",
       "                                            articles  \n",
       "0  Image copyright PA/EPA Image caption Oligarch ...  \n",
       "1  Russian President Vladimir Putin says a list o...  \n",
       "2  The list names 210 top Russians as part of a s...  \n",
       "3  However, the US stressed those named were not ...  \n",
       "4  Mr Putin said the list was an unfriendly act t...  "
      ]
     },
     "execution_count": 82,
     "metadata": {},
     "output_type": "execute_result"
    }
   ],
   "source": [
    "data.head()"
   ]
  },
  {
   "cell_type": "markdown",
   "metadata": {},
   "source": [
    "### Prepare objects for LDA gensim implementation"
   ]
  },
  {
   "cell_type": "code",
   "execution_count": 47,
   "metadata": {},
   "outputs": [],
   "source": [
    "from gensim import corpora"
   ]
  },
  {
   "cell_type": "code",
   "execution_count": 48,
   "metadata": {},
   "outputs": [],
   "source": [
    "dictionary_LDA = corpora.Dictionary(tokens)\n",
    "dictionary_LDA.filter_extremes(no_below=3)\n",
    "corpus = [dictionary_LDA.doc2bow(tok) for tok in tokens]"
   ]
  },
  {
   "cell_type": "markdown",
   "metadata": {},
   "source": [
    "### Running LDA"
   ]
  },
  {
   "cell_type": "code",
   "execution_count": 49,
   "metadata": {},
   "outputs": [],
   "source": [
    "from gensim import models\n",
    "import numpy as np"
   ]
  },
  {
   "cell_type": "code",
   "execution_count": 50,
   "metadata": {},
   "outputs": [
    {
     "name": "stdout",
     "output_type": "stream",
     "text": [
      "Wall time: 2.27 s\n"
     ]
    }
   ],
   "source": [
    "\n",
    "np.random.seed(123456)\n",
    "num_topics = 20\n",
    "%time lda_model = models.LdaModel(corpus, num_topics=num_topics, \\\n",
    "                                  id2word=dictionary_LDA, \\\n",
    "                                  passes=4, alpha=[0.01]*num_topics, \\\n",
    "                                  eta=[0.01]*len(dictionary_LDA.keys()))"
   ]
  },
  {
   "cell_type": "markdown",
   "metadata": {},
   "source": [
    "### Quick exploration of LDA results"
   ]
  },
  {
   "cell_type": "markdown",
   "metadata": {},
   "source": [
    "### Looking at topics"
   ]
  },
  {
   "cell_type": "code",
   "execution_count": 52,
   "metadata": {},
   "outputs": [
    {
     "name": "stdout",
     "output_type": "stream",
     "text": [
      "0: 0.019*\"news\" + 0.016*\"restaurant\" + 0.014*\"people\" + 0.012*\"change\" + 0.012*\"majority\" + 0.012*\"million\" + 0.012*\"pa\" + 0.012*\"woman\" + 0.012*\"arianespace\" + 0.012*\"uk\" + 0.011*\"new\" + 0.010*\"body\" + 0.009*\"could\" + 0.008*\"team\" + 0.008*\"spend_hour\" + 0.008*\"system\" + 0.008*\"santorini\" + 0.008*\"move\" + 0.008*\"however\" + 0.008*\"year\"\n",
      "\n",
      "1: 0.015*\"us\" + 0.011*\"story\" + 0.011*\"list\" + 0.010*\"become\" + 0.009*\"publish\" + 0.008*\"mean\" + 0.007*\"even\" + 0.007*\"life\" + 0.007*\"reach\" + 0.007*\"russian\" + 0.006*\"america\" + 0.006*\"trump\" + 0.006*\"start\" + 0.006*\"include\" + 0.006*\"law\" + 0.006*\"chief\" + 0.006*\"part\" + 0.006*\"football\" + 0.006*\"kind\" + 0.006*\"top\"\n",
      "\n",
      "2: 0.021*\"less\" + 0.018*\"likely\" + 0.014*\"tell\" + 0.013*\"afp\" + 0.012*\"work\" + 0.011*\"give\" + 0.011*\"social_medium_platform\" + 0.010*\"orbit\" + 0.010*\"economic\" + 0.010*\"often\" + 0.007*\"long\" + 0.007*\"short\" + 0.007*\"model\" + 0.007*\"magazine\" + 0.007*\"report\" + 0.007*\"child\" + 0.007*\"strong\" + 0.007*\"final\" + 0.007*\"sleep\" + 0.007*\"new\"\n",
      "\n",
      "3: 0.036*\"work\" + 0.015*\"well\" + 0.012*\"human\" + 0.012*\"media_playback_unsupported_device\" + 0.011*\"could\" + 0.010*\"government\" + 0.010*\"story\" + 0.010*\"media\" + 0.009*\"child\" + 0.008*\"journalist\" + 0.008*\"still\" + 0.008*\"us\" + 0.007*\"brexit\" + 0.007*\"end\" + 0.007*\"job\" + 0.007*\"meet\" + 0.007*\"list\" + 0.007*\"include\" + 0.007*\"youngman\" + 0.007*\"firm\"\n",
      "\n",
      "4: 0.016*\"government\" + 0.014*\"end\" + 0.014*\"light\" + 0.012*\"year\" + 0.012*\"system\" + 0.012*\"santorini\" + 0.010*\"russia\" + 0.010*\"section\" + 0.009*\"bring\" + 0.009*\"home\" + 0.009*\"star\" + 0.009*\"spend\" + 0.009*\"release\" + 0.009*\"time\" + 0.008*\"us\" + 0.006*\"people\" + 0.006*\"company\" + 0.006*\"innogy\" + 0.006*\"enter\" + 0.006*\"chance\"\n",
      "\n",
      "5: 0.019*\"benefit\" + 0.016*\"alzheimer\" + 0.010*\"treatment\" + 0.010*\"parent\" + 0.010*\"originate\" + 0.010*\"start\" + 0.009*\"story\" + 0.009*\"study\" + 0.009*\"keaton\" + 0.009*\"allen\" + 0.008*\"company\" + 0.007*\"much\" + 0.007*\"government\" + 0.007*\"fasting\" + 0.007*\"allegation\" + 0.007*\"level\" + 0.007*\"drink\" + 0.007*\"play\" + 0.007*\"able\" + 0.007*\"figure\"\n",
      "\n",
      "6: 0.018*\"start\" + 0.015*\"design\" + 0.012*\"uk\" + 0.011*\"list\" + 0.011*\"call\" + 0.010*\"plan\" + 0.009*\"hear\" + 0.009*\"hush\" + 0.009*\"idea\" + 0.009*\"play\" + 0.009*\"turn\" + 0.009*\"lose\" + 0.009*\"really\" + 0.009*\"court\" + 0.008*\"couple\" + 0.008*\"grow\" + 0.008*\"ms_watkins\" + 0.007*\"day\" + 0.007*\"island\" + 0.006*\"swedish\"\n",
      "\n",
      "7: 0.021*\"show\" + 0.015*\"us\" + 0.014*\"two\" + 0.014*\"could\" + 0.012*\"people\" + 0.010*\"first\" + 0.009*\"age\" + 0.009*\"brexit\" + 0.009*\"call\" + 0.009*\"tell\" + 0.009*\"week\" + 0.009*\"right\" + 0.008*\"duchess\" + 0.008*\"year\" + 0.008*\"couple\" + 0.008*\"time\" + 0.007*\"woman\" + 0.007*\"place\" + 0.007*\"least\" + 0.007*\"might\"\n",
      "\n",
      "8: 0.011*\"trump\" + 0.009*\"country\" + 0.009*\"design\" + 0.009*\"speech\" + 0.009*\"first\" + 0.009*\"include\" + 0.009*\"company\" + 0.007*\"chief\" + 0.007*\"journalist\" + 0.007*\"last_year\" + 0.007*\"less\" + 0.007*\"early\" + 0.007*\"ensure\" + 0.007*\"look\" + 0.007*\"grow\" + 0.007*\"claim\" + 0.007*\"state\" + 0.007*\"famous\" + 0.007*\"deep\" + 0.007*\"yahsat\"\n",
      "\n",
      "9: 0.016*\"time\" + 0.016*\"hush\" + 0.015*\"report\" + 0.014*\"people\" + 0.012*\"game\" + 0.011*\"drug\" + 0.011*\"rating\" + 0.011*\"us\" + 0.011*\"facebook\" + 0.010*\"manage\" + 0.010*\"launch\" + 0.010*\"restaurant\" + 0.009*\"child\" + 0.009*\"become\" + 0.008*\"retail\" + 0.008*\"brand\" + 0.008*\"find\" + 0.008*\"government\" + 0.008*\"year\" + 0.008*\"step\"\n",
      "\n",
      "10: 0.017*\"include\" + 0.017*\"health\" + 0.015*\"expect\" + 0.013*\"sleep\" + 0.011*\"report\" + 0.010*\"explain\" + 0.010*\"sign\" + 0.010*\"claim\" + 0.010*\"government\" + 0.010*\"well\" + 0.010*\"good\" + 0.010*\"first\" + 0.010*\"night\" + 0.010*\"steal\" + 0.009*\"body\" + 0.007*\"lighting\" + 0.007*\"linear\" + 0.007*\"represent\" + 0.007*\"already\" + 0.007*\"much\"\n",
      "\n",
      "11: 0.050*\"images\" + 0.017*\"day\" + 0.015*\"number\" + 0.015*\"office\" + 0.013*\"could\" + 0.012*\"game\" + 0.012*\"year\" + 0.012*\"find\" + 0.012*\"people\" + 0.012*\"ban\" + 0.011*\"correspondent\" + 0.011*\"analysis\" + 0.011*\"ticket\" + 0.008*\"us\" + 0.008*\"give\" + 0.008*\"focus\" + 0.008*\"experience\" + 0.008*\"productivity\" + 0.008*\"police\" + 0.008*\"old_woman\"\n",
      "\n",
      "12: 0.015*\"light\" + 0.015*\"much\" + 0.013*\"help\" + 0.013*\"many\" + 0.012*\"move\" + 0.012*\"bed\" + 0.010*\"system\" + 0.010*\"us\" + 0.009*\"long\" + 0.009*\"article\" + 0.009*\"fuel\" + 0.009*\"immediately\" + 0.009*\"epa\" + 0.009*\"time\" + 0.006*\"clear\" + 0.006*\"effort\" + 0.006*\"form\" + 0.006*\"look\" + 0.006*\"another\" + 0.006*\"track\"\n",
      "\n",
      "13: 0.015*\"us\" + 0.013*\"facebook\" + 0.013*\"since\" + 0.013*\"first\" + 0.011*\"design\" + 0.010*\"switch\" + 0.010*\"young_child\" + 0.010*\"time\" + 0.010*\"university\" + 0.009*\"around_world\" + 0.008*\"simply\" + 0.007*\"instagram\" + 0.007*\"create\" + 0.007*\"join\" + 0.007*\"least\" + 0.007*\"agree\" + 0.007*\"address\" + 0.007*\"others\" + 0.007*\"potentially\" + 0.007*\"data\"\n",
      "\n",
      "14: 0.017*\"us\" + 0.012*\"report\" + 0.012*\"reuters\" + 0.010*\"could\" + 0.010*\"life\" + 0.010*\"child\" + 0.010*\"food\" + 0.010*\"way\" + 0.010*\"chief_executive\" + 0.008*\"old\" + 0.008*\"judge\" + 0.008*\"president\" + 0.008*\"big\" + 0.008*\"give\" + 0.008*\"add\" + 0.008*\"little\" + 0.008*\"strong\" + 0.008*\"hvmn\" + 0.008*\"tell\" + 0.007*\"study\"\n",
      "\n",
      "15: 0.017*\"show\" + 0.016*\"end\" + 0.015*\"parker\" + 0.013*\"russia\" + 0.011*\"people\" + 0.010*\"attend\" + 0.009*\"city\" + 0.009*\"yet\" + 0.009*\"day\" + 0.009*\"top\" + 0.009*\"guide\" + 0.009*\"include\" + 0.009*\"current\" + 0.009*\"michelin_guide\" + 0.009*\"government\" + 0.009*\"rise\" + 0.009*\"way\" + 0.009*\"world\" + 0.009*\"new\" + 0.009*\"another\"\n",
      "\n",
      "16: 0.020*\"might\" + 0.013*\"follow\" + 0.013*\"video\" + 0.010*\"could\" + 0.010*\"world\" + 0.010*\"sunset\" + 0.010*\"year\" + 0.010*\"instagram\" + 0.010*\"store\" + 0.010*\"look\" + 0.010*\"twitter\" + 0.007*\"never\" + 0.007*\"trump\" + 0.007*\"economic\" + 0.007*\"cash\" + 0.007*\"put\" + 0.007*\"leader\" + 0.007*\"day\" + 0.007*\"independence\" + 0.007*\"whether\"\n",
      "\n",
      "17: 0.027*\"people\" + 0.021*\"name\" + 0.015*\"work\" + 0.014*\"case\" + 0.013*\"home\" + 0.013*\"india\" + 0.011*\"future\" + 0.010*\"believe\" + 0.008*\"many\" + 0.008*\"far\" + 0.008*\"clear\" + 0.008*\"add\" + 0.008*\"visual\" + 0.008*\"become\" + 0.008*\"patient\" + 0.008*\"lavonne\" + 0.008*\"two\" + 0.008*\"new\" + 0.008*\"think\" + 0.008*\"hot\"\n",
      "\n",
      "18: 0.017*\"us\" + 0.012*\"government\" + 0.012*\"new\" + 0.010*\"data\" + 0.009*\"tell\" + 0.009*\"local\" + 0.009*\"hit\" + 0.009*\"pollution\" + 0.008*\"could\" + 0.008*\"part\" + 0.007*\"leave\" + 0.007*\"london\" + 0.007*\"month\" + 0.007*\"story\" + 0.007*\"model\" + 0.007*\"research\" + 0.007*\"think\" + 0.007*\"give\" + 0.007*\"young\" + 0.007*\"right\"\n",
      "\n",
      "19: 0.021*\"company\" + 0.017*\"feel\" + 0.012*\"look\" + 0.009*\"able\" + 0.009*\"set\" + 0.009*\"year\" + 0.009*\"meet\" + 0.009*\"ask\" + 0.009*\"good\" + 0.009*\"accord\" + 0.009*\"longer\" + 0.007*\"island\" + 0.006*\"chance\" + 0.006*\"woman\" + 0.006*\"process\" + 0.006*\"week\" + 0.006*\"initially\" + 0.006*\"private\" + 0.006*\"capital\" + 0.006*\"path\"\n",
      "\n"
     ]
    }
   ],
   "source": [
    "for i,topic in lda_model.show_topics(formatted=True, num_topics=num_topics, num_words=20):\n",
    "    print(str(i)+\": \"+ topic)\n",
    "    print()"
   ]
  },
  {
   "cell_type": "markdown",
   "metadata": {},
   "source": [
    "### Allocating topics to documents"
   ]
  },
  {
   "cell_type": "code",
   "execution_count": 57,
   "metadata": {},
   "outputs": [],
   "source": [
    "data['articles']= data['articles,lang']"
   ]
  },
  {
   "cell_type": "code",
   "execution_count": 61,
   "metadata": {},
   "outputs": [
    {
     "name": "stdout",
     "output_type": "stream",
     "text": [
      "0    Image copyright PA/EPA Image caption Oligarch ...\n",
      "1    Russian President Vladimir Putin says a list o...\n",
      "2    The list names 210 top Russians as part of a s...\n",
      "3    However, the US stressed those named were not ...\n",
      "4    Mr Putin said the list was an unfriendly act t...\n",
      "Name: articles, dtype: object\n"
     ]
    }
   ],
   "source": [
    "print(data.articles.loc[0:4][:500])"
   ]
  },
  {
   "cell_type": "code",
   "execution_count": 63,
   "metadata": {},
   "outputs": [
    {
     "data": {
      "text/plain": [
       "[(1, 0.9844252)]"
      ]
     },
     "execution_count": 63,
     "metadata": {},
     "output_type": "execute_result"
    }
   ],
   "source": [
    "lda_model[corpus[1]]"
   ]
  },
  {
   "cell_type": "markdown",
   "metadata": {},
   "source": [
    "### Predicting topics on unseen documents"
   ]
  },
  {
   "cell_type": "code",
   "execution_count": 64,
   "metadata": {},
   "outputs": [],
   "source": [
    "document = '''Eric Tucker, a 35-year-old co-founder of a marketing company in Austin, Tex., had just about 40 Twitter followers. But his recent tweet about paid protesters being bused to demonstrations against President-elect Donald J. Trump fueled a nationwide conspiracy theory — one that Mr. Trump joined in promoting. \n",
    "\n",
    "Mr. Tucker's post was shared at least 16,000 times on Twitter and more than 350,000 times on Facebook. The problem is that Mr. Tucker got it wrong. There were no such buses packed with paid protesters.\n",
    "\n",
    "But that didn't matter.\n",
    "\n",
    "While some fake news is produced purposefully by teenagers in the Balkans or entrepreneurs in the United States seeking to make money from advertising, false information can also arise from misinformed social media posts by regular people that are seized on and spread through a hyperpartisan blogosphere.\n",
    "\n",
    "Here, The New York Times deconstructs how Mr. Tucker’s now-deleted declaration on Twitter the night after the election turned into a fake-news phenomenon. It is an example of how, in an ever-connected world where speed often takes precedence over truth, an observation by a private citizen can quickly become a talking point, even as it is being proved false.'''"
   ]
  },
  {
   "cell_type": "code",
   "execution_count": 65,
   "metadata": {},
   "outputs": [
    {
     "data": {
      "text/html": [
       "<div>\n",
       "<style scoped>\n",
       "    .dataframe tbody tr th:only-of-type {\n",
       "        vertical-align: middle;\n",
       "    }\n",
       "\n",
       "    .dataframe tbody tr th {\n",
       "        vertical-align: top;\n",
       "    }\n",
       "\n",
       "    .dataframe thead th {\n",
       "        text-align: right;\n",
       "    }\n",
       "</style>\n",
       "<table border=\"1\" class=\"dataframe\">\n",
       "  <thead>\n",
       "    <tr style=\"text-align: right;\">\n",
       "      <th></th>\n",
       "      <th>topic #</th>\n",
       "      <th>weight</th>\n",
       "      <th>words in topic</th>\n",
       "    </tr>\n",
       "  </thead>\n",
       "  <tbody>\n",
       "    <tr>\n",
       "      <th>0</th>\n",
       "      <td>1</td>\n",
       "      <td>0.26</td>\n",
       "      <td>0.015*\"us\" + 0.011*\"story\" + 0.011*\"list\" + 0....</td>\n",
       "    </tr>\n",
       "    <tr>\n",
       "      <th>1</th>\n",
       "      <td>3</td>\n",
       "      <td>0.12</td>\n",
       "      <td>0.036*\"work\" + 0.015*\"well\" + 0.012*\"human\" + ...</td>\n",
       "    </tr>\n",
       "    <tr>\n",
       "      <th>2</th>\n",
       "      <td>10</td>\n",
       "      <td>0.20</td>\n",
       "      <td>0.017*\"include\" + 0.017*\"health\" + 0.015*\"expe...</td>\n",
       "    </tr>\n",
       "    <tr>\n",
       "      <th>3</th>\n",
       "      <td>14</td>\n",
       "      <td>0.14</td>\n",
       "      <td>0.017*\"us\" + 0.012*\"report\" + 0.012*\"reuters\" ...</td>\n",
       "    </tr>\n",
       "    <tr>\n",
       "      <th>4</th>\n",
       "      <td>16</td>\n",
       "      <td>0.26</td>\n",
       "      <td>0.020*\"might\" + 0.013*\"follow\" + 0.013*\"video\"...</td>\n",
       "    </tr>\n",
       "  </tbody>\n",
       "</table>\n",
       "</div>"
      ],
      "text/plain": [
       "   topic #  weight                                     words in topic\n",
       "0        1    0.26  0.015*\"us\" + 0.011*\"story\" + 0.011*\"list\" + 0....\n",
       "1        3    0.12  0.036*\"work\" + 0.015*\"well\" + 0.012*\"human\" + ...\n",
       "2       10    0.20  0.017*\"include\" + 0.017*\"health\" + 0.015*\"expe...\n",
       "3       14    0.14  0.017*\"us\" + 0.012*\"report\" + 0.012*\"reuters\" ...\n",
       "4       16    0.26  0.020*\"might\" + 0.013*\"follow\" + 0.013*\"video\"..."
      ]
     },
     "execution_count": 65,
     "metadata": {},
     "output_type": "execute_result"
    }
   ],
   "source": [
    "tokens = word_tokenize(document)\n",
    "topics = lda_model.show_topics(formatted=True, num_topics=num_topics, num_words=20)\n",
    "pd.DataFrame([(el[0], round(el[1],2), topics[el[0]][1]) for el in lda_model[dictionary_LDA.doc2bow(tokens)]], columns=['topic #', 'weight', 'words in topic'])"
   ]
  },
  {
   "cell_type": "markdown",
   "metadata": {},
   "source": [
    "### Advanced exploration of LDA results"
   ]
  },
  {
   "cell_type": "markdown",
   "metadata": {},
   "source": [
    "### Allocation of topics in all documents"
   ]
  },
  {
   "cell_type": "code",
   "execution_count": 66,
   "metadata": {},
   "outputs": [],
   "source": [
    "topics = [lda_model[corpus[i]] for i in range(len(data))]"
   ]
  },
  {
   "cell_type": "code",
   "execution_count": 84,
   "metadata": {},
   "outputs": [
    {
     "data": {
      "text/html": [
       "<div>\n",
       "<style scoped>\n",
       "    .dataframe tbody tr th:only-of-type {\n",
       "        vertical-align: middle;\n",
       "    }\n",
       "\n",
       "    .dataframe tbody tr th {\n",
       "        vertical-align: top;\n",
       "    }\n",
       "\n",
       "    .dataframe thead th {\n",
       "        text-align: right;\n",
       "    }\n",
       "</style>\n",
       "<table border=\"1\" class=\"dataframe\">\n",
       "  <thead>\n",
       "    <tr style=\"text-align: right;\">\n",
       "      <th></th>\n",
       "      <th>0</th>\n",
       "      <th>1</th>\n",
       "      <th>2</th>\n",
       "      <th>3</th>\n",
       "      <th>4</th>\n",
       "      <th>5</th>\n",
       "      <th>6</th>\n",
       "      <th>7</th>\n",
       "      <th>8</th>\n",
       "      <th>9</th>\n",
       "      <th>10</th>\n",
       "      <th>11</th>\n",
       "      <th>12</th>\n",
       "      <th>13</th>\n",
       "      <th>14</th>\n",
       "      <th>15</th>\n",
       "      <th>16</th>\n",
       "      <th>17</th>\n",
       "      <th>18</th>\n",
       "      <th>19</th>\n",
       "    </tr>\n",
       "  </thead>\n",
       "  <tbody>\n",
       "    <tr>\n",
       "      <th>0</th>\n",
       "      <td>NaN</td>\n",
       "      <td>NaN</td>\n",
       "      <td>NaN</td>\n",
       "      <td>NaN</td>\n",
       "      <td>NaN</td>\n",
       "      <td>NaN</td>\n",
       "      <td>NaN</td>\n",
       "      <td>NaN</td>\n",
       "      <td>NaN</td>\n",
       "      <td>0.0385366</td>\n",
       "      <td>NaN</td>\n",
       "      <td>NaN</td>\n",
       "      <td>NaN</td>\n",
       "      <td>NaN</td>\n",
       "      <td>NaN</td>\n",
       "      <td>0.0913012</td>\n",
       "      <td>NaN</td>\n",
       "      <td>NaN</td>\n",
       "      <td>0.869287</td>\n",
       "      <td>NaN</td>\n",
       "    </tr>\n",
       "  </tbody>\n",
       "</table>\n",
       "</div>"
      ],
      "text/plain": [
       "     0    1    2    3    4    5    6    7    8          9   10   11   12   13  \\\n",
       "0  NaN  NaN  NaN  NaN  NaN  NaN  NaN  NaN  NaN  0.0385366  NaN  NaN  NaN  NaN   \n",
       "\n",
       "    14         15   16   17        18   19  \n",
       "0  NaN  0.0913012  NaN  NaN  0.869287  NaN  "
      ]
     },
     "execution_count": 84,
     "metadata": {},
     "output_type": "execute_result"
    }
   ],
   "source": [
    "def topics_document_to_dataframe(topics_document, num_topics):\n",
    "    res = pd.DataFrame(columns=range(num_topics))\n",
    "    for topic_weight in topics_document:\n",
    "        res.loc[0, topic_weight[0]] = topic_weight[1]\n",
    "    return res\n",
    "\n",
    "topics_document_to_dataframe([(9, 0.03853655432967504), (15, 0.09130117862212643), (18, 0.8692868808484044)], 20)"
   ]
  },
  {
   "cell_type": "code",
   "execution_count": 68,
   "metadata": {},
   "outputs": [],
   "source": [
    "# Like TF-IDF, create a matrix of topic weighting, with documents as rows and topics as columns\n",
    "document_topic = \\\n",
    "pd.concat([topics_document_to_dataframe(topics_document, num_topics=num_topics) for topics_document in topics]) \\\n",
    "  .reset_index(drop=True).fillna(0)"
   ]
  },
  {
   "cell_type": "code",
   "execution_count": 69,
   "metadata": {},
   "outputs": [
    {
     "data": {
      "text/html": [
       "<div>\n",
       "<style scoped>\n",
       "    .dataframe tbody tr th:only-of-type {\n",
       "        vertical-align: middle;\n",
       "    }\n",
       "\n",
       "    .dataframe tbody tr th {\n",
       "        vertical-align: top;\n",
       "    }\n",
       "\n",
       "    .dataframe thead th {\n",
       "        text-align: right;\n",
       "    }\n",
       "</style>\n",
       "<table border=\"1\" class=\"dataframe\">\n",
       "  <thead>\n",
       "    <tr style=\"text-align: right;\">\n",
       "      <th></th>\n",
       "      <th>0</th>\n",
       "      <th>1</th>\n",
       "      <th>2</th>\n",
       "      <th>3</th>\n",
       "      <th>4</th>\n",
       "      <th>5</th>\n",
       "      <th>6</th>\n",
       "      <th>7</th>\n",
       "      <th>8</th>\n",
       "      <th>9</th>\n",
       "      <th>10</th>\n",
       "      <th>11</th>\n",
       "      <th>12</th>\n",
       "      <th>13</th>\n",
       "      <th>14</th>\n",
       "      <th>15</th>\n",
       "      <th>16</th>\n",
       "      <th>17</th>\n",
       "      <th>18</th>\n",
       "      <th>19</th>\n",
       "    </tr>\n",
       "  </thead>\n",
       "  <tbody>\n",
       "    <tr>\n",
       "      <th>0</th>\n",
       "      <td>0.0</td>\n",
       "      <td>0.913635</td>\n",
       "      <td>0.0</td>\n",
       "      <td>0.0</td>\n",
       "      <td>0.0</td>\n",
       "      <td>0.0</td>\n",
       "      <td>0.0</td>\n",
       "      <td>0.0</td>\n",
       "      <td>0.0</td>\n",
       "      <td>0.0</td>\n",
       "      <td>0.0</td>\n",
       "      <td>0.0</td>\n",
       "      <td>0.0</td>\n",
       "      <td>0.0</td>\n",
       "      <td>0.00000</td>\n",
       "      <td>0.00000</td>\n",
       "      <td>0.0</td>\n",
       "      <td>0.0</td>\n",
       "      <td>0.0</td>\n",
       "      <td>0.0</td>\n",
       "    </tr>\n",
       "    <tr>\n",
       "      <th>1</th>\n",
       "      <td>0.0</td>\n",
       "      <td>0.984425</td>\n",
       "      <td>0.0</td>\n",
       "      <td>0.0</td>\n",
       "      <td>0.0</td>\n",
       "      <td>0.0</td>\n",
       "      <td>0.0</td>\n",
       "      <td>0.0</td>\n",
       "      <td>0.0</td>\n",
       "      <td>0.0</td>\n",
       "      <td>0.0</td>\n",
       "      <td>0.0</td>\n",
       "      <td>0.0</td>\n",
       "      <td>0.0</td>\n",
       "      <td>0.00000</td>\n",
       "      <td>0.00000</td>\n",
       "      <td>0.0</td>\n",
       "      <td>0.0</td>\n",
       "      <td>0.0</td>\n",
       "      <td>0.0</td>\n",
       "    </tr>\n",
       "    <tr>\n",
       "      <th>2</th>\n",
       "      <td>0.0</td>\n",
       "      <td>0.973610</td>\n",
       "      <td>0.0</td>\n",
       "      <td>0.0</td>\n",
       "      <td>0.0</td>\n",
       "      <td>0.0</td>\n",
       "      <td>0.0</td>\n",
       "      <td>0.0</td>\n",
       "      <td>0.0</td>\n",
       "      <td>0.0</td>\n",
       "      <td>0.0</td>\n",
       "      <td>0.0</td>\n",
       "      <td>0.0</td>\n",
       "      <td>0.0</td>\n",
       "      <td>0.00000</td>\n",
       "      <td>0.00000</td>\n",
       "      <td>0.0</td>\n",
       "      <td>0.0</td>\n",
       "      <td>0.0</td>\n",
       "      <td>0.0</td>\n",
       "    </tr>\n",
       "    <tr>\n",
       "      <th>3</th>\n",
       "      <td>0.0</td>\n",
       "      <td>0.000000</td>\n",
       "      <td>0.0</td>\n",
       "      <td>0.0</td>\n",
       "      <td>0.0</td>\n",
       "      <td>0.0</td>\n",
       "      <td>0.0</td>\n",
       "      <td>0.0</td>\n",
       "      <td>0.0</td>\n",
       "      <td>0.0</td>\n",
       "      <td>0.0</td>\n",
       "      <td>0.0</td>\n",
       "      <td>0.0</td>\n",
       "      <td>0.0</td>\n",
       "      <td>0.00000</td>\n",
       "      <td>0.96346</td>\n",
       "      <td>0.0</td>\n",
       "      <td>0.0</td>\n",
       "      <td>0.0</td>\n",
       "      <td>0.0</td>\n",
       "    </tr>\n",
       "    <tr>\n",
       "      <th>4</th>\n",
       "      <td>0.0</td>\n",
       "      <td>0.000000</td>\n",
       "      <td>0.0</td>\n",
       "      <td>0.0</td>\n",
       "      <td>0.0</td>\n",
       "      <td>0.0</td>\n",
       "      <td>0.0</td>\n",
       "      <td>0.0</td>\n",
       "      <td>0.0</td>\n",
       "      <td>0.0</td>\n",
       "      <td>0.0</td>\n",
       "      <td>0.0</td>\n",
       "      <td>0.0</td>\n",
       "      <td>0.0</td>\n",
       "      <td>0.94062</td>\n",
       "      <td>0.00000</td>\n",
       "      <td>0.0</td>\n",
       "      <td>0.0</td>\n",
       "      <td>0.0</td>\n",
       "      <td>0.0</td>\n",
       "    </tr>\n",
       "  </tbody>\n",
       "</table>\n",
       "</div>"
      ],
      "text/plain": [
       "     0         1    2    3    4    5    6    7    8    9   10   11   12   13  \\\n",
       "0  0.0  0.913635  0.0  0.0  0.0  0.0  0.0  0.0  0.0  0.0  0.0  0.0  0.0  0.0   \n",
       "1  0.0  0.984425  0.0  0.0  0.0  0.0  0.0  0.0  0.0  0.0  0.0  0.0  0.0  0.0   \n",
       "2  0.0  0.973610  0.0  0.0  0.0  0.0  0.0  0.0  0.0  0.0  0.0  0.0  0.0  0.0   \n",
       "3  0.0  0.000000  0.0  0.0  0.0  0.0  0.0  0.0  0.0  0.0  0.0  0.0  0.0  0.0   \n",
       "4  0.0  0.000000  0.0  0.0  0.0  0.0  0.0  0.0  0.0  0.0  0.0  0.0  0.0  0.0   \n",
       "\n",
       "        14       15   16   17   18   19  \n",
       "0  0.00000  0.00000  0.0  0.0  0.0  0.0  \n",
       "1  0.00000  0.00000  0.0  0.0  0.0  0.0  \n",
       "2  0.00000  0.00000  0.0  0.0  0.0  0.0  \n",
       "3  0.00000  0.96346  0.0  0.0  0.0  0.0  \n",
       "4  0.94062  0.00000  0.0  0.0  0.0  0.0  "
      ]
     },
     "execution_count": 69,
     "metadata": {},
     "output_type": "execute_result"
    }
   ],
   "source": [
    "document_topic.head()\n"
   ]
  },
  {
   "cell_type": "code",
   "execution_count": 70,
   "metadata": {},
   "outputs": [
    {
     "data": {
      "text/plain": [
       "713    0.993014\n",
       "709    0.991441\n",
       "265    0.991037\n",
       "788    0.988271\n",
       "227    0.987499\n",
       "397    0.984425\n",
       "351    0.983035\n",
       "634    0.983035\n",
       "637    0.983035\n",
       "930    0.983035\n",
       "149    0.983035\n",
       "901    0.983035\n",
       "652    0.981372\n",
       "557    0.981372\n",
       "42     0.979347\n",
       "702    0.979347\n",
       "19     0.979347\n",
       "666    0.979347\n",
       "85     0.976828\n",
       "877    0.976828\n",
       "Name: 14, dtype: float64"
      ]
     },
     "execution_count": 70,
     "metadata": {},
     "output_type": "execute_result"
    }
   ],
   "source": [
    "# Which document are about topic 14\n",
    "document_topic.sort_values(14, ascending=False)[14].head(20)"
   ]
  },
  {
   "cell_type": "code",
   "execution_count": 71,
   "metadata": {},
   "outputs": [
    {
     "name": "stdout",
     "output_type": "stream",
     "text": [
      "To be in for a chance of one of the coveted stars, restaurants first have to be in a region Michelin covers. In 2016, it made history by releasing its first-ever Singapore edition, in which it awarded stars to street stalls for the first time.\n"
     ]
    }
   ],
   "source": [
    "print(data.articles.loc[91][:1000])"
   ]
  },
  {
   "cell_type": "markdown",
   "metadata": {},
   "source": [
    "### Looking at the distribution of topics in all documents"
   ]
  },
  {
   "cell_type": "code",
   "execution_count": 72,
   "metadata": {},
   "outputs": [
    {
     "name": "stderr",
     "output_type": "stream",
     "text": [
      "C:\\ProgramData\\Anaconda3\\lib\\site-packages\\statsmodels\\tools\\_testing.py:19: FutureWarning: pandas.util.testing is deprecated. Use the functions in the public API at pandas.testing instead.\n",
      "  import pandas.util.testing as tm\n"
     ]
    },
    {
     "data": {
      "text/plain": [
       "<matplotlib.axes._subplots.AxesSubplot at 0x822f4eb848>"
      ]
     },
     "execution_count": 72,
     "metadata": {},
     "output_type": "execute_result"
    },
    {
     "data": {
      "image/png": "[encoded data removed]",
      "text/plain": [
       "<Figure size 720x1440 with 2 Axes>"
      ]
     },
     "metadata": {},
     "output_type": "display_data"
    }
   ],
   "source": [
    "%matplotlib inline\n",
    "import seaborn as sns; sns.set(rc={'figure.figsize':(10,20)})\n",
    "sns.heatmap(document_topic.loc[document_topic.idxmax(axis=1).sort_values().index])"
   ]
  },
  {
   "cell_type": "code",
   "execution_count": 73,
   "metadata": {},
   "outputs": [
    {
     "data": {
      "text/plain": [
       "<matplotlib.axes._subplots.AxesSubplot at 0x8244202c88>"
      ]
     },
     "execution_count": 73,
     "metadata": {},
     "output_type": "execute_result"
    },
    {
     "data": {
      "image/png": "[encoded data removed]",
      "text/plain": [
       "<Figure size 720x360 with 1 Axes>"
      ]
     },
     "metadata": {},
     "output_type": "display_data"
    }
   ],
   "source": [
    "sns.set(rc={'figure.figsize':(10,5)})\n",
    "document_topic.idxmax(axis=1).value_counts().plot.bar(color='lightblue')"
   ]
  },
  {
   "cell_type": "markdown",
   "metadata": {},
   "source": [
    "### Visualizing topics"
   ]
  },
  {
   "cell_type": "code",
   "execution_count": 78,
   "metadata": {},
   "outputs": [],
   "source": [
    "# https://cran.r-project.org/web/packages/LDAvis/vignettes/details.pdf\n",
    "# Here a short legend to explain the vis:\n",
    "# size of bubble: proportional to the proportions of the topics across the N total tokens in the corpus\n",
    "# red bars: estimated number of times a given term was generated by a given topic\n",
    "# blue bars: overall frequency of each term in the corpus\n",
    "# -- Relevance of words is computed with a parameter lambda\n",
    "# -- Lambda optimal value ~0.6 (https://nlp.stanford.edu/events/illvi2014/papers/sievert-illvi2014.pdf)\n",
    "%matplotlib inline\n",
    "import pyLDAvis\n",
    "import pyLDAvis.gensim\n",
    "\n"
   ]
  },
  {
   "cell_type": "code",
   "execution_count": 79,
   "metadata": {},
   "outputs": [
    {
     "data": {
      "text/html": [
       "\n",
       "<link rel=\"stylesheet\" type=\"text/css\" href=\"https://cdn.rawgit.com/bmabey/pyLDAvis/files/ldavis.v1.0.0.css\">\n",
       "\n",
       "\n",
       "<div id=\"ldavis_el805594929568723087980674\"></div>\n",
       "<script type=\"text/javascript\">\n",
       "\n",
       "var ldavis_el805594929568723087980674_data = {\"mdsDat\": {\"x\": [0.045529820233414856, 0.04851672755963816, -0.011210806478907064, 0.010584196999816421, 0.05992698094443346, 0.0020754779263573928, 0.005826234788162891, 0.01994066832595314, 0.033664634867136216, -0.004464922437491446, -0.06257749729337111, -0.08671169620539516, -0.029897777490948484, -0.007964776276443115, -0.1766111047035851, 0.19034061612707814, -0.07022524149430472, -0.18590017674198248, 0.20163920670036065, 0.017519434650076594], \"y\": [-0.018362995620178606, 0.06700572921309751, -0.13032731499179048, -0.02258866154205323, -0.12040787972994117, -0.06704291873736937, 0.07614331006478149, -0.07588766507570945, 0.17822180215128763, -0.01715196890616887, 0.014499106521253509, 0.07407499529480006, 0.1658963244311074, -0.14171233304246794, 0.08798597282249933, 0.03507090535377759, -0.04798687246662479, -0.0871207571419797, -0.00732656844215076, 0.037017789843830085], \"topics\": [1, 2, 3, 4, 5, 6, 7, 8, 9, 10, 11, 12, 13, 14, 15, 16, 17, 18, 19, 20], \"cluster\": [1, 1, 1, 1, 1, 1, 1, 1, 1, 1, 1, 1, 1, 1, 1, 1, 1, 1, 1, 1], \"Freq\": [6.84724760055542, 6.423471927642822, 6.232551097869873, 6.135706424713135, 5.933429718017578, 5.860709190368652, 5.587667942047119, 5.425246715545654, 5.15843391418457, 4.738407611846924, 4.732104778289795, 4.576787948608398, 4.398161888122559, 4.342336177825928, 4.336885929107666, 4.22550106048584, 4.209960460662842, 3.761881113052368, 3.582975387573242, 3.4905362129211426]}, \"tinfo\": {\"Term\": [\"images\", \"work\", \"people\", \"show\", \"end\", \"less\", \"company\", \"benefit\", \"news\", \"might\", \"start\", \"well\", \"year\", \"story\", \"facebook\", \"name\", \"light\", \"russia\", \"restaurant\", \"government\", \"report\", \"home\", \"hush\", \"system\", \"likely\", \"health\", \"find\", \"game\", \"much\", \"expect\", \"signal\", \"football\", \"appeal\", \"oligarch\", \"forum\", \"english\", \"spot\", \"anomaly\", \"spacecraft\", \"reveal\", \"consequence\", \"union_address\", \"russian\", \"resource\", \"normally\", \"scientist\", \"newsroom\", \"automated_story\", \"president_donald_trump\", \"kind\", \"limit\", \"algorithm\", \"highly\", \"energy\", \"democrats\", \"return\", \"king\", \"chief\", \"deliver\", \"concern\", \"america\", \"publish\", \"mean\", \"story\", \"become\", \"list\", \"reach\", \"law\", \"life\", \"us\", \"top\", \"even\", \"raise\", \"trump\", \"start\", \"part\", \"include\", \"first\", \"online\", \"add\", \"month\", \"presidential\", \"deep\", \"yahsat\", \"september\", \"wrong\", \"ensure\", \"elite\", \"colour\", \"service\", \"famous\", \"bras\", \"exactly\", \"dr\", \"fasting\", \"cognitive\", \"chief\", \"early\", \"read\", \"platform\", \"visit\", \"address\", \"alkahest\", \"gain\", \"describe\", \"instead\", \"american\", \"smart\", \"stimulate\", \"monowi\", \"ultimately\", \"grow\", \"state\", \"speech\", \"trump\", \"journalist\", \"last_year\", \"country\", \"claim\", \"design\", \"company\", \"less\", \"first\", \"include\", \"look\", \"around\", \"help\", \"good\", \"become\", \"give\", \"positive\", \"duke\", \"duchess\", \"significant\", \"trouble\", \"watch\", \"road\", \"promise\", \"guest\", \"award\", \"survivor\", \"machine\", \"care\", \"eugt\", \"particularly\", \"towards\", \"northern\", \"enough\", \"force\", \"least\", \"goal\", \"fight\", \"common\", \"show\", \"couple\", \"full\", \"bill\", \"happen\", \"try\", \"brexiteers\", \"two\", \"eu\", \"age\", \"place\", \"week\", \"increase\", \"china\", \"brexit\", \"right\", \"could\", \"woman\", \"us\", \"call\", \"people\", \"tell\", \"first\", \"late\", \"number\", \"year\", \"might\", \"time\", \"hit\", \"fair\", \"scandal\", \"assault\", \"movement\", \"dawn\", \"pollution\", \"influence\", \"volkswagen\", \"amount\", \"recently\", \"animal\", \"statistic\", \"quality\", \"behind\", \"source\", \"asset\", \"write\", \"local\", \"leave\", \"model\", \"young\", \"aim\", \"comment\", \"enjoy\", \"provide\", \"baby_girl\", \"images_maye\", \"meeting\", \"mark\", \"data\", \"month\", \"research\", \"davos\", \"london\", \"new\", \"us\", \"government\", \"reach\", \"tell\", \"part\", \"right\", \"story\", \"two\", \"could\", \"think\", \"back\", \"many\", \"give\", \"look\", \"online\", \"form\", \"royal\", \"marry\", \"youngman\", \"caatsa\", \"media_playback_unsupported_device\", \"stronghyle\", \"media\", \"human\", \"work\", \"feature\", \"fund\", \"circumstance\", \"hop\", \"trade\", \"well\", \"every\", \"luxury\", \"meet\", \"different\", \"route\", \"trend\", \"gain\", \"vw\", \"target\", \"instead\", \"fit\", \"goldman_bos\", \"shame\", \"sight\", \"plasma\", \"journalist\", \"pick\", \"hard\", \"firm\", \"though\", \"tool\", \"story\", \"job\", \"benefit\", \"island\", \"still\", \"could\", \"child\", \"government\", \"brexit\", \"end\", \"list\", \"include\", \"images\", \"us\", \"help\", \"time\", \"back\", \"people\", \"hvmn\", \"professor\", \"harmful\", \"following\", \"author\", \"organisation\", \"food\", \"chief_executive\", \"client\", \"according\", \"goldman_sachs\", \"meal\", \"live\", \"unlikely\", \"reuters\", \"judge\", \"woo\", \"whose\", \"little\", \"common\", \"often\", \"taste\", \"undone\", \"effort\", \"follower\", \"try\", \"rate\", \"suggest\", \"nature\", \"senior\", \"life\", \"big\", \"strong\", \"control\", \"study\", \"report\", \"way\", \"child\", \"us\", \"old\", \"president\", \"could\", \"add\", \"give\", \"tell\", \"even\", \"include\", \"right\", \"manage\", \"else\", \"improve_sleep\", \"website\", \"retail\", \"pattern\", \"multiple\", \"december\", \"brand\", \"step\", \"rating\", \"donald_trump\", \"kid\", \"drug\", \"let\", \"ability\", \"launch\", \"catch\", \"hush\", \"facebook\", \"messenger_kids\", \"task\", \"market\", \"car\", \"target\", \"manufacturer\", \"family\", \"software\", \"meanwhile\", \"board\", \"restaurant\", \"raise\", \"game\", \"account\", \"content\", \"time\", \"report\", \"people\", \"become\", \"child\", \"find\", \"us\", \"year\", \"government\", \"include\", \"since\", \"mind\", \"uk\", \"among\", \"brexiteers\", \"growth\", \"hot\", \"dementia\", \"refuse\", \"alzheimer_disease\", \"friday\", \"square\", \"india\", \"future\", \"lavonne\", \"patient\", \"visual\", \"frankfurt\", \"middle\", \"name\", \"case\", \"record\", \"taipei\", \"california\", \"king\", \"civilisation\", \"home\", \"dreamers\", \"card\", \"usgs\", \"reform\", \"sexual_assault\", \"reasonable\", \"instagram_handle\", \"extra\", \"warm\", \"rape\", \"people\", \"clear\", \"far\", \"believe\", \"treatment\", \"affect\", \"minoans\", \"work\", \"add\", \"two\", \"become\", \"think\", \"many\", \"new\", \"report\", \"could\", \"much\", \"year\", \"well\", \"instagram\", \"twitter\", \"section\", \"rupert\", \"athens\", \"innogy\", \"bellonias\", \"enter\", \"accuse\", \"spend\", \"chance\", \"tour\", \"settlement\", \"saudi\", \"minoan\", \"degree\", \"elite\", \"burning\", \"scheme\", \"book\", \"advertising\", \"improve_air\", \"korea\", \"wood\", \"bring\", \"power\", \"ban\", \"huge\", \"lighting\", \"morning\", \"final\", \"despite\", \"system\", \"end\", \"russia\", \"release\", \"star\", \"santorini\", \"light\", \"government\", \"home\", \"year\", \"time\", \"us\", \"people\", \"company\", \"transition\", \"designer\", \"good\", \"three_month\", \"ketone\", \"court\", \"room\", \"swedish\", \"sea\", \"turn\", \"probably\", \"drink\", \"substance\", \"five\", \"idea\", \"path\", \"photograph\", \"trust\", \"mobile_phone\", \"husband\", \"investment\", \"reputation\", \"struggle\", \"pm\", \"person\", \"tone\", \"told\", \"refer\", \"sunday\", \"bos\", \"main_interest\", \"radio\", \"ms\", \"lose\", \"start\", \"plan\", \"ms_watkins\", \"hear\", \"play\", \"money\", \"couple\", \"grow\", \"design\", \"really\", \"store\", \"girl\", \"bank\", \"uk\", \"list\", \"hush\", \"call\", \"island\", \"day\", \"remain\", \"could\", \"point\", \"flight\", \"launch\", \"private\", \"photograph\", \"path\", \"manufacturer\", \"whole\", \"wire\", \"opportunity\", \"safe\", \"chance\", \"initially\", \"feel\", \"set\", \"longer\", \"speak\", \"question\", \"ask\", \"meet\", \"bill\", \"capital\", \"possible\", \"accord\", \"transition_period\", \"review\", \"baby_girl\", \"two_year\", \"significant\", \"area\", \"smart\", \"images_maye\", \"meeting\", \"company\", \"able\", \"involve\", \"science\", \"expert\", \"look\", \"last\", \"process\", \"island\", \"good\", \"year\", \"woman\", \"week\", \"local\", \"social_medium\", \"president\", \"immediately\", \"bed\", \"epa\", \"article\", \"particle\", \"track\", \"nature\", \"french\", \"review\", \"low\", \"gradually\", \"wood\", \"consider\", \"reduce\", \"limit\", \"fuel\", \"effort\", \"mood\", \"transition_period\", \"two_year\", \"area\", \"extraordinary\", \"stick\", \"paul_bert\", \"episode\", \"paris\", \"skip_twitter\", \"immigration\", \"send\", \"meanwhile\", \"long\", \"move\", \"produce\", \"content\", \"effect\", \"light\", \"much\", \"system\", \"affect\", \"store\", \"science\", \"many\", \"help\", \"time\", \"us\", \"second\", \"level\", \"political\", \"clear\", \"form\", \"look\", \"post\", \"another\", \"less\", \"plan\", \"name\", \"young_child\", \"taste\", \"husband\", \"ohio_state\", \"resource\", \"potentially\", \"simply\", \"around_world\", \"university\", \"language\", \"pass\", \"town\", \"linear\", \"switch\", \"facebook\", \"address\", \"order\", \"messenger_kids\", \"transition_period\", \"baby_girl\", \"smart\", \"extraordinary\", \"mark\", \"stick\", \"trust\", \"tip\", \"family\", \"recovery\", \"follow_us\", \"shame\", \"agree\", \"join\", \"since\", \"run\", \"least\", \"fuel\", \"others\", \"design\", \"first\", \"remain\", \"small\", \"us\", \"time\", \"create\", \"data\", \"instagram\", \"home\", \"many\", \"report\", \"government\", \"way\", \"call\", \"originate\", \"trial\", \"chris_parker\", \"canada\", \"allegation\", \"keaton\", \"follow_us\", \"alzheimer\", \"accept\", \"military\", \"figure\", \"benefit\", \"investigation\", \"allen\", \"treatment\", \"earlier\", \"fasting\", \"drink\", \"parent\", \"ketone\", \"hour\", \"experiment\", \"area\", \"paul_bert\", \"scandal\", \"recovery\", \"wipe\", \"president_trump\", \"free_trade\", \"pm\", \"series\", \"capital\", \"video\", \"present\", \"statement\", \"study\", \"produce\", \"recent\", \"level\", \"start\", \"story\", \"company\", \"able\", \"play\", \"late\", \"body\", \"business\", \"government\", \"much\", \"day\", \"first\", \"sunset\", \"technology_business\", \"agent\", \"investor\", \"maybe\", \"inside\", \"fictional_drug\", \"cash\", \"google\", \"independence\", \"predict\", \"undone\", \"video\", \"blankfein\", \"successful\", \"various\", \"follow\", \"might\", \"particularly\", \"user\", \"interest\", \"word\", \"store\", \"heart\", \"private\", \"ohio_state\", \"track\", \"deep_brain\", \"ultimately\", \"skip_twitter\", \"face\", \"economic\", \"red\", \"keep\", \"recent\", \"satellite\", \"twitter\", \"world\", \"instagram\", \"look\", \"year\", \"could\", \"never\", \"trump\", \"put\", \"leader\", \"day\", \"whether\", \"country\", \"government\", \"europe\", \"public_health\", \"depression\", \"couple_meet\", \"man\", \"agency\", \"national\", \"push\", \"frankfurt\", \"actress\", \"steal\", \"explain\", \"health\", \"linear\", \"message\", \"cognitive\", \"ahead\", \"attempt\", \"programme\", \"director\", \"represent\", \"script\", \"rocket\", \"lighting\", \"stick\", \"uk_government\", \"recovery\", \"mobile_phone\", \"send\", \"immigration\", \"animal\", \"expect\", \"sleep\", \"night\", \"sign\", \"claim\", \"victim\", \"head\", \"include\", \"well\", \"good\", \"body\", \"report\", \"government\", \"first\", \"already\", \"much\", \"news\", \"president\", \"london\", \"new\", \"economic\", \"brain\", \"afp\", \"short\", \"concern\", \"ground\", \"likely\", \"react\", \"past\", \"true\", \"orbit\", \"social_medium_platform\", \"push\", \"successful\", \"guidance\", \"boost\", \"remember\", \"often\", \"less\", \"economic\", \"trade_war\", \"productivity\", \"north\", \"final\", \"esrb\", \"thursday\", \"senior\", \"screen\", \"catwalk\", \"hong_kong\", \"status_quo\", \"nine_minute\", \"magazine\", \"seem\", \"allow\", \"model\", \"tell\", \"long\", \"travel\", \"strong\", \"work\", \"give\", \"study\", \"musk\", \"social_medium\", \"flight\", \"sleep\", \"game\", \"find\", \"become\", \"child\", \"report\", \"new\", \"analysis\", \"correspondent\", \"images\", \"region\", \"prince_daniel\", \"ban\", \"old_woman\", \"check\", \"possibility\", \"france\", \"moscow\", \"crown_princess\", \"productivity\", \"real\", \"experience\", \"office\", \"happy\", \"ticket\", \"focus\", \"police\", \"meeting\", \"images_maye\", \"stimulate\", \"episode\", \"deep_brain\", \"dawn\", \"investment\", \"wipe\", \"americans\", \"seek\", \"phone\", \"number\", \"day\", \"game\", \"young\", \"find\", \"rise\", \"drug\", \"could\", \"year\", \"people\", \"part\", \"give\", \"us\", \"tell\", \"spend_hour\", \"next\", \"arianespace\", \"majority\", \"million\", \"pa\", \"bomb\", \"news\", \"technology\", \"stay\", \"offer\", \"evidence\", \"situation\", \"michelin_guide\", \"tip\", \"allen\", \"grid\", \"assault\", \"broadly\", \"advance\", \"status_quo\", \"nine_minute\", \"publisher\", \"mps\", \"march\", \"tech\", \"australian\", \"cite\", \"guess\", \"camera\", \"restaurant\", \"worth\", \"team\", \"woman\", \"improve\", \"automation\", \"change\", \"monday\", \"body\", \"last_year\", \"however\", \"uk\", \"system\", \"move\", \"people\", \"new\", \"santorini\", \"could\", \"good\", \"year\", \"attend\", \"size\", \"prince_william_catherine\", \"guide\", \"light_box\", \"direct\", \"sweden\", \"base\", \"current\", \"michelin_guide\", \"spokesman\", \"sunrise_alarm\", \"chef\", \"parker\", \"separate\", \"french\", \"movement\", \"mouse\", \"connect\", \"open\", \"academic\", \"activity\", \"climb\", \"thought\", \"allegation\", \"develop\", \"keen\", \"mental_health\", \"introduce\", \"arrive\", \"city\", \"food\", \"russia\", \"event\", \"economy\", \"end\", \"yet\", \"science\", \"result\", \"issue\", \"show\", \"rise\", \"originally\", \"top\", \"another\", \"however\", \"china\", \"people\", \"day\", \"world\", \"find\", \"instagram\", \"way\", \"new\", \"include\", \"year\", \"government\", \"work\"], \"Freq\": [19.0, 33.0, 41.0, 24.0, 16.0, 14.0, 23.0, 11.0, 9.0, 14.0, 19.0, 14.0, 30.0, 18.0, 11.0, 18.0, 20.0, 11.0, 12.0, 34.0, 26.0, 14.0, 17.0, 12.0, 7.0, 11.0, 16.0, 15.0, 20.0, 13.0, 2.8077964782714844, 2.921152114868164, 2.807749032974243, 2.8077850341796875, 1.95065176486969, 1.950639009475708, 1.9506456851959229, 1.9506580829620361, 1.950645089149475, 1.9506481885910034, 1.9506418704986572, 1.7123810052871704, 3.0079352855682373, 1.9506542682647705, 1.9506360292434692, 1.9506467580795288, 1.9506404399871826, 1.848827600479126, 1.7400168180465698, 2.921142101287842, 2.0640177726745605, 1.9670765399932861, 1.9506490230560303, 1.9506473541259766, 1.9506434202194214, 1.950657844543457, 1.9506487846374512, 2.921154737472534, 1.485831618309021, 0.9801111221313477, 2.9211740493774414, 3.8452765941619873, 3.7783048152923584, 5.017057418823242, 4.635435581207275, 4.785068511962891, 3.241787910461426, 2.9211578369140625, 3.3441970348358154, 6.676496982574463, 2.9211416244506836, 3.355167865753174, 2.3924243450164795, 2.921161651611328, 2.921159267425537, 2.9211537837982178, 2.921158790588379, 2.8387956619262695, 1.9671458005905151, 1.9645978212356567, 1.950659155845642, 2.7971065044403076, 2.804504156112671, 2.8044984340667725, 1.9483671188354492, 1.9483637809753418, 2.9177353382110596, 2.103062629699707, 2.4945690631866455, 1.948378086090088, 2.8045222759246826, 1.835119366645813, 1.8351114988327026, 1.9483741521835327, 1.9396705627441406, 1.9426121711730957, 2.917748212814331, 2.917738914489746, 1.835110068321228, 2.8044865131378174, 2.804429531097412, 1.9423917531967163, 1.9483771324157715, 1.9483668804168701, 1.9483641386032104, 1.9483789205551147, 1.9422802925109863, 0.9789764285087585, 0.978985607624054, 0.9789788722991943, 0.9789773225784302, 2.91772198677063, 2.9041247367858887, 3.882706642150879, 4.475337028503418, 2.9177467823028564, 2.917746067047119, 3.8871312141418457, 2.909724235534668, 3.8871278762817383, 3.653991460800171, 2.9177441596984863, 3.881300210952759, 3.8764092922210693, 2.917733669281006, 2.3818435668945312, 2.12689208984375, 2.061591148376465, 2.061610698699951, 2.0616095066070557, 2.895035743713379, 2.782688617706299, 3.4786760807037354, 1.933225393295288, 1.9332225322723389, 2.5168251991271973, 2.8950438499450684, 1.9332162141799927, 2.7826988697052, 1.820801854133606, 1.8208467960357666, 2.8950350284576416, 1.9332165718078613, 1.9332154989242554, 1.9332135915756226, 1.933215618133545, 1.8972585201263428, 1.88774573802948, 1.8903619050979614, 2.8950467109680176, 1.8208454847335815, 1.8208414316177368, 1.4554409980773926, 8.476737022399902, 3.361452579498291, 1.6673349142074585, 1.9332168102264404, 2.856355905532837, 1.9332143068313599, 2.856781005859375, 5.865345478057861, 2.823840618133545, 3.85689115524292, 2.895048141479492, 3.744507312774658, 2.8950440883636475, 2.8580362796783447, 3.8568758964538574, 3.702481985092163, 5.7805304527282715, 2.926206588745117, 6.0463032722473145, 3.856856107711792, 4.818695068359375, 3.800968885421753, 3.938495635986328, 2.790067672729492, 2.8950324058532715, 3.426074266433716, 2.8950459957122803, 3.1234140396118164, 3.6968936920166016, 2.783202886581421, 1.9335674047470093, 1.9335672855377197, 1.9335601329803467, 1.873801589012146, 3.59165620803833, 1.933573603630066, 1.9335663318634033, 1.933560848236084, 1.9176790714263916, 1.401735544204712, 1.8211815357208252, 1.8211817741394043, 2.783208131790161, 1.933494210243225, 1.9335728883743286, 2.783207654953003, 3.737093925476074, 2.895592212677002, 2.895569324493408, 2.8795006275177, 1.933563470840454, 1.933574914932251, 1.9335726499557495, 1.9335706233978271, 0.9715479016304016, 0.9715472459793091, 0.9715423583984375, 0.9715447425842285, 3.85758638381958, 2.895585775375366, 2.8955671787261963, 1.9335582256317139, 2.8955886363983154, 4.70721960067749, 6.693615913391113, 4.957651138305664, 2.7832043170928955, 3.76057505607605, 3.2297756671905518, 2.875243902206421, 2.895571231842041, 2.8751907348632812, 3.4273617267608643, 2.8954532146453857, 2.682767152786255, 2.8243768215179443, 2.895430326461792, 2.769484519958496, 2.363779306411743, 2.0461981296539307, 2.8142073154449463, 1.9551178216934204, 2.8142521381378174, 2.8142433166503906, 4.497567653656006, 1.9551403522491455, 3.746864080429077, 4.6404852867126465, 14.039615631103516, 2.793337106704712, 1.9551372528076172, 1.9551291465759277, 1.9551292657852173, 1.9551409482955933, 5.701105117797852, 1.5342406034469604, 1.0548124313354492, 2.9278576374053955, 1.9551310539245605, 1.955124020576477, 1.955133080482483, 1.955087423324585, 1.9551340341567993, 1.955138921737671, 1.9551217555999756, 0.9823818802833557, 0.9823809862136841, 0.9823787808418274, 0.9823780655860901, 0.9823827147483826, 3.2492411136627197, 2.658923387527466, 1.5462790727615356, 2.8142457008361816, 1.9551267623901367, 1.9456124305725098, 3.9005913734436035, 2.9278647899627686, 2.748748540878296, 2.7103514671325684, 3.1623928546905518, 4.161473274230957, 3.328706741333008, 3.9006011486053467, 2.927870512008667, 2.927865743637085, 2.927856206893921, 2.9278485774993896, 2.5476608276367188, 3.0414748191833496, 2.390129327774048, 2.24171781539917, 2.12504506111145, 2.182131767272949, 2.897205352783203, 2.6801645755767822, 1.9707295894622803, 1.9707186222076416, 1.8561887741088867, 2.836656332015991, 3.9317245483398438, 3.767313003540039, 1.9707107543945312, 1.9707366228103638, 1.9707231521606445, 1.9707239866256714, 2.8366901874542236, 1.9223699569702148, 4.56860876083374, 2.9512245655059814, 2.832728624343872, 1.9707356691360474, 2.903059482574463, 1.4772419929504395, 2.0490214824676514, 0.9902195930480957, 0.9902174472808838, 1.970728874206543, 1.9707087278366089, 1.970719575881958, 1.956658124923706, 2.867429733276367, 0.9902149438858032, 0.9902240633964539, 3.9845962524414062, 2.9512147903442383, 2.9029018878936768, 1.856141448020935, 2.8898510932922363, 4.685658931732178, 3.817180633544922, 3.931725263595581, 6.402151584625244, 2.970785617828369, 2.95121693611145, 4.016565799713135, 2.937101364135742, 2.9512057304382324, 2.8958473205566406, 2.4518752098083496, 2.575232982635498, 1.9914337396621704, 3.8048858642578125, 1.964390516281128, 1.8502012491226196, 1.8501291275024414, 2.9417340755462646, 1.9643820524215698, 1.9643902778625488, 1.9643787145614624, 2.9417333602905273, 2.827573776245117, 3.9190821647644043, 1.964380145072937, 1.9643787145614624, 4.214804649353027, 1.9643875360488892, 1.5689445734024048, 3.8048830032348633, 1.0342562198638916, 5.8737077713012695, 3.9190542697906494, 1.9643930196762085, 1.964400053024292, 1.96438467502594, 1.9643898010253906, 1.9643851518630981, 0.9870380163192749, 0.9870386719703674, 0.9870396256446838, 0.9870270490646362, 0.9870350956916809, 3.782977342605591, 2.382672071456909, 4.276750087738037, 2.3090693950653076, 1.9643923044204712, 5.933872222900391, 5.407666206359863, 4.990286827087402, 3.4047014713287354, 3.443807363510132, 2.9417314529418945, 3.919057846069336, 2.9417243003845215, 2.9417288303375244, 2.8275563716888428, 2.1579911708831787, 2.0188093185424805, 2.04317307472229, 1.964398741722107, 1.964396357536316, 1.964394211769104, 2.884493589401245, 1.9618393182754517, 1.9618229866027832, 1.9618289470672607, 1.96180260181427, 1.6920071840286255, 4.634760856628418, 3.913966178894043, 2.937887668609619, 2.9378879070281982, 2.9378910064697266, 1.9618251323699951, 1.8477953672409058, 7.568011283874512, 5.055493354797363, 1.9618217945098877, 1.9618356227874756, 1.9618275165557861, 1.8998795747756958, 1.8492180109024048, 4.775996208190918, 0.9857552647590637, 0.9857486486434937, 0.9857568740844727, 0.9857478737831116, 0.9857516288757324, 0.985745370388031, 0.985752522945404, 0.9857518076896667, 0.9857484698295593, 1.8477994203567505, 9.807476043701172, 2.9379096031188965, 2.937910795211792, 3.7386958599090576, 1.961834192276001, 1.961824655532837, 1.673984169960022, 5.252267360687256, 2.9378914833068848, 2.937884569168091, 2.9378905296325684, 2.937875270843506, 3.0101163387298584, 2.937879800796509, 2.501387357711792, 2.1894497871398926, 1.9618359804153442, 1.9618351459503174, 1.9618337154388428, 1.9618313312530518, 1.961830973625183, 3.414829730987549, 1.9610307216644287, 1.9611053466796875, 1.9611116647720337, 1.9611009359359741, 1.9611111879348755, 1.691355586051941, 2.936795234680176, 1.9611074924468994, 1.9611002206802368, 1.9611046314239502, 1.9610880613327026, 1.961094856262207, 1.9610978364944458, 1.691399097442627, 1.6913907527923584, 1.6913748979568481, 1.9610995054244995, 1.961104393005371, 1.5752041339874268, 1.4216490983963013, 1.6913782358169556, 2.93681001663208, 1.961086392402649, 1.9610953330993652, 1.9611016511917114, 1.9610964059829712, 1.9611021280288696, 1.9610919952392578, 1.0003576278686523, 3.912494421005249, 4.88820219039917, 3.528857469558716, 2.9367897510528564, 2.936798334121704, 3.9124765396118164, 4.618504047393799, 5.340241432189941, 2.936807155609131, 3.9124984741210938, 2.9367892742156982, 2.8228166103363037, 2.0750694274902344, 1.9693193435668945, 1.9611051082611084, 1.9611011743545532, 1.9610997438430786, 1.960042119026184, 1.8461135625839233, 2.665684938430786, 1.9600452184677124, 1.9600517749786377, 1.4443954229354858, 2.821293592453003, 1.9600493907928467, 1.9600447416305542, 1.9600452184677124, 1.8740112781524658, 2.9319992065429688, 0.9848592281341553, 0.9848533868789673, 0.9848611354827881, 0.9848596453666687, 0.9848582148551941, 0.9848544001579285, 0.9848631024360657, 0.9848650097846985, 0.9848605394363403, 0.9848582148551941, 0.9848666191101074, 0.9848647713661194, 0.9848580360412598, 0.9848591685295105, 0.9848605394363403, 0.9848630428314209, 0.9848621487617493, 0.984859824180603, 2.725672721862793, 5.580957889556885, 3.218318223953247, 2.504829168319702, 2.93522572517395, 2.8918237686157227, 1.9566353559494019, 2.6060173511505127, 2.504840850830078, 4.616022109985352, 2.688314199447632, 1.960031270980835, 1.960039734840393, 1.9600478410720825, 3.707728862762451, 3.580237865447998, 2.935208797454834, 3.431483745574951, 2.1451618671417236, 2.287601947784424, 1.9600512981414795, 1.9600512981414795, 1.9600505828857422, 1.960047960281372, 1.960046410560608, 1.9091914892196655, 1.9091898202896118, 1.9091901779174805, 1.909186601638794, 1.8383384943008423, 1.9091854095458984, 1.9091850519180298, 1.9091874361038208, 1.909199595451355, 1.9091917276382446, 5.335178375244141, 2.8590633869171143, 2.748106002807617, 1.909186601638794, 1.9091837406158447, 2.859046459197998, 2.859058380126953, 1.9091837406158447, 1.9091914892196655, 1.9091840982437134, 2.797750234603882, 0.9592986106872559, 0.9593022465705872, 0.9592974185943604, 0.9593024253845215, 0.9593092799186707, 0.9593045115470886, 0.959308922290802, 0.9593018293380737, 0.9592949151992798, 6.452833652496338, 2.8590660095214844, 1.8550150394439697, 1.9091829061508179, 1.9091821908950806, 3.8089146614074707, 1.9091885089874268, 1.9091930389404297, 2.3268003463745117, 2.859041929244995, 2.8590586185455322, 1.9091955423355103, 1.9091923236846924, 1.909185767173767, 1.909184217453003, 1.9091840982437134, 2.773062229156494, 3.574533700942993, 2.6611180305480957, 2.773118495941162, 1.9265464544296265, 1.9265578985214233, 1.9265567064285278, 1.9265557527542114, 1.8145791292190552, 1.9265469312667847, 1.7554265260696411, 1.9265470504760742, 1.92655611038208, 1.9025840759277344, 1.814579963684082, 2.773101806640625, 1.9265636205673218, 1.8989946842193604, 0.9680344462394714, 0.9680331945419312, 0.9680373072624207, 0.9680340886116028, 0.9680335521697998, 0.9680383205413818, 0.9680373072624207, 0.9680339097976685, 0.9680308103561401, 0.9680377840995789, 0.9680302739143372, 0.9680277705192566, 2.847975969314575, 3.731630563735962, 1.9265546798706055, 1.9265459775924683, 1.9265494346618652, 4.6483941078186035, 4.625266075134277, 2.8850667476654053, 1.7742133140563965, 1.92655611038208, 1.92648184299469, 3.8435306549072266, 3.8435912132263184, 2.6574668884277344, 2.8696956634521484, 1.9265447854995728, 1.9265495538711548, 1.9265484809875488, 1.926564335823059, 1.9265611171722412, 1.9265587329864502, 1.9265578985214233, 1.926558256149292, 1.9265539646148682, 1.926552414894104, 1.9265491962432861, 2.884141683578491, 1.814001202583313, 1.8660680055618286, 1.8140068054199219, 1.925935983657837, 1.9259450435638428, 2.3544399738311768, 2.7315685749053955, 2.7722182273864746, 1.865355372428894, 1.8508050441741943, 1.4993762969970703, 1.8399386405944824, 2.884159803390503, 3.842355489730835, 1.9259451627731323, 1.9259401559829712, 1.9259438514709473, 0.9677258729934692, 0.967731773853302, 0.9677329063415527, 0.9677273035049438, 0.96773362159729, 0.9677268862724304, 0.9677299857139587, 0.9677271842956543, 0.9677319526672363, 0.9677274823188782, 0.9677255749702454, 0.9677247405052185, 1.9259464740753174, 1.925947666168213, 3.8423476219177246, 1.8729689121246338, 1.925946831703186, 1.9259382486343384, 1.9259451627731323, 3.148989200592041, 3.7617905139923096, 1.9259382486343384, 1.72756826877594, 4.4829583168029785, 2.8672335147857666, 1.9259488582611084, 1.925944209098816, 1.9259533882141113, 1.9143463373184204, 1.9259365797042847, 1.9259369373321533, 1.9259365797042847, 1.9082649946212769, 1.910140037536621, 2.8488852977752686, 1.9421591758728027, 1.9421604871749878, 1.9421591758728027, 1.9421648979187012, 2.5224697589874268, 1.6750664710998535, 4.639479160308838, 1.9421542882919312, 1.9421554803848267, 1.9421628713607788, 5.462196350097656, 1.8292511701583862, 2.5224621295928955, 2.9084396362304688, 1.9421579837799072, 1.9421664476394653, 1.9421635866165161, 2.9084341526031494, 0.9758719801902771, 1.942155122756958, 1.9421515464782715, 0.975877583026886, 0.9758765697479248, 0.9758758544921875, 0.9758772850036621, 0.9758719801902771, 0.9758801460266113, 0.9758797883987427, 0.9758797287940979, 1.8292661905288696, 1.8278498649597168, 1.9421619176864624, 1.4656963348388672, 1.829272747039795, 2.6166470050811768, 1.8292810916900635, 1.7795594930648804, 1.9421637058258057, 2.78627610206604, 2.641367197036743, 2.168121814727783, 1.9421632289886475, 1.9421635866165161, 1.942155122756958, 1.9421579837799072, 1.942154049873352, 1.9421676397323608, 1.9421683549880981, 1.9421604871749878, 1.9421560764312744, 2.9300572872161865, 1.8866318464279175, 1.956593632698059, 1.9565999507904053, 1.9566006660461426, 1.956593632698059, 1.9565988779067993, 1.959829330444336, 1.956595540046692, 1.9566054344177246, 1.9565904140472412, 1.8428696393966675, 3.676436424255371, 1.956594467163086, 1.9565972089767456, 1.917556881904602, 3.7661795616149902, 5.736684799194336, 1.9565985202789307, 1.9566048383712769, 1.9565967321395874, 1.9566004276275635, 2.816335916519165, 1.6875156164169312, 0.9831247925758362, 0.9831253290176392, 0.9831305742263794, 0.9831305742263794, 0.9831318259239197, 0.9831355810165405, 1.8428672552108765, 2.076537847518921, 1.956599473953247, 1.9565916061401367, 1.9565876722335815, 1.9565770626068115, 2.7681729793548584, 2.932774305343628, 2.8626739978790283, 2.816335439682007, 2.9300479888916016, 2.9485552310943604, 2.121530771255493, 2.111928701400757, 1.95918869972229, 1.9566073417663574, 1.9566062688827515, 1.956605076789856, 1.9566019773483276, 1.9566023349761963, 1.956599235534668, 1.9417121410369873, 1.828840970993042, 1.6746271848678589, 1.9417036771774292, 1.9416961669921875, 1.9417080879211426, 1.941704511642456, 1.941702961921692, 1.9417076110839844, 2.794865369796753, 2.9077680110931396, 4.726983547210693, 1.941717267036438, 1.941710352897644, 1.9417014122009277, 1.8288559913635254, 1.941702961921692, 1.9417051076889038, 1.9416937828063965, 1.941715955734253, 1.9417002201080322, 1.9417041540145874, 1.9417189359664917, 0.9756571650505066, 0.9756525158882141, 0.9756416082382202, 0.9756442904472351, 0.9756518006324768, 0.9756484031677246, 0.9756525754928589, 4.219702243804932, 3.6067636013031006, 2.7949154376983643, 2.9077670574188232, 2.9077584743499756, 1.9417047500610352, 1.941692590713501, 4.8398284912109375, 2.907745122909546, 2.9077441692352295, 2.5122385025024414, 2.97877836227417, 2.907757043838501, 2.794916868209839, 1.9417140483856201, 1.9417133331298828, 1.941712498664856, 1.9417117834091187, 1.9417097568511963, 1.9417085647583008, 1.9417057037353516, 1.9417059421539307, 3.5496087074279785, 1.9790152311325073, 1.8362817764282227, 1.8924907445907593, 4.859530925750732, 1.8361939191818237, 1.8362782001495361, 1.8075909614562988, 2.8062212467193604, 2.919567823410034, 1.9495856761932373, 1.9495929479599, 1.9495844841003418, 1.8362914323806763, 1.8362457752227783, 2.685995101928711, 5.711871147155762, 2.6867642402648926, 1.8362826108932495, 1.8680007457733154, 1.413333535194397, 1.949601173400879, 0.9796159863471985, 0.9796152710914612, 0.9796183109283447, 0.9796119332313538, 0.9796119332313538, 0.9796165823936462, 0.9796096086502075, 0.9796135425567627, 1.949605107307434, 1.8885833024978638, 1.9495941400527954, 1.9496095180511475, 3.7762391567230225, 1.9871376752853394, 1.94959557056427, 1.949601650238037, 3.3050854206085205, 2.919571876525879, 1.9495861530303955, 1.9495970010757446, 1.9495941400527954, 1.949595332145691, 1.9495981931686401, 1.9495964050292969, 1.9495923519134521, 1.949588656425476, 1.9496034383773804, 1.949605107307434, 1.9495972394943237, 2.8031980991363525, 2.8032004833221436, 12.418560981750488, 1.9474636316299438, 1.5994279384613037, 2.9163641929626465, 1.9474668502807617, 1.947458028793335, 1.9474648237228394, 1.8342734575271606, 1.8342692852020264, 1.599428653717041, 1.9474714994430542, 1.9474596977233887, 1.9474717378616333, 3.6255929470062256, 1.8342803716659546, 2.703770399093628, 1.947475552558899, 1.9474703073501587, 0.9785493612289429, 0.9785444140434265, 0.9785497188568115, 0.9785404801368713, 0.9785410761833191, 0.9785512089729309, 0.9785485863685608, 0.978546142578125, 0.9785552620887756, 0.978538453578949, 1.8342704772949219, 3.7721095085144043, 4.282691478729248, 2.916377305984497, 1.9474523067474365, 2.9163732528686523, 1.8342689275741577, 1.9474611282348633, 3.206087827682495, 2.916375160217285, 2.9163708686828613, 1.947456955909729, 1.947601556777954, 1.9528892040252686, 1.8891828060150146, 1.9626725912094116, 1.8095180988311768, 2.8250534534454346, 2.92948055267334, 2.8937175273895264, 2.8872623443603516, 1.8485898971557617, 4.588016986846924, 1.7416749000549316, 1.6925880908966064, 1.9546706676483154, 1.8485395908355713, 1.8485914468765259, 1.8095066547393799, 0.9861907958984375, 1.927125096321106, 0.9861869812011719, 0.9861865043640137, 0.9861875176429749, 0.9861831068992615, 0.9861927628517151, 0.9861834645271301, 0.9861817955970764, 0.9861853122711182, 0.9861843585968018, 0.9861888289451599, 0.9861794114112854, 0.9861904978752136, 0.9861838817596436, 0.9861846566200256, 3.7905995845794678, 1.9626595973968506, 1.962677001953125, 2.8250608444213867, 1.8486011028289795, 1.4228328466415405, 2.9391424655914307, 1.7817176580429077, 2.248394250869751, 1.962660312652588, 1.9626647233963013, 2.759671688079834, 1.9626661539077759, 1.962665319442749, 3.1857917308807373, 2.5637645721435547, 1.9626655578613281, 2.1374762058258057, 1.9626585245132446, 1.9626632928848267, 2.295819044113159, 1.860736608505249, 1.7040547132492065, 1.9880549907684326, 1.975763201713562, 1.8609346151351929, 1.8609215021133423, 1.9757570028305054, 1.9757765531539917, 1.9757683277130127, 1.9757577180862427, 1.8609274625778198, 1.8609354496002197, 3.4968199729919434, 0.9927656650543213, 0.9927624464035034, 0.992758572101593, 0.992771565914154, 0.9927714467048645, 0.9927685260772705, 0.9927709102630615, 0.9927642345428467, 0.9927690625190735, 0.9927741885185242, 0.992767870426178, 0.9927704930305481, 0.9927629828453064, 0.992769718170166, 0.9927619099617004, 0.992763102054596, 2.173797369003296, 1.975753664970398, 2.9587559700012207, 1.7040525674819946, 1.8609397411346436, 3.6291234493255615, 2.1737780570983887, 1.9757602214813232, 1.9757566452026367, 1.9757591485977173, 4.005966663360596, 1.9757673740386963, 1.3478275537490845, 2.043303966522217, 1.9757634401321411, 1.9757615327835083, 1.860933542251587, 2.522965431213379, 2.1105422973632812, 1.975764513015747, 1.9757630825042725, 1.9757574796676636, 1.9757652282714844, 1.975764274597168, 1.986620545387268, 1.9757570028305054, 1.975767731666565, 1.9757585525512695], \"Total\": [19.0, 33.0, 41.0, 24.0, 16.0, 14.0, 23.0, 11.0, 9.0, 14.0, 19.0, 14.0, 30.0, 18.0, 11.0, 18.0, 20.0, 11.0, 12.0, 34.0, 26.0, 14.0, 17.0, 12.0, 7.0, 11.0, 16.0, 15.0, 20.0, 13.0, 3.1065311431884766, 4.0671186447143555, 4.070666313171387, 4.08212423324585, 3.0933210849761963, 3.0933072566986084, 3.0967824459075928, 3.1008617877960205, 3.10371994972229, 3.1074492931365967, 3.111276388168335, 3.1061556339263916, 6.01174259185791, 4.051225662231445, 4.062046051025391, 4.068944931030273, 4.076827526092529, 4.081368923187256, 4.082109451293945, 7.001325607299805, 5.015153408050537, 5.04632043838501, 5.035575866699219, 5.045997619628906, 5.0461249351501465, 5.048840522766113, 5.0635528564453125, 7.941170692443848, 4.056730270385742, 2.990910768508911, 8.9273099899292, 11.888307571411133, 11.875805854797363, 18.58456039428711, 19.58943748474121, 22.517831802368164, 11.825437545776367, 9.912115097045898, 12.817614555358887, 59.29258728027344, 10.91470718383789, 19.606422424316406, 7.9866943359375, 16.578067779541016, 19.605731964111328, 20.5284423828125, 33.20433807373047, 30.188175201416016, 10.869380950927734, 15.758811950683594, 9.86324405670166, 3.1006667613983154, 4.067570209503174, 4.070418834686279, 3.0824031829833984, 3.113007068634033, 5.009920120239258, 4.079874515533447, 5.054656028747559, 4.07565975189209, 5.893133163452148, 4.052407741546631, 4.08096981048584, 5.0220184326171875, 5.026981353759766, 5.045143127441406, 7.941170692443848, 7.9753570556640625, 5.023125648498535, 7.932257652282715, 7.956408977508545, 5.984104633331299, 6.0033063888549805, 6.017556190490723, 6.02455472946167, 6.041354656219482, 6.026430130004883, 3.0711660385131836, 3.081879138946533, 3.082401752471924, 3.086402654647827, 9.885810852050781, 9.857852935791016, 13.725263595581055, 16.578067779541016, 10.859689712524414, 10.875476837158203, 16.694507598876953, 10.873360633850098, 21.530929565429688, 23.3537540435791, 14.743410110473633, 30.188175201416016, 33.20433807373047, 21.42658805847168, 10.85037612915039, 23.4392032623291, 19.557525634765625, 19.58943748474121, 26.382572174072266, 3.0793402194976807, 3.0779335498809814, 5.002886772155762, 3.06734037399292, 3.0947933197021484, 5.012114524841309, 6.0083327293396, 4.047740936279297, 5.973514556884766, 4.043885707855225, 4.050751686096191, 6.93034553527832, 5.020938873291016, 5.031494617462158, 5.040370941162109, 5.0456013679504395, 5.013982772827148, 4.997843265533447, 5.044821262359619, 7.897409915924072, 4.992923259735107, 5.033502578735352, 4.084444522857666, 24.44235610961914, 9.874212265014648, 5.012269496917725, 5.937570095062256, 8.878528594970703, 6.023344993591309, 8.920112609863281, 18.58938980102539, 8.919525146484375, 12.747784614562988, 9.845139503479004, 13.705978393554688, 9.860958099365234, 9.882587432861328, 16.63218116760254, 16.54045867919922, 37.05859375, 11.79827880859375, 59.29258728027344, 23.471269607543945, 41.06647872924805, 25.36357307434082, 30.188175201416016, 11.83421516418457, 13.752386093139648, 30.309782028198242, 14.716619491577148, 28.298860549926758, 3.9302711486816406, 4.053802967071533, 3.084083080291748, 3.0942916870117188, 3.1007914543151855, 3.0876402854919434, 5.968761444091797, 4.043319225311279, 4.056883811950684, 4.063898086547852, 4.037890434265137, 3.091540575027466, 4.040283679962158, 4.074994087219238, 6.967543125152588, 5.022890567779541, 5.041189670562744, 7.928167819976807, 10.776511192321777, 8.864795684814453, 8.902233123779297, 8.892407417297363, 5.9746928215026855, 5.9961724281311035, 5.99776554107666, 6.0263237953186035, 3.063798427581787, 3.07450795173645, 3.0745012760162354, 3.075747013092041, 12.76309871673584, 9.86324405670166, 10.824228286743164, 6.935327529907227, 11.795821189880371, 25.405990600585938, 59.29258728027344, 34.09974670410156, 11.825437545776367, 25.36357307434082, 20.5284423828125, 16.54045867919922, 18.58456039428711, 18.58938980102539, 37.05859375, 19.6060791015625, 14.74281120300293, 22.4112491607666, 26.382572174072266, 21.42658805847168, 10.869380950927734, 12.782228469848633, 4.082034111022949, 3.1157376766204834, 5.029478073120117, 5.05898904800415, 8.822504997253418, 4.075776100158691, 7.963271141052246, 9.894719123840332, 33.25879669189453, 7.008146286010742, 5.035967826843262, 5.036126136779785, 5.037703514099121, 5.052098274230957, 14.732879638671875, 4.085082530975342, 3.1001241207122803, 8.886713981628418, 5.999537944793701, 6.006730079650879, 6.013166904449463, 6.017556190490723, 6.028232097625732, 6.037750720977783, 6.041354656219482, 3.0781209468841553, 3.078125238418579, 3.086637496948242, 3.0866572856903076, 3.0902531147003174, 10.859689712524414, 8.945599555969238, 5.032952785491943, 9.905463218688965, 6.975303649902344, 7.013189792633057, 18.58456039428711, 12.77995491027832, 11.811695098876953, 12.76829719543457, 17.65553092956543, 37.05859375, 21.59020233154297, 34.09974670410156, 16.63218116760254, 16.72200584411621, 22.517831802368164, 33.20433807373047, 19.610958099365234, 59.29258728027344, 23.4392032623291, 28.298860549926758, 14.74281120300293, 41.06647872924805, 4.102923393249512, 4.1057233810424805, 3.113290309906006, 3.124755859375, 3.118251085281372, 5.074200630187988, 7.051056861877441, 7.035219192504883, 4.096810817718506, 4.100305557250977, 4.103353023529053, 4.104220867156982, 5.945055961608887, 4.070852756500244, 10.667757987976074, 7.037477493286133, 7.01859188079834, 5.059201240539551, 7.976003646850586, 4.084444522857666, 6.038302898406982, 2.9787561893463135, 3.00747013092041, 6.005605697631836, 6.008355140686035, 6.023344993591309, 6.040200710296631, 8.921222686767578, 3.091304063796997, 3.094067096710205, 12.817614555358887, 9.91768741607666, 9.915128707885742, 6.03435754776001, 10.880804061889648, 26.40610122680664, 19.643587112426758, 21.59020233154297, 59.29258728027344, 14.756336212158203, 15.669577598571777, 37.05859375, 15.758811950683594, 26.382572174072266, 25.36357307434082, 19.606422424316406, 33.20433807373047, 16.54045867919922, 6.014189720153809, 3.1147539615631104, 3.1071105003356934, 3.1253316402435303, 5.045955181121826, 4.069202423095703, 4.079646110534668, 4.092496871948242, 7.015649318695068, 7.028649806976318, 9.906455993652344, 5.059652805328369, 5.06301736831665, 10.88095760345459, 5.077514171600342, 4.083324909210205, 10.873839378356934, 3.1090810298919678, 17.664960861206055, 11.812908172607422, 6.015231609344482, 6.022932529449463, 6.027652740478516, 6.030481815338135, 6.037750720977783, 3.0708749294281006, 3.0791397094726562, 3.091252326965332, 3.0915415287017822, 3.0943737030029297, 12.861892700195312, 7.9866943359375, 15.754494667053223, 7.988028049468994, 6.957991600036621, 28.298860549926758, 26.40610122680664, 41.06647872924805, 19.58943748474121, 21.59020233154297, 16.73059844970703, 59.29258728027344, 30.309782028198242, 34.09974670410156, 33.20433807373047, 16.6372127532959, 7.967615604400635, 20.56325340270996, 7.951914310455322, 8.920112609863281, 8.959036827087402, 3.1215109825134277, 3.1041431427001953, 3.1044301986694336, 3.107738971710205, 3.1223819255828857, 3.104926347732544, 8.836691856384277, 7.964938640594482, 6.01234769821167, 6.038913726806641, 6.050395965576172, 4.078029155731201, 3.9709644317626953, 18.649959564208984, 12.804515838623047, 5.043402194976807, 5.044477462768555, 5.057283878326416, 5.0635528564453125, 5.054067134857178, 14.751357078552246, 3.0935940742492676, 3.0935845375061035, 3.0940494537353516, 3.0976479053497314, 3.0980565547943115, 3.1000125408172607, 3.1001346111297607, 3.1007113456726074, 3.100703239440918, 6.004946231842041, 41.06647872924805, 10.864501953125, 10.890620231628418, 14.727062225341797, 6.972202777862549, 6.983098983764648, 6.034582138061523, 33.25879669189453, 15.758811950683594, 18.58938980102539, 19.58943748474121, 19.6060791015625, 22.4112491607666, 25.405990600585938, 26.40610122680664, 37.05859375, 20.505456924438477, 30.309782028198242, 14.732879638671875, 17.63324737548828, 11.827191352844238, 3.9810309410095215, 3.095001697540283, 3.1078317165374756, 3.114567518234253, 3.1186609268188477, 3.1212685108184814, 3.1185860633850098, 6.039731979370117, 4.044973850250244, 4.064358711242676, 4.074138164520264, 4.074120998382568, 4.0824151039123535, 4.089066982269287, 4.079874515533447, 4.085763931274414, 4.092903137207031, 5.046336650848389, 5.068933486938477, 4.084611415863037, 4.056203842163086, 5.0276079177856445, 8.906126022338867, 6.006545543670654, 6.010383605957031, 6.012388229370117, 6.023879051208496, 6.035801887512207, 6.043195724487305, 3.1232166290283203, 12.801579475402832, 16.72200584411621, 11.895145416259766, 9.888980865478516, 9.892707824707031, 14.741813659667969, 20.560882568359375, 34.09974670410156, 14.751357078552246, 30.309782028198242, 28.298860549926758, 59.29258728027344, 41.06647872924805, 23.3537540435791, 6.997627258300781, 10.840473175048828, 19.557525634765625, 3.124629497528076, 2.9964935779571533, 5.069458484649658, 4.072579860687256, 4.082866191864014, 3.1175405979156494, 7.0177903175354, 5.038311958312988, 5.052709579467773, 5.067943096160889, 5.046657085418701, 7.9477972984313965, 3.0687215328216553, 3.0687153339385986, 3.076975107192993, 3.0848162174224854, 3.084833860397339, 3.08768630027771, 3.089240550994873, 3.0892527103424072, 3.0936925411224365, 3.096041440963745, 3.0964574813842773, 3.0967557430267334, 3.0974466800689697, 3.097593069076538, 3.102806568145752, 3.1036102771759033, 3.105663776397705, 3.1067681312561035, 8.909282684326172, 19.605731964111328, 11.826607704162598, 8.93810749053955, 10.857224464416504, 10.910587310791016, 7.009594917297363, 9.874212265014648, 9.885810852050781, 21.530929565429688, 10.872724533081055, 7.845040798187256, 7.946254730224609, 7.947249412536621, 20.56325340270996, 22.517831802368164, 17.664960861206055, 23.471269607543945, 12.76829719543457, 26.42714500427246, 9.879546165466309, 37.05859375, 9.912994384765625, 11.872743606567383, 10.873839378356934, 3.0670056343078613, 3.0687153339385986, 3.0687215328216553, 3.0708749294281006, 3.064570426940918, 4.021514415740967, 4.032387733459473, 4.035768985748291, 4.044973850250244, 4.045995235443115, 12.671934127807617, 6.916024208068848, 6.90438985824585, 5.019576549530029, 5.022401332855225, 8.861161231994629, 8.886713981628418, 5.937570095062256, 5.9609222412109375, 5.98027229309082, 8.871315002441406, 3.0603151321411133, 3.0615501403808594, 3.063798427581787, 3.0639193058013916, 3.06734037399292, 3.0683951377868652, 3.0711660385131836, 3.07450795173645, 3.0745012760162354, 23.3537540435791, 10.777552604675293, 6.912837505340576, 7.918590545654297, 7.923139572143555, 21.42658805847168, 8.894392967224121, 8.915858268737793, 12.76829719543457, 19.557525634765625, 30.309782028198242, 11.79827880859375, 13.705978393554688, 10.776511192321777, 11.817502975463867, 15.669577598571777, 3.071918487548828, 5.0110392570495605, 3.8073785305023193, 4.040699005126953, 3.081298589706421, 3.0842912197113037, 3.091304063796997, 3.0938258171081543, 3.0615501403808594, 4.0497541427612305, 4.053060054779053, 5.0276079177856445, 5.028489112854004, 5.008309841156006, 5.015153408050537, 7.904088973999023, 6.005605697631836, 5.996667861938477, 3.0603151321411133, 3.0639193058013916, 3.0683951377868652, 3.0722670555114746, 3.076512098312378, 3.0805115699768066, 3.0829732418060303, 3.0845158100128174, 3.087695837020874, 3.0887818336486816, 3.0887792110443115, 3.0915415287017822, 9.859187126159668, 13.64000129699707, 6.9529643058776855, 6.957991600036621, 6.973012924194336, 20.560882568359375, 20.505456924438477, 12.801579475402832, 6.983098983764648, 7.845040798187256, 7.918590545654297, 22.4112491607666, 23.4392032623291, 28.298860549926758, 59.29258728027344, 8.883016586303711, 8.889864921569824, 9.87427806854248, 10.864501953125, 12.782228469848633, 21.42658805847168, 10.809486389160156, 10.87993049621582, 14.743410110473633, 11.826607704162598, 18.649959564208984, 3.0684821605682373, 2.9787561893463135, 3.084833860397339, 3.0836751461029053, 4.051225662231445, 4.061012268066406, 5.0041584968566895, 5.872345924377441, 5.993516445159912, 4.039328575134277, 4.051763534545898, 4.051421642303467, 5.021182060241699, 7.919663906097412, 11.812908172607422, 5.984104633331299, 5.9931416511535645, 6.015231609344482, 3.0603151321411133, 3.063798427581787, 3.0711660385131836, 3.0722670555114746, 3.075747013092041, 3.076512098312378, 3.076975107192993, 3.078298568725586, 3.0791397094726562, 3.084263563156128, 3.085679769515991, 3.086637496948242, 6.949695110321045, 6.960646152496338, 16.6372127532959, 6.9555792808532715, 7.897409915924072, 7.904088973999023, 7.955097675323486, 21.530929565429688, 30.188175201416016, 9.879546165466309, 8.884202003479004, 59.29258728027344, 28.298860549926758, 11.822210311889648, 12.76309871673584, 17.63324737548828, 14.751357078552246, 22.4112491607666, 26.40610122680664, 34.09974670410156, 19.643587112426758, 23.471269607543945, 3.0932388305664062, 3.088348150253296, 3.092406749725342, 3.1020469665527344, 3.1093626022338867, 4.065415382385254, 3.085679769515991, 8.899521827697754, 4.0596604347229, 4.068039417266846, 4.0779523849487305, 11.811695098876953, 4.0869622230529785, 6.018190383911133, 6.972202777862549, 5.025969505310059, 5.026981353759766, 5.052709579467773, 7.925173759460449, 2.9964935779571533, 5.977421760559082, 6.0023698806762695, 3.0683951377868652, 3.0805115699768066, 3.084083080291748, 3.084263563156128, 3.090733289718628, 3.0911755561828613, 3.0919857025146484, 3.0936925411224365, 5.87484073638916, 5.9609222412109375, 6.98894739151001, 5.026371002197266, 6.855092525482178, 10.880804061889648, 6.9529643058776855, 6.994929313659668, 8.889864921569824, 19.605731964111328, 18.58456039428711, 23.3537540435791, 10.777552604675293, 10.910587310791016, 11.83421516418457, 13.753900527954102, 13.75938892364502, 34.09974670410156, 20.505456924438477, 26.42714500427246, 30.188175201416016, 3.1142454147338867, 2.9858834743499756, 3.0992348194122314, 3.102531671524048, 3.110074520111084, 3.110074758529663, 3.1107044219970703, 3.11588191986084, 3.113431215286255, 3.116429090499878, 3.1180479526519775, 3.00747013092041, 6.98894739151001, 4.068525314331055, 4.080678462982178, 4.076216220855713, 8.902809143066406, 14.716619491577148, 5.040370941162109, 5.041179180145264, 5.0436530113220215, 5.057241439819336, 7.845040798187256, 5.047080993652344, 3.0670056343078613, 3.0836751461029053, 3.0842912197113037, 3.085975408554077, 3.086402654647827, 3.087695837020874, 5.881709098815918, 6.983048439025879, 6.954569339752197, 6.992927551269531, 6.994929313659668, 7.00114107131958, 11.827191352844238, 16.678014755249023, 17.63324737548828, 21.42658805847168, 30.309782028198242, 37.05859375, 9.890439987182617, 16.578067779541016, 13.780335426330566, 7.955560684204102, 26.42714500427246, 8.940749168395996, 16.694507598876953, 34.09974670410156, 7.949284553527832, 3.087902069091797, 3.1039743423461914, 3.103093147277832, 4.045859336853027, 4.060534477233887, 4.064299583435059, 4.065852642059326, 4.078029155731201, 4.082367420196533, 6.013704299926758, 6.969818592071533, 11.69534969329834, 5.021182060241699, 5.023840427398682, 5.045143127441406, 4.910538196563721, 5.978770732879639, 5.9853644371032715, 5.9940876960754395, 5.997175216674805, 6.010220050811768, 6.0188703536987305, 6.023879051208496, 3.076512098312378, 3.0801281929016113, 3.084263563156128, 3.0848162174224854, 3.0887792110443115, 3.0887818336486816, 3.091540575027466, 13.754493713378906, 12.754464149475098, 9.879520416259766, 10.861512184143066, 10.873360633850098, 6.936561107635498, 6.952746868133545, 33.20433807373047, 14.732879638671875, 19.557525634765625, 13.753900527954102, 26.40610122680664, 34.09974670410156, 30.188175201416016, 10.865093231201172, 20.505456924438477, 9.890462875366211, 15.669577598571777, 11.795821189880371, 25.405990600585938, 6.983048439025879, 7.932831287384033, 4.80918550491333, 3.0926082134246826, 2.990910768508911, 3.092618465423584, 7.962327480316162, 3.1006410121917725, 3.1097095012664795, 3.0957841873168945, 5.056616306304932, 6.018341541290283, 4.065852642059326, 4.080678462982178, 4.094008445739746, 4.065155982971191, 4.074004650115967, 6.038302898406982, 14.743410110473633, 6.983048439025879, 4.9124627113342285, 5.030327796936035, 4.077032566070557, 6.043195724487305, 3.0892727375030518, 3.0926995277404785, 3.094067096710205, 3.095374345779419, 3.0961761474609375, 3.098236083984375, 3.098405599594116, 3.098708152770996, 6.969814300537109, 6.951645851135254, 7.928529739379883, 8.902233123779297, 25.36357307434082, 9.859187126159668, 9.884517669677734, 9.915128707885742, 33.25879669189453, 26.382572174072266, 10.880804061889648, 11.783193588256836, 11.817502975463867, 11.872743606567383, 12.754464149475098, 15.754494667053223, 16.73059844970703, 19.58943748474121, 21.59020233154297, 26.40610122680664, 25.405990600585938, 3.1014294624328613, 4.071340560913086, 19.610958099365234, 3.1073286533355713, 3.109870195388794, 6.010383605957031, 4.052072048187256, 4.065826416015625, 4.073540687561035, 3.961982488632202, 4.078939437866211, 4.0903000831604, 5.030327796936035, 5.042646884918213, 5.0444746017456055, 9.820159912109375, 5.035266876220703, 7.960188865661621, 6.01149320602417, 6.013941287994385, 3.0745012760162354, 3.07450795173645, 3.081879138946533, 3.0829732418060303, 3.085975408554077, 3.0876402854919434, 3.08768630027771, 3.090733289718628, 3.0913467407226562, 3.093993663787842, 5.900176048278809, 13.752386093139648, 26.42714500427246, 15.754494667053223, 8.892407417297363, 16.73059844970703, 8.930285453796387, 10.88095760345459, 37.05859375, 30.309782028198242, 41.06647872924805, 20.5284423828125, 26.382572174072266, 59.29258728027344, 25.36357307434082, 3.116114616394043, 3.1071248054504395, 5.058182239532471, 6.038127899169922, 6.008894443511963, 6.009914875030518, 3.9759955406188965, 9.890462875366211, 4.084758281707764, 4.08144998550415, 5.046949863433838, 5.075742721557617, 5.079909324645996, 5.069275856018066, 3.078298568725586, 6.018190383911133, 3.0927987098693848, 3.0942916870117188, 3.0950169563293457, 3.098071336746216, 3.098405599594116, 3.098708152770996, 3.0988917350769043, 3.0992090702056885, 3.100566864013672, 3.1011362075805664, 3.104738235473633, 3.1062533855438232, 3.107194423675537, 3.107714891433716, 12.861892700195312, 6.998953342437744, 7.007597923278809, 11.79827880859375, 6.9792351722717285, 5.03657341003418, 15.737850189208984, 8.937647819519043, 13.753900527954102, 10.875476837158203, 10.905708312988281, 20.56325340270996, 12.801579475402832, 13.64000129699707, 41.06647872924805, 25.405990600585938, 14.741813659667969, 37.05859375, 19.557525634765625, 30.309782028198242, 3.136763095855713, 3.1206746101379395, 3.1329660415649414, 4.106575965881348, 4.091693878173828, 4.104205131530762, 4.115994453430176, 5.052071571350098, 5.065789222717285, 5.069275856018066, 5.07424259185791, 5.042868137359619, 5.0826520919799805, 9.942420959472656, 3.0885865688323975, 3.0938258171081543, 3.1007914543151855, 3.1015286445617676, 3.102660894393921, 3.1042890548706055, 3.1050009727478027, 3.105323553085327, 3.1078877449035645, 3.1090710163116455, 3.1093626022338867, 3.110398769378662, 3.1109344959259033, 3.1114490032196045, 3.11440372467041, 3.115156888961792, 7.009800910949707, 7.051056861877441, 11.895145416259766, 6.032835006713867, 7.023319244384766, 16.72200584411621, 8.972782135009766, 7.918590545654297, 7.956387042999268, 7.962270736694336, 24.44235610961914, 8.930285453796387, 5.0497050285339355, 10.91470718383789, 10.87993049621582, 10.905708312988281, 9.882587432861328, 41.06647872924805, 26.42714500427246, 16.678014755249023, 16.73059844970703, 17.63324737548828, 19.643587112426758, 25.405990600585938, 33.20433807373047, 30.309782028198242, 34.09974670410156, 33.25879669189453], \"Category\": [\"Default\", \"Default\", \"Default\", \"Default\", \"Default\", \"Default\", \"Default\", \"Default\", \"Default\", \"Default\", \"Default\", \"Default\", \"Default\", \"Default\", \"Default\", \"Default\", \"Default\", \"Default\", \"Default\", \"Default\", \"Default\", \"Default\", \"Default\", \"Default\", \"Default\", \"Default\", \"Default\", \"Default\", \"Default\", \"Default\", \"Topic1\", \"Topic1\", \"Topic1\", \"Topic1\", \"Topic1\", \"Topic1\", \"Topic1\", \"Topic1\", \"Topic1\", \"Topic1\", \"Topic1\", \"Topic1\", \"Topic1\", \"Topic1\", \"Topic1\", \"Topic1\", \"Topic1\", \"Topic1\", \"Topic1\", \"Topic1\", \"Topic1\", \"Topic1\", \"Topic1\", \"Topic1\", \"Topic1\", \"Topic1\", \"Topic1\", \"Topic1\", \"Topic1\", \"Topic1\", \"Topic1\", \"Topic1\", \"Topic1\", \"Topic1\", \"Topic1\", \"Topic1\", \"Topic1\", \"Topic1\", \"Topic1\", \"Topic1\", \"Topic1\", \"Topic1\", \"Topic1\", \"Topic1\", \"Topic1\", \"Topic1\", \"Topic1\", \"Topic1\", \"Topic1\", \"Topic1\", \"Topic1\", \"Topic2\", \"Topic2\", \"Topic2\", \"Topic2\", \"Topic2\", \"Topic2\", \"Topic2\", \"Topic2\", \"Topic2\", \"Topic2\", \"Topic2\", \"Topic2\", \"Topic2\", \"Topic2\", \"Topic2\", \"Topic2\", \"Topic2\", \"Topic2\", \"Topic2\", \"Topic2\", \"Topic2\", \"Topic2\", \"Topic2\", \"Topic2\", \"Topic2\", \"Topic2\", \"Topic2\", \"Topic2\", \"Topic2\", \"Topic2\", \"Topic2\", \"Topic2\", \"Topic2\", \"Topic2\", \"Topic2\", \"Topic2\", \"Topic2\", \"Topic2\", \"Topic2\", \"Topic2\", \"Topic2\", \"Topic2\", \"Topic2\", \"Topic2\", \"Topic2\", \"Topic2\", \"Topic2\", \"Topic2\", \"Topic2\", \"Topic3\", \"Topic3\", \"Topic3\", \"Topic3\", \"Topic3\", \"Topic3\", \"Topic3\", \"Topic3\", \"Topic3\", \"Topic3\", \"Topic3\", \"Topic3\", \"Topic3\", \"Topic3\", \"Topic3\", \"Topic3\", \"Topic3\", \"Topic3\", \"Topic3\", \"Topic3\", \"Topic3\", \"Topic3\", \"Topic3\", \"Topic3\", \"Topic3\", \"Topic3\", \"Topic3\", \"Topic3\", \"Topic3\", \"Topic3\", \"Topic3\", \"Topic3\", \"Topic3\", \"Topic3\", \"Topic3\", \"Topic3\", \"Topic3\", \"Topic3\", \"Topic3\", \"Topic3\", \"Topic3\", \"Topic3\", \"Topic3\", \"Topic3\", \"Topic3\", \"Topic3\", \"Topic3\", \"Topic3\", \"Topic3\", \"Topic3\", \"Topic3\", \"Topic4\", \"Topic4\", \"Topic4\", \"Topic4\", \"Topic4\", \"Topic4\", \"Topic4\", \"Topic4\", \"Topic4\", \"Topic4\", \"Topic4\", \"Topic4\", \"Topic4\", \"Topic4\", \"Topic4\", \"Topic4\", \"Topic4\", \"Topic4\", \"Topic4\", \"Topic4\", \"Topic4\", \"Topic4\", \"Topic4\", \"Topic4\", \"Topic4\", \"Topic4\", \"Topic4\", \"Topic4\", \"Topic4\", \"Topic4\", \"Topic4\", \"Topic4\", \"Topic4\", \"Topic4\", \"Topic4\", \"Topic4\", \"Topic4\", \"Topic4\", \"Topic4\", \"Topic4\", \"Topic4\", \"Topic4\", \"Topic4\", \"Topic4\", \"Topic4\", \"Topic4\", \"Topic4\", \"Topic4\", \"Topic4\", \"Topic4\", \"Topic4\", \"Topic4\", \"Topic5\", \"Topic5\", \"Topic5\", \"Topic5\", \"Topic5\", \"Topic5\", \"Topic5\", \"Topic5\", \"Topic5\", \"Topic5\", \"Topic5\", \"Topic5\", \"Topic5\", \"Topic5\", \"Topic5\", \"Topic5\", \"Topic5\", \"Topic5\", \"Topic5\", \"Topic5\", \"Topic5\", \"Topic5\", \"Topic5\", \"Topic5\", \"Topic5\", \"Topic5\", \"Topic5\", \"Topic5\", \"Topic5\", \"Topic5\", \"Topic5\", \"Topic5\", \"Topic5\", \"Topic5\", \"Topic5\", \"Topic5\", \"Topic5\", \"Topic5\", \"Topic5\", \"Topic5\", \"Topic5\", \"Topic5\", \"Topic5\", \"Topic5\", \"Topic5\", \"Topic5\", \"Topic5\", \"Topic5\", \"Topic5\", \"Topic5\", \"Topic5\", \"Topic5\", \"Topic5\", \"Topic5\", \"Topic6\", \"Topic6\", \"Topic6\", \"Topic6\", \"Topic6\", \"Topic6\", \"Topic6\", \"Topic6\", \"Topic6\", \"Topic6\", \"Topic6\", \"Topic6\", \"Topic6\", \"Topic6\", \"Topic6\", \"Topic6\", \"Topic6\", \"Topic6\", \"Topic6\", \"Topic6\", \"Topic6\", \"Topic6\", \"Topic6\", \"Topic6\", \"Topic6\", \"Topic6\", \"Topic6\", \"Topic6\", \"Topic6\", \"Topic6\", \"Topic6\", \"Topic6\", \"Topic6\", \"Topic6\", \"Topic6\", \"Topic6\", \"Topic6\", \"Topic6\", \"Topic6\", \"Topic6\", \"Topic6\", \"Topic6\", \"Topic6\", \"Topic6\", \"Topic6\", \"Topic6\", \"Topic6\", \"Topic6\", \"Topic7\", \"Topic7\", \"Topic7\", \"Topic7\", \"Topic7\", \"Topic7\", \"Topic7\", \"Topic7\", \"Topic7\", \"Topic7\", \"Topic7\", \"Topic7\", \"Topic7\", \"Topic7\", \"Topic7\", \"Topic7\", \"Topic7\", \"Topic7\", \"Topic7\", \"Topic7\", \"Topic7\", \"Topic7\", \"Topic7\", \"Topic7\", \"Topic7\", \"Topic7\", \"Topic7\", \"Topic7\", \"Topic7\", \"Topic7\", \"Topic7\", \"Topic7\", \"Topic7\", \"Topic7\", \"Topic7\", \"Topic7\", \"Topic7\", \"Topic7\", \"Topic7\", \"Topic7\", \"Topic7\", \"Topic7\", \"Topic7\", \"Topic7\", \"Topic7\", \"Topic7\", \"Topic7\", \"Topic7\", \"Topic7\", \"Topic7\", \"Topic7\", \"Topic8\", \"Topic8\", \"Topic8\", \"Topic8\", \"Topic8\", \"Topic8\", \"Topic8\", \"Topic8\", \"Topic8\", \"Topic8\", \"Topic8\", \"Topic8\", \"Topic8\", \"Topic8\", \"Topic8\", \"Topic8\", \"Topic8\", \"Topic8\", \"Topic8\", \"Topic8\", \"Topic8\", \"Topic8\", \"Topic8\", \"Topic8\", \"Topic8\", \"Topic8\", \"Topic8\", \"Topic8\", \"Topic8\", \"Topic8\", \"Topic8\", \"Topic8\", \"Topic8\", \"Topic8\", \"Topic8\", \"Topic8\", \"Topic8\", \"Topic8\", \"Topic8\", \"Topic8\", \"Topic8\", \"Topic8\", \"Topic8\", \"Topic8\", \"Topic8\", \"Topic8\", \"Topic8\", \"Topic8\", \"Topic8\", \"Topic8\", \"Topic8\", \"Topic8\", \"Topic9\", \"Topic9\", \"Topic9\", \"Topic9\", \"Topic9\", \"Topic9\", \"Topic9\", \"Topic9\", \"Topic9\", \"Topic9\", \"Topic9\", \"Topic9\", \"Topic9\", \"Topic9\", \"Topic9\", \"Topic9\", \"Topic9\", \"Topic9\", \"Topic9\", \"Topic9\", \"Topic9\", \"Topic9\", \"Topic9\", \"Topic9\", \"Topic9\", \"Topic9\", \"Topic9\", \"Topic9\", \"Topic9\", \"Topic9\", \"Topic9\", \"Topic9\", \"Topic9\", \"Topic9\", \"Topic9\", \"Topic9\", \"Topic9\", \"Topic9\", \"Topic9\", \"Topic9\", \"Topic9\", \"Topic9\", \"Topic9\", \"Topic9\", \"Topic9\", \"Topic9\", \"Topic9\", \"Topic10\", \"Topic10\", \"Topic10\", \"Topic10\", \"Topic10\", \"Topic10\", \"Topic10\", \"Topic10\", \"Topic10\", \"Topic10\", \"Topic10\", \"Topic10\", \"Topic10\", \"Topic10\", \"Topic10\", \"Topic10\", \"Topic10\", \"Topic10\", \"Topic10\", \"Topic10\", \"Topic10\", \"Topic10\", \"Topic10\", \"Topic10\", \"Topic10\", \"Topic10\", \"Topic10\", \"Topic10\", \"Topic10\", \"Topic10\", \"Topic10\", \"Topic10\", \"Topic10\", \"Topic10\", \"Topic10\", \"Topic10\", \"Topic10\", \"Topic10\", \"Topic10\", \"Topic10\", \"Topic10\", \"Topic10\", \"Topic10\", \"Topic10\", \"Topic10\", \"Topic10\", \"Topic10\", \"Topic10\", \"Topic10\", \"Topic10\", \"Topic10\", \"Topic10\", \"Topic10\", \"Topic10\", \"Topic10\", \"Topic11\", \"Topic11\", \"Topic11\", \"Topic11\", \"Topic11\", \"Topic11\", \"Topic11\", \"Topic11\", \"Topic11\", \"Topic11\", \"Topic11\", \"Topic11\", \"Topic11\", \"Topic11\", \"Topic11\", \"Topic11\", \"Topic11\", \"Topic11\", \"Topic11\", \"Topic11\", \"Topic11\", \"Topic11\", \"Topic11\", \"Topic11\", \"Topic11\", \"Topic11\", \"Topic11\", \"Topic11\", \"Topic11\", \"Topic11\", \"Topic11\", \"Topic11\", \"Topic11\", \"Topic11\", \"Topic11\", \"Topic11\", \"Topic11\", \"Topic11\", \"Topic11\", \"Topic11\", \"Topic11\", \"Topic11\", \"Topic11\", \"Topic11\", \"Topic11\", \"Topic11\", \"Topic12\", \"Topic12\", \"Topic12\", \"Topic12\", \"Topic12\", \"Topic12\", \"Topic12\", \"Topic12\", \"Topic12\", \"Topic12\", \"Topic12\", \"Topic12\", \"Topic12\", \"Topic12\", \"Topic12\", \"Topic12\", \"Topic12\", \"Topic12\", \"Topic12\", \"Topic12\", \"Topic12\", \"Topic12\", \"Topic12\", \"Topic12\", \"Topic12\", \"Topic12\", \"Topic12\", \"Topic12\", \"Topic12\", \"Topic12\", \"Topic12\", \"Topic12\", \"Topic12\", \"Topic12\", \"Topic12\", \"Topic12\", \"Topic12\", \"Topic12\", \"Topic12\", \"Topic12\", \"Topic12\", \"Topic12\", \"Topic12\", \"Topic12\", \"Topic12\", \"Topic12\", \"Topic12\", \"Topic12\", \"Topic12\", \"Topic12\", \"Topic12\", \"Topic12\", \"Topic12\", \"Topic12\", \"Topic12\", \"Topic12\", \"Topic13\", \"Topic13\", \"Topic13\", \"Topic13\", \"Topic13\", \"Topic13\", \"Topic13\", \"Topic13\", \"Topic13\", \"Topic13\", \"Topic13\", \"Topic13\", \"Topic13\", \"Topic13\", \"Topic13\", \"Topic13\", \"Topic13\", \"Topic13\", \"Topic13\", \"Topic13\", \"Topic13\", \"Topic13\", \"Topic13\", \"Topic13\", \"Topic13\", \"Topic13\", \"Topic13\", \"Topic13\", \"Topic13\", \"Topic13\", \"Topic13\", \"Topic13\", \"Topic13\", \"Topic13\", \"Topic13\", \"Topic13\", \"Topic13\", \"Topic13\", \"Topic13\", \"Topic13\", \"Topic13\", \"Topic13\", \"Topic13\", \"Topic13\", \"Topic13\", \"Topic13\", \"Topic13\", \"Topic13\", \"Topic13\", \"Topic13\", \"Topic13\", \"Topic13\", \"Topic14\", \"Topic14\", \"Topic14\", \"Topic14\", \"Topic14\", \"Topic14\", \"Topic14\", \"Topic14\", \"Topic14\", \"Topic14\", \"Topic14\", \"Topic14\", \"Topic14\", \"Topic14\", \"Topic14\", \"Topic14\", \"Topic14\", \"Topic14\", \"Topic14\", \"Topic14\", \"Topic14\", \"Topic14\", \"Topic14\", \"Topic14\", \"Topic14\", \"Topic14\", \"Topic14\", \"Topic14\", \"Topic14\", \"Topic14\", \"Topic14\", \"Topic14\", \"Topic14\", \"Topic14\", \"Topic14\", \"Topic14\", \"Topic14\", \"Topic14\", \"Topic14\", \"Topic14\", \"Topic14\", \"Topic14\", \"Topic14\", \"Topic14\", \"Topic14\", \"Topic14\", \"Topic14\", \"Topic14\", \"Topic14\", \"Topic14\", \"Topic14\", \"Topic15\", \"Topic15\", \"Topic15\", \"Topic15\", \"Topic15\", \"Topic15\", \"Topic15\", \"Topic15\", \"Topic15\", \"Topic15\", \"Topic15\", \"Topic15\", \"Topic15\", \"Topic15\", \"Topic15\", \"Topic15\", \"Topic15\", \"Topic15\", \"Topic15\", \"Topic15\", \"Topic15\", \"Topic15\", \"Topic15\", \"Topic15\", \"Topic15\", \"Topic15\", \"Topic15\", \"Topic15\", \"Topic15\", \"Topic15\", \"Topic15\", \"Topic15\", \"Topic15\", \"Topic15\", \"Topic15\", \"Topic15\", \"Topic15\", \"Topic15\", \"Topic15\", \"Topic15\", \"Topic15\", \"Topic15\", \"Topic15\", \"Topic15\", \"Topic15\", \"Topic15\", \"Topic15\", \"Topic15\", \"Topic15\", \"Topic15\", \"Topic15\", \"Topic16\", \"Topic16\", \"Topic16\", \"Topic16\", \"Topic16\", \"Topic16\", \"Topic16\", \"Topic16\", \"Topic16\", \"Topic16\", \"Topic16\", \"Topic16\", \"Topic16\", \"Topic16\", \"Topic16\", \"Topic16\", \"Topic16\", \"Topic16\", \"Topic16\", \"Topic16\", \"Topic16\", \"Topic16\", \"Topic16\", \"Topic16\", \"Topic16\", \"Topic16\", \"Topic16\", \"Topic16\", \"Topic16\", \"Topic16\", \"Topic16\", \"Topic16\", \"Topic16\", \"Topic16\", \"Topic16\", \"Topic16\", \"Topic16\", \"Topic16\", \"Topic16\", \"Topic16\", \"Topic16\", \"Topic16\", \"Topic16\", \"Topic16\", \"Topic16\", \"Topic16\", \"Topic16\", \"Topic16\", \"Topic16\", \"Topic16\", \"Topic16\", \"Topic16\", \"Topic17\", \"Topic17\", \"Topic17\", \"Topic17\", \"Topic17\", \"Topic17\", \"Topic17\", \"Topic17\", \"Topic17\", \"Topic17\", \"Topic17\", \"Topic17\", \"Topic17\", \"Topic17\", \"Topic17\", \"Topic17\", \"Topic17\", \"Topic17\", \"Topic17\", \"Topic17\", \"Topic17\", \"Topic17\", \"Topic17\", \"Topic17\", \"Topic17\", \"Topic17\", \"Topic17\", \"Topic17\", \"Topic17\", \"Topic17\", \"Topic17\", \"Topic17\", \"Topic17\", \"Topic17\", \"Topic17\", \"Topic17\", \"Topic17\", \"Topic17\", \"Topic17\", \"Topic17\", \"Topic17\", \"Topic17\", \"Topic17\", \"Topic17\", \"Topic17\", \"Topic17\", \"Topic17\", \"Topic17\", \"Topic17\", \"Topic17\", \"Topic17\", \"Topic18\", \"Topic18\", \"Topic18\", \"Topic18\", \"Topic18\", \"Topic18\", \"Topic18\", \"Topic18\", \"Topic18\", \"Topic18\", \"Topic18\", \"Topic18\", \"Topic18\", \"Topic18\", \"Topic18\", \"Topic18\", \"Topic18\", \"Topic18\", \"Topic18\", \"Topic18\", \"Topic18\", \"Topic18\", \"Topic18\", \"Topic18\", \"Topic18\", \"Topic18\", \"Topic18\", \"Topic18\", \"Topic18\", \"Topic18\", \"Topic18\", \"Topic18\", \"Topic18\", \"Topic18\", \"Topic18\", \"Topic18\", \"Topic18\", \"Topic18\", \"Topic18\", \"Topic18\", \"Topic18\", \"Topic18\", \"Topic18\", \"Topic18\", \"Topic18\", \"Topic19\", \"Topic19\", \"Topic19\", \"Topic19\", \"Topic19\", \"Topic19\", \"Topic19\", \"Topic19\", \"Topic19\", \"Topic19\", \"Topic19\", \"Topic19\", \"Topic19\", \"Topic19\", \"Topic19\", \"Topic19\", \"Topic19\", \"Topic19\", \"Topic19\", \"Topic19\", \"Topic19\", \"Topic19\", \"Topic19\", \"Topic19\", \"Topic19\", \"Topic19\", \"Topic19\", \"Topic19\", \"Topic19\", \"Topic19\", \"Topic19\", \"Topic19\", \"Topic19\", \"Topic19\", \"Topic19\", \"Topic19\", \"Topic19\", \"Topic19\", \"Topic19\", \"Topic19\", \"Topic19\", \"Topic19\", \"Topic19\", \"Topic19\", \"Topic19\", \"Topic19\", \"Topic19\", \"Topic19\", \"Topic19\", \"Topic19\", \"Topic20\", \"Topic20\", \"Topic20\", \"Topic20\", \"Topic20\", \"Topic20\", \"Topic20\", \"Topic20\", \"Topic20\", \"Topic20\", \"Topic20\", \"Topic20\", \"Topic20\", \"Topic20\", \"Topic20\", \"Topic20\", \"Topic20\", \"Topic20\", \"Topic20\", \"Topic20\", \"Topic20\", \"Topic20\", \"Topic20\", \"Topic20\", \"Topic20\", \"Topic20\", \"Topic20\", \"Topic20\", \"Topic20\", \"Topic20\", \"Topic20\", \"Topic20\", \"Topic20\", \"Topic20\", \"Topic20\", \"Topic20\", \"Topic20\", \"Topic20\", \"Topic20\", \"Topic20\", \"Topic20\", \"Topic20\", \"Topic20\", \"Topic20\", \"Topic20\", \"Topic20\", \"Topic20\", \"Topic20\", \"Topic20\", \"Topic20\", \"Topic20\", \"Topic20\", \"Topic20\", \"Topic20\", \"Topic20\", \"Topic20\", \"Topic20\", \"Topic20\"], \"logprob\": [30.0, 29.0, 28.0, 27.0, 26.0, 25.0, 24.0, 23.0, 22.0, 21.0, 20.0, 19.0, 18.0, 17.0, 16.0, 15.0, 14.0, 13.0, 12.0, 11.0, 10.0, 9.0, 8.0, 7.0, 6.0, 5.0, 4.0, 3.0, 2.0, 1.0, -5.078700065612793, -5.039100170135498, -5.078700065612793, -5.078700065612793, -5.44290018081665, -5.44290018081665, -5.44290018081665, -5.44290018081665, -5.44290018081665, -5.44290018081665, -5.44290018081665, -5.573200225830078, -5.009799957275391, -5.44290018081665, -5.44290018081665, -5.44290018081665, -5.44290018081665, -5.496500015258789, -5.557199954986572, -5.039100170135498, -5.38640022277832, -5.434500217437744, -5.44290018081665, -5.44290018081665, -5.44290018081665, -5.44290018081665, -5.44290018081665, -5.039100170135498, -5.715099811553955, -6.131199836730957, -5.039100170135498, -4.764200210571289, -4.781799793243408, -4.498199939727783, -4.577300071716309, -4.545599937438965, -4.934899806976318, -5.039100170135498, -4.903800010681152, -4.212500095367432, -5.039100170135498, -4.900599956512451, -5.238800048828125, -5.039100170135498, -5.039100170135498, -5.039100170135498, -5.039100170135498, -5.067699909210205, -5.434500217437744, -5.435800075531006, -5.44290018081665, -5.018599987030029, -5.015999794006348, -5.015999794006348, -5.380199909210205, -5.380199909210205, -4.976399898529053, -5.303800106048584, -5.1331000328063965, -5.380199909210205, -5.015999794006348, -5.440100193023682, -5.440100193023682, -5.380199909210205, -5.384699821472168, -5.383200168609619, -4.976399898529053, -4.976399898529053, -5.440100193023682, -5.015999794006348, -5.015999794006348, -5.383299827575684, -5.380199909210205, -5.380199909210205, -5.380199909210205, -5.380199909210205, -5.383299827575684, -6.068399906158447, -6.068399906158447, -6.068399906158447, -6.068399906158447, -4.976399898529053, -4.981100082397461, -4.690700054168701, -4.548600196838379, -4.976399898529053, -4.976399898529053, -4.689499855041504, -4.979100227355957, -4.689499855041504, -4.751399993896484, -4.976399898529053, -4.690999984741211, -4.692299842834473, -4.976399898529053, -5.179299831390381, -5.292500019073486, -5.323699951171875, -5.323699951171875, -5.323699951171875, -4.953999996185303, -4.993599891662598, -4.770400047302246, -5.357800006866455, -5.357800006866455, -5.093999862670898, -4.953999996185303, -5.357800006866455, -4.993599891662598, -5.417699813842773, -5.417699813842773, -4.953999996185303, -5.357800006866455, -5.357800006866455, -5.357800006866455, -5.357800006866455, -5.3765997886657715, -5.3815999031066895, -5.380199909210205, -4.953999996185303, -5.417699813842773, -5.417699813842773, -5.64169979095459, -3.879699945449829, -4.804599761962891, -5.505799770355225, -5.357800006866455, -4.96750020980835, -5.357800006866455, -4.967299938201904, -4.248000144958496, -4.978899955749512, -4.667200088500977, -4.953999996185303, -4.696700096130371, -4.953999996185303, -4.966899871826172, -4.667200088500977, -4.708000183105469, -4.262499809265137, -4.943299770355225, -4.217599868774414, -4.667200088500977, -4.444499969482422, -4.68179988861084, -4.646200180053711, -4.990900039672852, -4.953999996185303, -4.785600185394287, -4.953999996185303, -4.8780999183654785, -4.693900108337402, -4.977700233459473, -5.3420000076293945, -5.3420000076293945, -5.3420000076293945, -5.3734002113342285, -4.722700119018555, -5.3420000076293945, -5.3420000076293945, -5.3420000076293945, -5.350200176239014, -5.663599967956543, -5.401899814605713, -5.401899814605713, -4.977700233459473, -5.3420000076293945, -5.3420000076293945, -4.977700233459473, -4.683000087738037, -4.938199996948242, -4.938199996948242, -4.943699836730957, -5.3420000076293945, -5.3420000076293945, -5.3420000076293945, -5.3420000076293945, -6.030200004577637, -6.030200004577637, -6.030200004577637, -6.030200004577637, -4.651299953460693, -4.938199996948242, -4.938199996948242, -5.3420000076293945, -4.938199996948242, -4.452300071716309, -4.100200176239014, -4.400400161743164, -4.977700233459473, -4.676799774169922, -4.82889986038208, -4.945199966430664, -4.938199996948242, -4.945199966430664, -4.769599914550781, -4.938199996948242, -5.014500141143799, -4.963099956512451, -4.938199996948242, -4.982699871063232, -5.14109992980957, -5.285399913787842, -4.93310022354126, -5.297399997711182, -4.93310022354126, -4.93310022354126, -4.464300155639648, -5.297399997711182, -4.646900177001953, -4.433000087738037, -3.325900077819824, -4.9405999183654785, -5.297399997711182, -5.297399997711182, -5.297399997711182, -5.297399997711182, -4.227200031280518, -5.53980016708374, -5.9145002365112305, -4.893599987030029, -5.297399997711182, -5.297399997711182, -5.297399997711182, -5.297399997711182, -5.297399997711182, -5.297399997711182, -5.297399997711182, -5.985599994659424, -5.985599994659424, -5.985599994659424, -5.985599994659424, -5.985599994659424, -4.789400100708008, -4.9899001121521, -5.5320000648498535, -4.93310022354126, -5.297399997711182, -5.302299976348877, -4.6066999435424805, -4.893599987030029, -4.956699848175049, -4.970799922943115, -4.816500186920166, -4.541999816894531, -4.765200138092041, -4.6066999435424805, -4.893599987030029, -4.893599987030029, -4.893599987030029, -4.893599987030029, -5.032700061798096, -4.855500221252441, -5.096499919891357, -5.160600185394287, -5.214000225067139, -5.1875, -4.8917999267578125, -4.969600200653076, -5.277100086212158, -5.277100086212158, -5.336999893188477, -4.912899971008301, -4.586400032043457, -4.6290998458862305, -5.277100086212158, -5.277100086212158, -5.277100086212158, -5.277100086212158, -4.912899971008301, -5.3018999099731445, -4.436299800872803, -4.873300075531006, -4.914299964904785, -5.277100086212158, -4.889699935913086, -5.565299987792969, -5.238100051879883, -5.9653000831604, -5.9653000831604, -5.277100086212158, -5.277100086212158, -5.277100086212158, -5.284299850463867, -4.902100086212158, -5.9653000831604, -5.9653000831604, -4.5731000900268555, -4.873300075531006, -4.889800071716309, -5.336999893188477, -4.8942999839782715, -4.410999774932861, -4.616000175476074, -4.586400032043457, -4.098899841308594, -4.866700172424316, -4.873300075531006, -4.565100193023682, -4.8780999183654785, -4.873300075531006, -4.892199993133545, -5.058599948883057, -5.0096001625061035, -5.266600131988525, -4.571499824523926, -5.232600212097168, -5.292500019073486, -5.292500019073486, -4.828800201416016, -5.232600212097168, -5.232600212097168, -5.232600212097168, -4.828800201416016, -4.8684000968933105, -4.541900157928467, -5.232600212097168, -5.232600212097168, -4.469200134277344, -5.232600212097168, -5.457399845123291, -4.571499824523926, -5.874100208282471, -4.13730001449585, -4.541900157928467, -5.232600212097168, -5.232600212097168, -5.232600212097168, -5.232600212097168, -5.232600212097168, -5.92080020904541, -5.92080020904541, -5.92080020904541, -5.92080020904541, -5.92080020904541, -4.577300071716309, -5.039599895477295, -4.454599857330322, -5.070899963378906, -5.232600212097168, -4.127099990844727, -4.21999979019165, -4.300300121307373, -4.682600021362305, -4.671199798583984, -4.828800201416016, -4.541900157928467, -4.828800201416016, -4.828800201416016, -4.8684000968933105, -5.138599872589111, -5.2052998542785645, -5.193299770355225, -5.232600212097168, -5.232600212097168, -5.232600212097168, -4.818900108337402, -5.204400062561035, -5.204400062561035, -5.204400062561035, -5.204400062561035, -5.352399826049805, -4.344699859619141, -4.513700008392334, -4.800600051879883, -4.800600051879883, -4.800600051879883, -5.204400062561035, -5.2642998695373535, -3.8543999195098877, -4.257800102233887, -5.204400062561035, -5.204400062561035, -5.204400062561035, -5.236499786376953, -5.263500213623047, -4.314700126647949, -5.892600059509277, -5.892600059509277, -5.892600059509277, -5.892600059509277, -5.892600059509277, -5.892600059509277, -5.892600059509277, -5.892600059509277, -5.892600059509277, -5.2642998695373535, -3.595099925994873, -4.800600051879883, -4.800600051879883, -4.559599876403809, -5.204400062561035, -5.204400062561035, -5.363100051879883, -4.219600200653076, -4.800600051879883, -4.800600051879883, -4.800600051879883, -4.800600051879883, -4.776299953460693, -4.800600051879883, -4.961400032043457, -5.094600200653076, -5.204400062561035, -5.204400062561035, -5.204400062561035, -5.204400062561035, -5.204400062561035, -4.599699974060059, -5.154399871826172, -5.154399871826172, -5.154300212860107, -5.154399871826172, -5.154300212860107, -5.302299976348877, -4.750500202178955, -5.154300212860107, -5.154399871826172, -5.154399871826172, -5.154399871826172, -5.154399871826172, -5.154399871826172, -5.302299976348877, -5.302299976348877, -5.302299976348877, -5.154399871826172, -5.154399871826172, -5.373499870300293, -5.47599983215332, -5.302299976348877, -4.750500202178955, -5.154399871826172, -5.154399871826172, -5.154399871826172, -5.154399871826172, -5.154399871826172, -5.154399871826172, -5.827499866485596, -4.463699817657471, -4.241000175476074, -4.56689977645874, -4.750500202178955, -4.750500202178955, -4.463699817657471, -4.297800064086914, -4.152599811553955, -4.750500202178955, -4.463699817657471, -4.750500202178955, -4.79010009765625, -5.097899913787842, -5.150199890136719, -5.154399871826172, -5.154399871826172, -5.154399871826172, -5.070000171661377, -5.129799842834473, -4.762499809265137, -5.070000171661377, -5.070000171661377, -5.375199794769287, -4.705699920654297, -5.070000171661377, -5.070000171661377, -5.070000171661377, -5.114799976348877, -4.667200088500977, -5.758200168609619, -5.758200168609619, -5.758200168609619, -5.758200168609619, -5.758200168609619, -5.758200168609619, -5.758200168609619, -5.758200168609619, -5.758200168609619, -5.758200168609619, -5.758200168609619, -5.758200168609619, -5.758200168609619, -5.758200168609619, -5.758200168609619, -5.758200168609619, -5.758200168609619, -5.758200168609619, -4.740200042724609, -4.023600101470947, -4.574100017547607, -4.824699878692627, -4.666100025177002, -4.681000232696533, -5.071700096130371, -4.785099983215332, -4.824699878692627, -4.213399887084961, -4.754000186920166, -5.070000171661377, -5.070000171661377, -5.070000171661377, -4.432499885559082, -4.46750020980835, -4.666100025177002, -4.509900093078613, -4.979700088500977, -4.91540002822876, -5.070000171661377, -5.070000171661377, -5.070000171661377, -5.070000171661377, -5.070000171661377, -5.094900131225586, -5.094900131225586, -5.094900131225586, -5.094900131225586, -5.132699966430664, -5.094900131225586, -5.094900131225586, -5.094900131225586, -5.094900131225586, -5.094900131225586, -4.067299842834473, -4.691100120544434, -4.7307000160217285, -5.094900131225586, -5.094900131225586, -4.691100120544434, -4.691100120544434, -5.094900131225586, -5.094900131225586, -5.094900131225586, -4.712800025939941, -5.783100128173828, -5.783100128173828, -5.783199787139893, -5.783100128173828, -5.783100128173828, -5.783100128173828, -5.783100128173828, -5.783100128173828, -5.783199787139893, -3.8770999908447266, -4.691100120544434, -5.123700141906738, -5.094900131225586, -5.094900131225586, -4.404300212860107, -5.094900131225586, -5.094900131225586, -4.89709997177124, -4.691100120544434, -4.691100120544434, -5.094900131225586, -5.094900131225586, -5.094900131225586, -5.094900131225586, -5.094900131225586, -4.688300132751465, -4.4344000816345215, -4.729499816894531, -4.688300132751465, -5.052499771118164, -5.052499771118164, -5.052499771118164, -5.052499771118164, -5.112400054931641, -5.052499771118164, -5.145500183105469, -5.052499771118164, -5.052499771118164, -5.065000057220459, -5.112400054931641, -4.688300132751465, -5.052499771118164, -5.06689977645874, -5.740699768066406, -5.740699768066406, -5.740699768066406, -5.740699768066406, -5.740699768066406, -5.740699768066406, -5.740699768066406, -5.740699768066406, -5.740699768066406, -5.740699768066406, -5.740699768066406, -5.740699768066406, -4.661600112915039, -4.39139986038208, -5.052499771118164, -5.052499771118164, -5.052499771118164, -4.1717000007629395, -4.176700115203857, -4.64870023727417, -5.134900093078613, -5.052499771118164, -5.052499771118164, -4.361800193786621, -4.361800193786621, -4.730899810791016, -4.6539998054504395, -5.052499771118164, -5.052499771118164, -5.052499771118164, -5.052499771118164, -5.052499771118164, -5.052499771118164, -5.052499771118164, -5.052499771118164, -5.052499771118164, -5.052499771118164, -5.052499771118164, -4.6092000007629395, -5.07289981842041, -5.044600009918213, -5.07289981842041, -5.013000011444092, -5.013000011444092, -4.812099933624268, -4.66349983215332, -4.648799896240234, -5.045000076293945, -5.052800178527832, -5.263400077819824, -5.058700084686279, -4.6092000007629395, -4.322299957275391, -5.013000011444092, -5.013000011444092, -5.013000011444092, -5.701200008392334, -5.701200008392334, -5.701200008392334, -5.701200008392334, -5.701200008392334, -5.701200008392334, -5.701200008392334, -5.701200008392334, -5.701200008392334, -5.701200008392334, -5.701200008392334, -5.701200008392334, -5.013000011444092, -5.013000011444092, -4.322299957275391, -5.040900230407715, -5.013000011444092, -5.013000011444092, -5.013000011444092, -4.521299839019775, -4.343500137329102, -5.013000011444092, -5.121699810028076, -4.168099880218506, -4.615099906921387, -5.013000011444092, -5.013000011444092, -5.013000011444092, -5.019000053405762, -5.013000011444092, -5.013000011444092, -5.013000011444092, -5.022200107574463, -5.021200180053711, -4.608699798583984, -4.991799831390381, -4.991799831390381, -4.991799831390381, -4.991799831390381, -4.730400085449219, -5.139800071716309, -4.120999813079834, -4.991799831390381, -4.991799831390381, -4.991799831390381, -3.9577999114990234, -5.051700115203857, -4.730400085449219, -4.5879998207092285, -4.991799831390381, -4.991799831390381, -4.991799831390381, -4.5879998207092285, -5.680099964141846, -4.991799831390381, -4.991799831390381, -5.680099964141846, -5.680099964141846, -5.680099964141846, -5.680099964141846, -5.680099964141846, -5.680099964141846, -5.680099964141846, -5.680099964141846, -5.051700115203857, -5.052499771118164, -4.991799831390381, -5.2733001708984375, -5.051700115203857, -4.693699836730957, -5.051700115203857, -5.0792999267578125, -4.991799831390381, -4.630899906158447, -4.684299945831299, -4.881800174713135, -4.991799831390381, -4.991799831390381, -4.991799831390381, -4.991799831390381, -4.991799831390381, -4.991799831390381, -4.991799831390381, -4.991799831390381, -4.991799831390381, -4.579400062561035, -5.019599914550781, -4.9832000732421875, -4.9832000732421875, -4.9832000732421875, -4.9832000732421875, -4.9832000732421875, -4.981500148773193, -4.9832000732421875, -4.9832000732421875, -4.9832000732421875, -5.043099880218506, -4.352399826049805, -4.9832000732421875, -4.9832000732421875, -5.003300189971924, -4.3282999992370605, -3.9075000286102295, -4.9832000732421875, -4.9832000732421875, -4.9832000732421875, -4.9832000732421875, -4.618899822235107, -5.131100177764893, -5.67140007019043, -5.67140007019043, -5.67140007019043, -5.67140007019043, -5.67140007019043, -5.67140007019043, -5.043099880218506, -4.923699855804443, -4.9832000732421875, -4.9832000732421875, -4.9832000732421875, -4.9832000732421875, -4.636199951171875, -4.578400135040283, -4.60260009765625, -4.618899822235107, -4.579400062561035, -4.5731000900268555, -4.902200222015381, -4.906799793243408, -4.981900215148926, -4.9832000732421875, -4.9832000732421875, -4.9832000732421875, -4.9832000732421875, -4.9832000732421875, -4.9832000732421875, -4.964799880981445, -5.024700164794922, -5.112800121307373, -4.964799880981445, -4.964799880981445, -4.964799880981445, -4.964799880981445, -4.964799880981445, -4.964799880981445, -4.600599765777588, -4.560999870300293, -4.075099945068359, -4.964799880981445, -4.964799880981445, -4.964799880981445, -5.024700164794922, -4.964799880981445, -4.964799880981445, -4.964799880981445, -4.964799880981445, -4.964799880981445, -4.964799880981445, -4.964799880981445, -5.6529998779296875, -5.6529998779296875, -5.6529998779296875, -5.6529998779296875, -5.6529998779296875, -5.6529998779296875, -5.6529998779296875, -4.188600063323975, -4.345600128173828, -4.600599765777588, -4.560999870300293, -4.560999870300293, -4.964799880981445, -4.964799880981445, -4.051499843597412, -4.560999870300293, -4.560999870300293, -4.707200050354004, -4.536900043487549, -4.560999870300293, -4.600599765777588, -4.964799880981445, -4.964799880981445, -4.964799880981445, -4.964799880981445, -4.964799880981445, -4.964799880981445, -4.964799880981445, -4.964799880981445, -4.357800006866455, -4.9421000480651855, -5.016900062561035, -4.986800193786621, -4.043700218200684, -5.017000198364258, -5.016900062561035, -5.032700061798096, -4.592800140380859, -4.553199768066406, -4.957099914550781, -4.957099914550781, -4.957099914550781, -5.016900062561035, -5.017000198364258, -4.636600017547607, -3.8821001052856445, -4.636300086975098, -5.016900062561035, -4.999800205230713, -5.27869987487793, -4.957099914550781, -5.645299911499023, -5.645299911499023, -5.645299911499023, -5.645299911499023, -5.645299911499023, -5.645299911499023, -5.645299911499023, -5.645299911499023, -4.957099914550781, -4.988900184631348, -4.957099914550781, -4.957099914550781, -4.296000003814697, -4.938000202178955, -4.957099914550781, -4.957099914550781, -4.429200172424316, -4.553199768066406, -4.957099914550781, -4.957099914550781, -4.957099914550781, -4.957099914550781, -4.957099914550781, -4.957099914550781, -4.957099914550781, -4.957099914550781, -4.957099914550781, -4.957099914550781, -4.957099914550781, -4.481400012969971, -4.481400012969971, -2.993000030517578, -4.845600128173828, -5.042500019073486, -4.441800117492676, -4.845600128173828, -4.845600128173828, -4.845600128173828, -4.9054999351501465, -4.9054999351501465, -5.042500019073486, -4.845600128173828, -4.845600128173828, -4.845600128173828, -4.224100112915039, -4.9054999351501465, -4.517499923706055, -4.845600128173828, -4.845600128173828, -5.53380012512207, -5.53380012512207, -5.53380012512207, -5.53380012512207, -5.53380012512207, -5.53380012512207, -5.53380012512207, -5.53380012512207, -5.53380012512207, -5.53380012512207, -4.9054999351501465, -4.184500217437744, -4.057600021362305, -4.441800117492676, -4.845600128173828, -4.441800117492676, -4.9054999351501465, -4.845600128173828, -4.347099781036377, -4.441800117492676, -4.441800117492676, -4.845600128173828, -4.8454999923706055, -4.842800140380859, -4.875999927520752, -4.789100170135498, -4.8703999519348145, -4.424900054931641, -4.388599872589111, -4.400899887084961, -4.40310001373291, -4.848999977111816, -3.940000057220459, -4.908599853515625, -4.93720006942749, -4.7932000160217285, -4.848999977111816, -4.848999977111816, -4.8703999519348145, -5.47730016708374, -4.807400226593018, -5.47730016708374, -5.47730016708374, -5.47730016708374, -5.47730016708374, -5.47730016708374, -5.47730016708374, -5.47730016708374, -5.47730016708374, -5.47730016708374, -5.47730016708374, -5.47730016708374, -5.47730016708374, -5.47730016708374, -5.47730016708374, -4.130899906158447, -4.789100170135498, -4.789100170135498, -4.424900054931641, -4.848999977111816, -5.110799789428711, -4.385300159454346, -4.885799884796143, -4.653200149536133, -4.789100170135498, -4.789100170135498, -4.448299884796143, -4.789100170135498, -4.789100170135498, -4.304699897766113, -4.521900177001953, -4.789100170135498, -4.703800201416016, -4.789100170135498, -4.789100170135498, -4.606200218200684, -4.816299915313721, -4.904300212860107, -4.750100135803223, -4.75629997253418, -4.816199779510498, -4.816199779510498, -4.75629997253418, -4.75629997253418, -4.75629997253418, -4.75629997253418, -4.816199779510498, -4.816199779510498, -4.185400009155273, -5.444499969482422, -5.444499969482422, -5.444499969482422, -5.444499969482422, -5.444499969482422, -5.444499969482422, -5.444499969482422, -5.444499969482422, -5.444499969482422, -5.444499969482422, -5.444499969482422, -5.444499969482422, -5.444499969482422, -5.444499969482422, -5.444499969482422, -5.444499969482422, -4.660799980163574, -4.75629997253418, -4.352499961853027, -4.904300212860107, -4.816199779510498, -4.1483001708984375, -4.660799980163574, -4.75629997253418, -4.75629997253418, -4.75629997253418, -4.049499988555908, -4.75629997253418, -5.138800144195557, -4.722700119018555, -4.75629997253418, -4.75629997253418, -4.816199779510498, -4.5117998123168945, -4.690299987792969, -4.75629997253418, -4.75629997253418, -4.75629997253418, -4.75629997253418, -4.75629997253418, -4.750800132751465, -4.75629997253418, -4.75629997253418, -4.75629997253418], \"loglift\": [30.0, 29.0, 28.0, 27.0, 26.0, 25.0, 24.0, 23.0, 22.0, 21.0, 20.0, 19.0, 18.0, 17.0, 16.0, 15.0, 14.0, 13.0, 12.0, 11.0, 10.0, 9.0, 8.0, 7.0, 6.0, 5.0, 4.0, 3.0, 2.0, 1.0, 2.580199956893921, 2.350399971008301, 2.3099000453948975, 2.3071000576019287, 2.2202000617980957, 2.2202000617980957, 2.219099998474121, 2.2177999019622803, 2.216900110244751, 2.2156999111175537, 2.214400053024292, 2.0857999324798584, 1.9888999462127686, 1.9505000114440918, 1.9478000402450562, 1.9460999965667725, 1.944200038909912, 1.8894000053405762, 1.8286000490188599, 1.8071999549865723, 1.7934999465942383, 1.7391999959945679, 1.7330000400543213, 1.7309000492095947, 1.7309000492095947, 1.730299949645996, 1.7273999452590942, 1.6812000274658203, 1.676900029182434, 1.5657000541687012, 1.5642000436782837, 1.5526000261306763, 1.5361000299453735, 1.3717999458312988, 1.2401000261306763, 1.1325000524520874, 1.3871999979019165, 1.4594999551773071, 1.3377000093460083, 0.4973999857902527, 1.3631999492645264, 0.9160000085830688, 1.4759000539779663, 0.9452000260353088, 0.7774999737739563, 0.7315000295639038, 0.25060001015663147, 0.3172999918460846, 0.972000002861023, 0.5992000102996826, 1.0607000589370728, 2.642199993133545, 2.3733999729156494, 2.3726999759674072, 2.2864999771118164, 2.276599884033203, 2.2046000957489014, 2.0824999809265137, 2.0390000343322754, 2.007200002670288, 2.002700090408325, 1.9529999494552612, 1.9459999799728394, 1.7984000444412231, 1.7928999662399292, 1.7907999753952026, 1.74399995803833, 1.7396999597549438, 1.7382999658584595, 1.7055000066757202, 1.7023999691009521, 1.6200000047683716, 1.6198999881744385, 1.6174999475479126, 1.6164000034332275, 1.6136000156402588, 1.6129000186920166, 1.6018999814987183, 1.5983999967575073, 1.5982999801635742, 1.597000002861023, 1.524899959564209, 1.5231000185012817, 1.4824999570846558, 1.4357000589370728, 1.430999994277954, 1.4294999837875366, 1.2877999544143677, 1.4270000457763672, 1.033400058746338, 0.8902999758720398, 1.1252000331878662, 0.6938999891281128, 0.5974000096321106, 0.7513999938964844, 1.2288999557495117, 0.34549999237060547, 0.4952999949455261, 0.4936999976634979, 0.19599999487400055, 2.71370005607605, 2.674499988555908, 2.4119999408721924, 2.313800096511841, 2.3048999309539795, 2.0864999294281006, 2.0452001094818115, 2.036400079727173, 2.0114998817443848, 1.9774999618530273, 1.9758000373840332, 1.902500033378601, 1.8209999799728394, 1.8188999891281128, 1.8171000480651855, 1.816100001335144, 1.8035999536514282, 1.801800012588501, 1.7937999963760376, 1.7719000577926636, 1.766700029373169, 1.7585999965667725, 1.743499994277954, 1.7164000272750854, 1.6978000402450562, 1.6747000217437744, 1.6533000469207764, 1.6412999629974365, 1.6389000415802002, 1.6368000507354736, 1.621899962425232, 1.6252000331878662, 1.5799000263214111, 1.5513999462127686, 1.4778000116348267, 1.5498000383377075, 1.5347000360488892, 1.3138999938964844, 1.2785999774932861, 0.9174000024795532, 1.381100058555603, 0.49230000376701355, 0.9695000052452087, 0.6327000260353088, 0.8773000240325928, 0.7386999726295471, 1.3305000066757202, 1.2172000408172607, 0.595300018787384, 1.149399995803833, 0.5715000033378601, 2.72979998588562, 2.4149999618530273, 2.324199914932251, 2.3208999633789062, 2.3187999725341797, 2.291599988937378, 2.283099889755249, 2.053299903869629, 2.049999952316284, 2.04830002784729, 2.0464000701904297, 2.0000998973846436, 1.9941999912261963, 1.985700011253357, 1.8733999729156494, 1.836400032043457, 1.832800030708313, 1.7441999912261963, 1.7319999933242798, 1.6720999479293823, 1.6678999662399292, 1.6634999513626099, 1.6628999710083008, 1.6592999696731567, 1.659000039100647, 1.6542999744415283, 1.6425000429153442, 1.6390000581741333, 1.6390000581741333, 1.6385999917984009, 1.594499945640564, 1.5654000043869019, 1.4723999500274658, 1.513800024986267, 1.3865000009536743, 1.1052000522613525, 0.6097000241279602, 0.8626999855041504, 1.3444000482559204, 0.8823000192642212, 0.9416000247001648, 1.0413999557495117, 0.9319000244140625, 0.9246000051498413, 0.41029998660087585, 0.8783000111579895, 1.0871000289916992, 0.7197999954223633, 0.5814999938011169, 0.7451000213623047, 1.2654000520706177, 0.9589999914169312, 2.452699899673462, 2.358599901199341, 2.2439000606536865, 2.238100051879883, 2.1507999897003174, 2.0899999141693115, 2.0706000328063965, 2.0673999786376953, 1.9621000289916992, 1.9047000408172607, 1.8783999681472778, 1.8783999681472778, 1.878100037574768, 1.8752000331878662, 1.875100016593933, 1.8452999591827393, 1.746500015258789, 1.7143000364303589, 1.7032999992370605, 1.7021000385284424, 1.7010999917984009, 1.7002999782562256, 1.6986000537872314, 1.6970000267028809, 1.6964000463485718, 1.6825000047683716, 1.6825000047683716, 1.6797000169754028, 1.6797000169754028, 1.6785000562667847, 1.617900013923645, 1.611299991607666, 1.6444000005722046, 1.5662000179290771, 1.5526000261306763, 1.5424000024795532, 1.2633999586105347, 1.3509999513626099, 1.3666000366210938, 1.2747000455856323, 1.1047999858856201, 0.6378999948501587, 0.9549000263214111, 0.6564000248908997, 1.087499976158142, 1.0821000337600708, 0.784500002861023, 0.3962000012397766, 0.7836999893188477, -0.14560000598430634, 0.5414999723434448, 0.289000004529953, 0.8876000046730042, -0.11029999703168869, 2.4888999462127686, 2.410399913787842, 2.3796000480651855, 2.3759000301361084, 2.31820011138916, 2.2553999423980713, 2.2527999877929688, 2.2123000621795654, 2.10509991645813, 2.1041998863220215, 2.1034998893737793, 2.103300094604492, 2.0969998836517334, 2.0866000652313232, 1.9888999462127686, 1.967900037765503, 1.9296000003814697, 1.8940999507904053, 1.826200008392334, 1.8199000358581543, 1.756100058555603, 1.7355999946594238, 1.7259999513626099, 1.722599983215332, 1.722100019454956, 1.7196999788284302, 1.7096999883651733, 1.7019000053405762, 1.6985000371932983, 1.69760000705719, 1.6684999465942383, 1.6247999668121338, 1.6085000038146973, 1.6578999757766724, 1.5111000537872314, 1.107800006866455, 1.198699951171875, 1.1337000131607056, 0.6110000014305115, 1.2340999841690063, 1.1674000024795532, 0.614799976348877, 1.1569000482559204, 0.646399974822998, 0.6668999791145325, 0.7578999996185303, 0.2802000045776367, 0.7199000120162964, 2.426800012588501, 2.4235999584198, 2.3661999702453613, 2.360300064086914, 2.3450000286102295, 2.1563000679016113, 2.1538000106811523, 2.150599956512451, 2.015500068664551, 1.9739999771118164, 1.9572999477386475, 1.9385000467300415, 1.9378000497817993, 1.9362000226974487, 1.934999942779541, 1.9280999898910522, 1.8344999551773071, 1.784000039100647, 1.7834999561309814, 1.7812999486923218, 1.7654999494552612, 1.76419997215271, 1.7633999586105347, 1.7630000114440918, 1.7618000507354736, 1.7496000528335571, 1.746899962425232, 1.7430000305175781, 1.742900013923645, 1.7419999837875366, 1.6608999967575073, 1.6750999689102173, 1.5807000398635864, 1.6434999704360962, 1.6198999881744385, 1.3224999904632568, 1.298799991607666, 0.7768999934196472, 1.1347999572753906, 1.0489000082015991, 1.146399974822998, 0.1679999977350235, 0.5521000027656555, 0.4343000054359436, 0.4212999939918518, 0.8421000242233276, 1.5117000341415405, 0.5756000280380249, 1.4864000082015991, 1.371500015258789, 1.3671000003814697, 2.835099935531616, 2.4553000926971436, 2.455199956893921, 2.4540998935699463, 2.449399948120117, 2.306999921798706, 2.2688000202178955, 2.2035999298095703, 2.197999954223633, 2.1935999393463135, 2.191699981689453, 2.1823999881744385, 2.1491000652313232, 2.012200117111206, 1.9847999811172485, 1.9699000120162964, 1.9696999788284302, 1.9672000408172607, 1.9337999820709229, 1.9086999893188477, 1.7863999605178833, 1.770400047302246, 1.770400047302246, 1.770300030708313, 1.7690999507904053, 1.7690000534057617, 1.7683000564575195, 1.7683000564575195, 1.7681000232696533, 1.7681000232696533, 1.7354999780654907, 1.482100009918213, 1.6062999963760376, 1.6038999557495117, 1.5432000160217285, 1.6461000442504883, 1.6445000171661377, 1.6318000555038452, 1.0684000253677368, 1.2344000339508057, 1.069200038909912, 1.016800045967102, 1.0160000324249268, 0.906499981880188, 0.7567999958992004, 0.5573999881744385, 0.08529999852180481, 0.567300021648407, 0.17649999260902405, 0.8978999853134155, 0.7182000279426575, 1.1175999641418457, 2.8111000061035156, 2.50819993019104, 2.5041000843048096, 2.502000093460083, 2.5006000995635986, 2.499799966812134, 2.3526999950408936, 2.243499994277954, 2.240600109100342, 2.23580002784729, 2.2334001064300537, 2.2334001064300537, 2.2314000129699707, 2.2297000885009766, 2.0840001106262207, 2.0826001167297363, 2.0808000564575195, 2.019399881362915, 2.014899969100952, 2.011699914932251, 1.916100025177002, 1.875100016593933, 1.8551000356674194, 1.8451999425888062, 1.844599962234497, 1.8442000150680542, 1.8423000574111938, 1.8402999639511108, 1.8391000032424927, 1.8259999752044678, 1.779099941253662, 1.7345999479293823, 1.749400019645691, 1.7503999471664429, 1.750100016593933, 1.6380000114440918, 1.4711999893188477, 1.1104999780654907, 1.3504999876022339, 0.9172000288963318, 0.6990000009536743, -0.08020000159740448, -0.02070000022649765, 0.49149999022483826, 1.6924999952316284, 1.2547999620437622, 0.6646999716758728, 2.5831000804901123, 2.5650999546051025, 2.4066998958587646, 2.31820011138916, 2.3155999183654785, 2.280100107192993, 2.138200044631958, 2.1054000854492188, 2.1024999618530273, 2.0994999408721924, 2.058799982070923, 2.052299976348877, 1.9129999876022339, 1.9128999710083008, 1.9103000164031982, 1.9076999425888062, 1.9076999425888062, 1.9068000316619873, 1.9062999486923218, 1.9062999486923218, 1.9048000574111938, 1.904099941253662, 1.9040000438690186, 1.9039000272750854, 1.9035999774932861, 1.9035999774932861, 1.901900053024292, 1.9017000198364258, 1.9010000228881836, 1.9005999565124512, 1.8651000261306763, 1.7929999828338623, 1.7480000257492065, 1.777400016784668, 1.7414000034332275, 1.72160005569458, 1.7733999490737915, 1.7173999547958374, 1.6765999794006348, 1.5095000267028809, 1.6520999670028687, 1.662500023841858, 1.6497000455856323, 1.6496000289916992, 1.336400032043457, 1.2106000185012817, 1.254699945449829, 1.1267000436782837, 1.2656999826431274, 0.6025999784469604, 1.4320000410079956, 0.10989999771118164, 1.4285999536514282, 1.2482000589370728, 1.3360999822616577, 2.5768001079559326, 2.576200008392334, 2.576200008392334, 2.575500011444092, 2.539799928665161, 2.305799961090088, 2.303100109100342, 2.302299976348877, 2.299999952316284, 2.299799919128418, 2.185699939727783, 2.1675000190734863, 2.1296000480651855, 2.0841000080108643, 2.0836000442504883, 1.919600009918213, 1.916700005531311, 1.916200041770935, 1.9122999906539917, 1.909000039100647, 1.8968000411987305, 1.8906999826431274, 1.8903000354766846, 1.8896000385284424, 1.8896000385284424, 1.8883999586105347, 1.888100028038025, 1.8871999979019165, 1.8861000537872314, 1.8861000537872314, 1.7646000385284424, 1.7237999439239502, 1.7352999448776245, 1.6282999515533447, 1.6276999711990356, 1.3235000371932983, 1.5120999813079834, 1.509600043296814, 1.3482999801635742, 1.1279000043869019, 0.6898000240325928, 1.2295000553131104, 1.0795999765396118, 1.320099949836731, 1.2279000282287598, 0.9458000063896179, 2.981800079345703, 2.7464001178741455, 2.7260000705718994, 2.70770001411438, 2.6145999431610107, 2.613600015640259, 2.611299991607666, 2.6105000972747803, 2.5611000061035156, 2.341200113296509, 2.2474000453948975, 2.125, 2.124799966812134, 2.116300106048584, 2.0676000118255615, 2.036799907684326, 1.9471999406814575, 1.9342999458312988, 1.9332000017166138, 1.9320000410079956, 1.9305000305175781, 1.9292999505996704, 1.927899956703186, 1.9265999794006348, 1.9257999658584595, 1.9253000020980835, 1.924299955368042, 1.9239000082015991, 1.9239000082015991, 1.9229999780654907, 1.8423999547958374, 1.7879999876022339, 1.8006999492645264, 1.7999999523162842, 1.7978999614715576, 1.5973000526428223, 1.5950000286102295, 1.5942000150680542, 1.7139999866485596, 1.6799999475479126, 1.670699954032898, 1.3209999799728394, 1.2762000560760498, 0.7186999917030334, 0.05590000003576279, 1.555799961090088, 1.5549999475479126, 1.4500000476837158, 1.3544000387191772, 1.1919000148773193, 0.6753000020980835, 1.3595000505447388, 1.3530000448226929, 1.0491000413894653, 1.2696000337600708, 0.8141000270843506, 3.062000036239624, 2.628000020980835, 2.621299982070923, 2.593400001525879, 2.3803999423980713, 2.378000020980835, 2.369999885559082, 2.358599901199341, 2.3529999256134033, 2.3513998985290527, 2.3405001163482666, 2.130000114440918, 2.1201000213623047, 2.1138999462127686, 2.0009000301361084, 1.9903000593185425, 1.988800048828125, 1.9851000308990479, 1.9726999998092651, 1.971500039100647, 1.969099998474121, 1.9687999486923218, 1.9675999879837036, 1.9673999547958374, 1.9672000408172607, 1.9667999744415283, 1.9665000438690186, 1.964900016784668, 1.964400053024292, 1.9641000032424927, 1.8407000303268433, 1.8391000032424927, 1.658400058746338, 1.812000036239624, 1.7129000425338745, 1.7120000123977661, 1.7056000232696533, 1.2015999555587769, 1.0413999557495117, 1.4888999462127686, 1.4864000082015991, 0.5418000221252441, 0.8345000147819519, 1.309399962425232, 1.232800006866455, 0.909600019454956, 1.0820000171661377, 0.6697999835014343, 0.5058000087738037, 0.2500999867916107, 0.7924000024795532, 0.6154000163078308, 3.054500102996826, 2.6728999614715576, 2.671600103378296, 2.6684999465942383, 2.666100025177002, 2.6594998836517334, 2.5257999897003174, 2.4853999614715576, 2.3994998931884766, 2.39739990234375, 2.3949999809265137, 2.365499973297119, 2.332900047302246, 2.267199993133545, 2.262399911880493, 2.1858999729156494, 2.185699939727783, 2.1805999279022217, 2.1342999935150146, 2.014899969100952, 2.0125999450683594, 2.0083999633789062, 1.9911999702453613, 1.9872000217437744, 1.9860999584197998, 1.9859999418258667, 1.9838999509811401, 1.9838000535964966, 1.9835000038146973, 1.9830000400543213, 1.9700000286102295, 1.954699993133545, 1.8561999797821045, 1.9043999910354614, 1.8157000541687012, 1.7116999626159668, 1.8014999628067017, 1.767899990081787, 1.6155999898910522, 1.1856000423431396, 1.1857000589370728, 0.7598999738693237, 1.4230999946594238, 1.4107999801635742, 1.3295999765396118, 1.1792000532150269, 1.1787999868392944, 0.27129998803138733, 0.7799000144004822, 0.526199996471405, 0.39309999346733093, 3.0769999027252197, 2.6789000034332275, 2.678100109100342, 2.677000045776367, 2.6745998859405518, 2.6745998859405518, 2.6744000911712646, 2.6744000911712646, 2.6735000610351562, 2.672499895095825, 2.671999931335449, 2.648200035095215, 2.4955999851226807, 2.405900001525879, 2.4030001163482666, 2.3838999271392822, 2.2776999473571777, 2.1958999633789062, 2.191699981689453, 2.1916000843048096, 2.1910998821258545, 2.1884000301361084, 2.113600015640259, 2.0425000190734863, 2.0002999305725098, 1.9948999881744385, 1.9946999549865723, 1.9940999746322632, 1.99399995803833, 1.9936000108718872, 1.9774999618530273, 1.9251999855041504, 1.8697999715805054, 1.864300012588501, 1.8639999628067017, 1.8631000518798828, 1.6857999563217163, 1.399899959564209, 1.3200000524520874, 1.1088000535964966, 0.8015999794006348, 0.6068000197410583, 1.5986000299453735, 1.0774999856948853, 1.1872999668121338, 1.7353999614715576, 0.5347999930381775, 1.6186000108718872, 0.9940999746322632, 0.2799000144004822, 1.7360999584197998, 2.7000999450683594, 2.634999990463257, 2.5471999645233154, 2.4298999309539795, 2.426300048828125, 2.4254000186920166, 2.424999952316284, 2.421999931335449, 2.4209001064300537, 2.3977999687194824, 2.289799928665161, 2.2581000328063965, 2.213900089263916, 2.213399887084961, 2.209199905395508, 2.176300048828125, 2.039400100708008, 2.038300037384033, 2.036799907684326, 2.03629994392395, 2.03410005569458, 2.0327000617980957, 2.031899929046631, 2.0155999660491943, 2.014400005340576, 2.0130999088287354, 2.0129001140594482, 2.0116000175476074, 2.0116000175476074, 2.010699987411499, 1.9823999404907227, 1.9010000228881836, 1.9013999700546265, 1.8461999893188477, 1.8451000452041626, 1.8907999992370605, 1.8884999752044678, 1.2381999492645264, 1.5413000583648682, 1.2580000162124634, 1.4638999700546265, 0.9819999933242798, 0.7020999789237976, 0.7843999862670898, 1.4420000314712524, 0.8069000244140625, 1.5360000133514404, 1.0758999586105347, 1.3598999977111816, 0.5925999879837036, 1.8840999603271484, 1.756600022315979, 2.864000082015991, 2.721299886703491, 2.6798999309539795, 2.6765999794006348, 2.6738998889923096, 2.6438000202178955, 2.640899896621704, 2.629699945449829, 2.578900098800659, 2.4442999362945557, 2.4326999187469482, 2.4291000366210938, 2.425800085067749, 2.372999906539917, 2.370800018310547, 2.357599973678589, 2.2195000648498535, 2.212599992752075, 2.1837000846862793, 2.1770999431610107, 2.108299970626831, 2.036400079727173, 2.019200086593628, 2.0181000232696533, 2.0176000595092773, 2.017199993133545, 2.0169999599456787, 2.0162999629974365, 2.016200065612793, 2.0160999298095703, 1.8938000202178955, 1.8645999431610107, 1.7648999691009521, 1.6490000486373901, 1.263100028038025, 1.565999984741211, 1.5443999767303467, 1.5413000583648682, 0.8589000105857849, 0.9664999842643738, 1.4483000040054321, 1.3687000274658203, 1.3658000230789185, 1.3610999584197998, 1.2894999980926514, 1.0781999826431274, 1.0181000232696533, 0.8603000044822693, 0.7631000280380249, 0.5616999864578247, 0.6003999710083008, 3.1791000366210938, 2.9070000648498535, 2.8234000205993652, 2.812999963760376, 2.615299940109253, 2.5571000576019287, 2.547600030899048, 2.5441999435424805, 2.54229998588562, 2.510200023651123, 2.481100082397461, 2.3413000106811523, 2.3313000202178955, 2.3287999629974365, 2.3285000324249268, 2.283799886703491, 2.270400047302246, 2.2004001140594482, 2.15310001373291, 2.1526999473571777, 2.1354000568389893, 2.1354000568389893, 2.132999897003174, 2.132699966430664, 2.131700038909912, 2.131200075149536, 2.1310999393463135, 2.130199909210205, 2.130000114440918, 2.1291000843048096, 2.1119000911712646, 1.9867000579833984, 1.4603999853134155, 1.593500018119812, 1.7616000175476074, 1.533400058746338, 1.6973999738693237, 1.5598000288009644, 0.8327999711036682, 0.9391000270843506, 0.6353999972343445, 0.925000011920929, 0.6740999817848206, -0.13289999961853027, 0.6830999851226807, 2.8666999340057373, 2.788300037384033, 2.746500015258789, 2.6057000160217285, 2.598299980163574, 2.595900058746338, 2.5631000995635986, 2.5608999729156494, 2.476599931716919, 2.4488000869750977, 2.3803999423980713, 2.3189001083374023, 2.3180999755859375, 2.298799991607666, 2.190700054168701, 2.190200090408325, 2.186000108718872, 2.185499906539917, 2.18530011177063, 2.184299945831299, 2.1842000484466553, 2.1840999126434326, 2.184000015258789, 2.1839001178741455, 2.183500051498413, 2.183300018310547, 2.1821000576019287, 2.1816999912261963, 2.181299924850464, 2.1812000274658203, 2.1071999073028564, 2.057499885559082, 2.056299924850464, 1.8996000289916992, 2.000499963760376, 2.0648999214172363, 1.6510000228881836, 1.7163000106811523, 1.517899990081787, 1.6167999505996704, 1.6139999628067017, 1.3206000328063965, 1.4536999464035034, 1.3903000354766846, 0.7724999785423279, 1.0355000495910645, 1.312600016593933, 0.47609999775886536, 1.0298999547958374, 0.5917999744415283, 3.0429999828338623, 2.8380000591278076, 2.7460999488830566, 2.629699945449829, 2.6270999908447266, 2.564199924468994, 2.561300039291382, 2.416300058364868, 2.413599967956543, 2.412899971008301, 2.411900043487549, 2.3582000732421875, 2.350399971008301, 2.3101999759674072, 2.220099925994873, 2.218400001525879, 2.216200113296509, 2.2160000801086426, 2.21560001373291, 2.215100049972534, 2.2147998809814453, 2.2146999835968018, 2.213900089263916, 2.2135000228881836, 2.213399887084961, 2.213099956512451, 2.212899923324585, 2.2128000259399414, 2.2118000984191895, 2.2116000652313232, 2.184299945831299, 2.082900047302246, 1.9637999534606934, 2.09089994430542, 2.0269999504089355, 1.8273999691009521, 1.937399983406067, 1.9668999910354614, 1.9621000289916992, 1.961400032043457, 1.5465999841690063, 1.84660005569458, 2.0343000888824463, 1.6796000003814697, 1.6490999460220337, 1.6468000411987305, 1.6854000091552734, 0.5654000043869019, 0.8277000188827515, 1.222000002861023, 1.2187999486923218, 1.1663000583648682, 1.0583000183105469, 0.8011000156402588, 0.5389000177383423, 0.6245999932289124, 0.5067999958992004, 0.5317000150680542]}, \"token.table\": {\"Topic\": [3, 7, 10, 3, 5, 11, 12, 14, 15, 4, 14, 20, 10, 13, 14, 1, 3, 6, 8, 11, 17, 18, 2, 6, 8, 7, 8, 9, 13, 15, 20, 7, 9, 4, 14, 20, 6, 8, 16, 1, 2, 3, 6, 8, 10, 14, 15, 16, 2, 3, 13, 15, 3, 16, 19, 1, 7, 8, 9, 4, 6, 8, 10, 12, 3, 17, 1, 3, 4, 5, 7, 11, 12, 16, 4, 5, 16, 12, 15, 8, 12, 13, 14, 17, 18, 2, 4, 14, 16, 2, 3, 4, 8, 11, 1, 2, 4, 6, 2, 4, 6, 12, 17, 14, 20, 8, 14, 19, 2, 4, 11, 12, 15, 17, 20, 1, 4, 5, 6, 12, 14, 16, 19, 1, 3, 5, 14, 18, 3, 8, 1, 3, 5, 8, 17, 18, 1, 2, 7, 9, 1, 13, 18, 1, 5, 7, 9, 11, 12, 19, 1, 4, 9, 18, 4, 8, 16, 1, 16, 2, 5, 6, 10, 12, 14, 18, 20, 1, 14, 11, 12, 14, 2, 16, 19, 1, 2, 4, 7, 8, 11, 15, 16, 17, 19, 5, 13, 16, 19, 4, 9, 20, 1, 12, 3, 9, 10, 11, 15, 17, 4, 19, 4, 5, 7, 15, 4, 9, 4, 11, 13, 16, 20, 20, 3, 5, 19, 6, 16, 1, 6, 16, 1, 2, 4, 13, 19, 3, 9, 11, 4, 11, 13, 1, 3, 4, 5, 6, 8, 9, 10, 12, 14, 9, 12, 18, 1, 4, 6, 10, 12, 9, 12, 13, 20, 1, 2, 3, 7, 8, 10, 11, 12, 13, 17, 6, 12, 2, 4, 5, 10, 18, 1, 4, 8, 9, 11, 15, 16, 17, 18, 9, 15, 2, 5, 8, 13, 14, 2, 4, 6, 9, 11, 15, 20, 3, 4, 11, 12, 3, 15, 16, 7, 11, 15, 2, 3, 4, 5, 10, 14, 16, 17, 19, 7, 16, 19, 9, 12, 14, 19, 2, 4, 17, 9, 10, 13, 1, 3, 4, 15, 16, 18, 2, 7, 8, 9, 18, 2, 11, 17, 3, 4, 5, 6, 8, 11, 14, 15, 3, 5, 6, 7, 10, 12, 3, 4, 5, 9, 13, 18, 12, 14, 19, 2, 9, 10, 1, 3, 5, 7, 8, 9, 10, 11, 14, 15, 18, 20, 5, 6, 16, 8, 12, 17, 20, 2, 3, 4, 5, 6, 7, 8, 10, 13, 15, 17, 18, 20, 3, 9, 19, 9, 14, 9, 11, 13, 14, 2, 4, 7, 9, 10, 3, 4, 8, 2, 3, 8, 13, 1, 4, 6, 8, 11, 14, 16, 17, 10, 15, 4, 7, 9, 1, 4, 17, 9, 11, 1, 2, 3, 4, 7, 9, 14, 17, 18, 19, 20, 8, 13, 18, 1, 7, 8, 20, 1, 2, 3, 16, 6, 9, 18, 19, 1, 4, 5, 6, 7, 8, 10, 11, 14, 15, 17, 2, 3, 10, 13, 16, 20, 14, 16, 3, 5, 14, 18, 16, 17, 19, 3, 5, 16, 18, 19, 20, 8, 9, 10, 13, 2, 4, 6, 7, 16, 19, 2, 7, 8, 12, 14, 15, 17, 6, 8, 16, 2, 3, 20, 2, 6, 16, 2, 15, 20, 3, 4, 6, 14, 17, 3, 6, 7, 1, 2, 6, 9, 10, 11, 14, 16, 17, 18, 19, 1, 17, 8, 11, 20, 1, 19, 1, 7, 12, 17, 2, 7, 11, 12, 15, 1, 6, 8, 9, 12, 17, 18, 1, 3, 4, 5, 6, 8, 10, 11, 14, 15, 17, 18, 19, 20, 1, 2, 4, 6, 7, 8, 10, 11, 15, 17, 20, 3, 5, 10, 13, 18, 19, 8, 16, 6, 10, 15, 2, 4, 5, 10, 13, 14, 15, 17, 20, 6, 8, 18, 1, 2, 14, 20, 1, 4, 5, 7, 8, 12, 13, 1, 2, 3, 4, 11, 14, 4, 18, 2, 4, 5, 6, 8, 9, 10, 12, 13, 14, 15, 16, 17, 18, 19, 20, 7, 10, 18, 2, 16, 11, 15, 18, 1, 9, 15, 1, 2, 11, 8, 13, 1, 2, 8, 16, 7, 16, 2, 7, 10, 14, 15, 1, 2, 4, 5, 6, 7, 8, 9, 10, 11, 13, 15, 19, 1, 2, 4, 9, 12, 13, 15, 18, 7, 9, 19, 8, 12, 20, 4, 5, 10, 11, 15, 1, 19, 20, 4, 6, 8, 11, 16, 2, 7, 9, 14, 2, 11, 14, 15, 3, 4, 8, 8, 10, 14, 1, 7, 13, 14, 17, 18, 3, 4, 3, 10, 12, 14, 16, 2, 5, 6, 8, 18, 15, 16, 17, 4, 5, 6, 8, 15, 20, 1, 2, 6, 12, 14, 6, 9, 12, 13, 2, 9, 7, 14, 3, 4, 5, 9, 12, 13, 20, 1, 2, 9, 14, 1, 12, 4, 7, 9, 13, 18, 3, 5, 11, 12, 2, 11, 13, 8, 9, 4, 12, 3, 12, 18, 9, 11, 17, 3, 6, 7, 10, 12, 15, 19, 3, 5, 10, 14, 1, 3, 6, 7, 11, 15, 18, 1, 2, 3, 4, 5, 6, 7, 8, 10, 13, 16, 9, 13, 14, 19, 20, 2, 5, 6, 2, 7, 19, 20, 2, 5, 9, 1, 2, 8, 10, 12, 13, 16, 19, 1, 4, 6, 18, 3, 4, 7, 10, 14, 6, 10, 11, 12, 14, 18, 1, 3, 10, 16, 5, 8, 13, 3, 12, 13, 2, 7, 11, 13, 15, 6, 7, 11, 13, 14, 4, 5, 7, 11, 13, 2, 3, 14, 19, 3, 5, 6, 7, 8, 12, 18, 19, 2, 3, 14, 5, 7, 8, 15, 2, 4, 8, 11, 13, 15, 16, 17, 15, 17, 3, 14, 16, 20, 10, 14, 19, 9, 10, 17, 20, 7, 9, 10, 12, 13, 15, 17, 18, 19, 20, 2, 4, 5, 6, 9, 19, 1, 2, 3, 6, 7, 10, 11, 13, 14, 15, 16, 17, 19, 20, 3, 5, 11, 3, 5, 10, 18, 5, 6, 8, 10, 13, 16, 17, 19, 20, 2, 9, 12, 18, 19, 2, 4, 10, 11, 13, 15, 13, 14, 2, 6, 8, 11, 12, 6, 17, 2, 6, 20, 1, 3, 2, 3, 9, 20, 1, 2, 4, 5, 7, 9, 10, 12, 13, 15, 1, 12, 7, 14, 18, 8, 16, 12, 14, 15, 12, 20, 8, 19, 9, 10, 12, 13, 14, 1, 3, 13, 14, 1, 5, 11, 19, 2, 4, 8, 14, 2, 5, 14, 15, 6, 7, 11, 14, 15, 17, 18, 20, 1, 2, 3, 10, 17, 18, 1, 2, 3, 4, 5, 6, 7, 8, 9, 12, 14, 16, 17, 18, 19, 3, 11, 13, 18, 3, 5, 11, 6, 10, 15, 1, 2, 4, 5, 7, 8, 9, 10, 11, 16, 17, 19, 5, 15, 1, 3, 4, 5, 7, 9, 11, 12, 13, 14, 15, 16, 18, 20, 9, 12, 16, 5, 11, 19, 12, 17, 2, 6, 7, 10, 11, 12, 4, 6, 7, 10, 14, 17, 19, 3, 10, 19, 3, 4, 14, 16, 7, 17, 20, 2, 7, 20, 1, 3, 4, 7, 13, 17, 1, 7, 13, 18, 1, 5, 13, 18, 6, 12, 3, 9, 11, 14, 15, 16, 1, 2, 3, 6, 11, 16, 20, 3, 5, 7, 10, 11, 14, 20, 1, 4, 8, 15, 1, 2, 4, 5, 6, 7, 9, 11, 12, 13, 14, 15, 16, 17, 18, 20, 1, 5, 13, 17, 4, 2, 4, 8, 9, 12, 13, 19, 3, 5, 17, 1, 3, 5, 14, 8, 1, 4, 11, 14, 18, 2, 7, 8, 12, 16, 17, 19, 20, 2, 4, 9, 16, 17, 2, 5, 7, 12, 14, 10, 13, 2, 3, 4, 5, 7, 10, 11, 12, 19, 2, 6, 5, 10, 11, 12, 19, 5, 6, 11, 18, 4, 11, 18, 12, 1, 12, 16, 2, 3, 8, 10, 11, 19, 4, 9, 20, 7, 12, 1, 2, 4, 5, 6, 7, 8, 9, 10, 11, 14, 15, 16, 20, 2, 3, 7, 8, 9, 12, 14, 9, 15, 2, 4, 8, 14, 19, 4, 9, 11, 7, 10, 11, 2, 9, 2, 15, 2, 4, 6, 8, 11, 12, 13, 14, 15, 17, 20, 6, 8, 11, 2, 5, 6, 20, 5, 6, 11, 15, 4, 9, 20, 8, 14, 20, 10, 11, 18, 3, 15, 1, 3, 11, 12, 13, 18, 2, 5, 8, 10, 11, 16, 17, 10, 11, 13, 15, 17, 19, 20, 2, 4, 5, 8, 11, 12, 14, 17, 19, 2, 7, 8, 12, 13, 1, 2, 4, 5, 8, 13, 17, 2, 5, 6, 7, 20, 8, 14, 9, 12, 20, 3, 8, 9, 15, 17, 18, 10, 14, 5, 7, 9, 14, 1, 4, 8, 10, 20, 1, 7, 8, 4, 9, 11, 18, 4, 13, 16, 2, 6, 8, 9, 10, 11, 13, 14, 1, 2, 3, 4, 6, 7, 18, 19, 1, 3, 7, 8, 10, 14, 16, 20, 1, 2, 4, 7, 10, 11, 1, 3, 8, 13, 1, 5, 9, 14, 15, 16, 17, 20, 2, 3, 4, 5, 14, 15, 20, 3, 7, 12, 13, 16, 4, 6, 9, 11, 13, 17, 2, 5, 9, 12, 15, 17, 20, 1, 7, 9, 20, 1, 2, 4, 8, 12, 14, 18, 1, 2, 4, 6, 11, 15, 4, 5, 6, 7, 9, 10, 12, 13, 15, 20, 4, 17, 20, 2, 7, 9, 16, 3, 6, 17, 19, 1, 4, 12, 7, 13, 16, 1, 2, 4, 5, 6, 8, 9, 10, 12, 14, 16, 17, 1, 3, 6, 8, 12, 5, 6, 8, 19, 4, 5, 8, 11, 12, 13, 18, 1, 4, 9, 11, 13, 16, 19, 20, 3, 4, 7, 10, 12, 15, 17, 1, 2, 3, 11, 12, 1, 2, 3, 4, 7, 8, 10, 11, 12, 15, 16, 1, 2, 3, 10, 11, 17, 5, 12, 14, 5, 9, 13, 1, 3, 5, 11, 13, 9, 11, 16, 17, 18, 4, 5, 10, 2, 9, 17, 19, 3, 13, 16, 3, 7, 11, 7, 11, 1, 2, 3, 4, 5, 7, 8, 9, 11, 12, 13, 15, 6, 11, 19, 3, 4, 13, 3, 7, 8, 12, 20, 5, 19, 2, 15, 6, 8, 15, 1, 6, 9, 10, 14, 15, 4, 7, 12, 3, 5, 9, 14, 19, 3, 5, 9, 14, 19, 3, 5, 6, 11, 20, 4, 11, 18, 4, 5, 20, 3, 14, 16, 17, 6, 7, 13, 17, 13, 19, 20, 3, 7, 8, 2, 3, 4, 6, 12, 13, 15, 18, 9, 14, 16, 2, 12, 13, 19, 4, 6, 7, 10, 17, 18, 3, 8, 9, 5, 7, 8, 9, 16, 10, 11, 16, 1, 4, 5, 15, 16, 17, 1, 2, 5, 6, 9, 13, 16, 19, 1, 5, 10, 18, 20, 2, 3, 13, 1, 4, 9, 13, 14, 16, 19, 3, 6, 12, 15, 17, 6, 9, 13, 18, 20, 1, 8, 18, 12, 14, 20, 3, 6, 7, 8, 9, 10, 11, 12, 19, 4, 20, 1, 12, 19, 3, 8, 10, 5, 7, 10, 11, 19, 2, 3, 4, 5, 8, 12, 14, 16, 18, 19, 20, 5, 7, 12, 4, 5, 8, 11, 13, 15, 16, 17, 18, 1, 2, 3, 4, 5, 8, 9, 12, 17, 20, 4, 16, 19, 6, 12, 3, 4, 6, 8, 15, 17, 19, 3, 4, 5, 6, 8, 9, 11, 13, 15, 16, 17, 19, 20, 3, 4, 16, 19, 1, 8, 16, 4, 19, 5, 10, 11, 12, 16, 19, 20, 12, 17, 19, 1, 13, 18, 4, 5, 8, 17, 1, 3, 8, 11, 1, 3, 9, 10, 14, 16, 17, 18, 19, 6, 11, 17, 19, 2, 3, 11, 13, 18, 5, 6, 17, 13, 15, 2, 3, 4, 5, 6, 8, 9, 11, 16, 17, 20, 4, 12, 18, 1, 7, 1, 2, 3, 4, 5, 6, 8, 19, 2, 13, 20, 11, 17, 18, 1, 17, 20, 4, 8, 10, 13, 17, 6, 13, 20, 1, 12, 17, 20, 14, 7, 8, 9, 13, 15, 16, 4, 13, 19, 7, 11, 13, 14, 17, 1, 3, 12, 3, 4, 8, 10, 20, 1, 2, 3, 4, 5, 6, 9, 10, 11, 12, 16, 17, 18, 1, 12, 3, 8, 15, 3, 6, 13, 8, 17, 10, 11, 7, 8, 14, 15, 4, 7, 12, 4, 12, 14, 1, 2, 3, 5, 6, 7, 8, 9, 10, 12, 17, 18, 19, 20, 10, 13, 17, 2, 3, 7, 15, 18, 10, 11, 1, 2, 5, 6, 7, 17, 3, 6, 11, 12, 15, 17, 20, 1, 8, 10, 12, 15, 16, 17, 3, 4, 5, 1, 2, 9, 11, 12, 19, 6, 9, 10, 14, 15, 10, 12, 14, 4, 6, 7, 10, 12, 14, 15, 1, 10, 14, 18, 1, 2, 3, 10, 12, 15, 17, 19, 4, 13, 18, 3, 9, 14, 18, 2, 8, 11, 12, 20, 4, 9, 11, 12, 15, 17, 18, 19, 9, 10, 13, 1, 9, 10, 11, 16, 7, 15, 8, 11, 14, 15, 3, 5, 6, 11, 13, 14, 16, 17, 18, 1, 5, 15, 2, 3, 14, 2, 8, 18, 8, 20, 11, 15, 1, 3, 4, 10, 2, 7, 8, 9, 10, 11, 15, 1, 2, 12, 14, 18, 12, 17, 18, 6, 9, 1, 4, 7, 11, 16, 3, 6, 11, 4, 6, 8, 9, 19, 4, 16, 1, 6, 8, 16, 19, 20, 1, 13, 19, 16, 17, 2, 4, 5, 6, 7, 9, 10, 12, 13, 15, 16, 18, 4, 9, 20, 7, 10, 11, 19, 1, 10, 14, 1, 5, 7, 9, 19, 4, 8, 13, 17, 18, 3, 5, 6, 8, 10, 2, 7, 9, 11, 20, 1, 3, 4, 5, 6, 10, 18, 2, 17, 2, 3, 5, 12, 4, 9, 15, 18, 1, 2, 3, 8, 10, 12, 15, 19, 3, 8, 18, 1, 2, 6, 14, 15, 4, 11, 17, 1, 8, 13, 18, 13, 14, 16, 2, 4, 12, 13, 15, 16, 3, 7, 12, 13, 10, 12, 17, 3, 8, 16, 8, 12, 9, 18, 1, 8, 9, 11, 13, 15, 18, 3, 9, 10, 13, 15, 16, 19, 15, 16, 17, 2, 4, 6, 7, 8, 10, 11, 12, 13, 14, 16, 17, 1, 13, 14, 16, 19, 1, 10, 11, 1, 4, 6, 11, 12, 14, 16, 20, 1, 13, 2, 3, 4, 6, 7, 19, 20, 3, 5, 9, 12, 13, 17, 20, 4, 7, 13, 1, 2, 3, 20, 4, 6, 13, 14, 18, 19, 1, 15, 11, 12, 1, 2, 3, 4, 6, 7, 10, 11, 1, 2, 8, 11, 18, 20, 1, 3, 9, 20, 1, 2, 16, 17, 20, 10, 12, 17, 1, 2, 3, 5, 16, 1, 5, 2, 3, 7, 9, 13, 9, 11, 1, 6, 9, 16, 20, 1, 2, 17, 3, 6, 11, 3, 4, 5, 9, 10, 11, 13, 15, 19, 2, 15, 17, 18, 20, 1, 9, 12, 4, 14, 1, 8, 9, 3, 6, 11, 12, 20, 1, 9, 12, 13, 15, 17, 2, 6, 13, 16, 19, 5, 10, 2, 6, 10, 11, 12, 13, 15, 16, 9, 2, 4, 18, 3, 5, 10, 11, 13, 17, 1, 12, 16, 6, 11, 17, 4, 11, 20, 2, 11, 5, 6, 11, 12, 14, 1, 2, 5, 2, 4, 10, 11, 14, 1, 9, 12, 4, 8, 14, 4, 5, 13, 12, 17, 1, 2, 3, 4, 5, 6, 7, 8, 10, 14, 16, 20, 5, 11, 17, 1, 2, 5, 8, 10, 14, 16, 1, 3, 11, 12, 13, 15, 18, 1, 2, 3, 4, 6, 7, 8, 10, 11, 13, 14, 2, 6, 19, 20, 4, 20, 4, 12, 15, 1, 4, 10, 11, 13, 16, 17, 3, 4, 5, 6, 10, 11, 13, 18, 2, 11, 13, 4, 6, 9, 11, 15, 16, 17, 19, 6, 8, 13, 17, 4, 7, 13, 2, 4, 7, 12, 1, 18, 6, 9, 11, 17, 1, 2, 4, 7, 10, 11, 12, 17, 4, 6, 9, 19, 2, 19, 1, 10, 18, 20, 1, 4, 3, 8, 2, 4, 8, 9, 13, 19, 1, 2, 3, 5, 7, 10, 13, 14, 20, 2, 3, 4, 7, 13, 16, 18, 2, 3, 8, 12, 14, 19, 4, 5, 11, 13, 17, 19, 5, 14, 19, 7, 10, 16, 18, 2, 6, 7, 15, 12, 13, 16, 1, 2, 3, 4, 5, 6, 7, 8, 10, 13, 14, 15, 16, 2, 11, 18, 7, 10, 12, 15, 1, 3, 4, 5, 14, 17, 18, 3, 6, 12, 17, 19, 20, 3, 5, 10, 1, 10, 11, 3, 6, 7, 14, 17, 18, 6, 10, 15, 17, 15, 17, 1, 2, 6, 11, 14, 16, 1, 10, 13, 8, 11, 12, 20, 15, 3, 10, 13, 6, 19, 20, 5, 10, 16, 1, 12, 13, 15, 16, 20, 4, 5, 8, 9, 12, 16, 19, 1, 8, 13, 17, 1, 5, 7, 15, 2, 3, 7, 15, 17, 6, 13, 1, 6, 13, 18, 19, 20, 4, 18, 19, 2, 18, 19, 13, 15, 1, 3, 4, 5, 6, 9, 10, 11, 13, 14, 15, 17, 18, 19, 1, 3, 4, 5, 7, 8, 12, 15, 18, 19, 20, 1, 4, 5, 9, 16, 14, 16, 20, 6, 10, 1, 12, 17, 2, 5, 8, 12, 18, 20, 1, 3, 4, 5, 6, 7, 9, 10, 12, 13, 14, 17, 19, 11, 13, 19, 2, 10, 12, 2, 10, 13, 2, 5, 6, 9, 15, 19, 1, 2, 3, 6, 7, 8, 9, 20, 2, 9, 11, 1, 3, 6, 7, 2, 9, 13, 12, 15, 2, 5, 7, 14, 3, 6, 11, 17, 2, 6, 9, 10, 13, 11, 12, 13, 5, 6, 11, 12, 13, 16, 17, 20, 2, 8, 13, 14, 1, 5, 9, 13, 17, 4, 14, 3, 7, 4, 17, 1, 2, 4, 7, 8, 9, 10, 13, 15, 18, 10, 11, 13, 2, 3, 6, 9, 1, 2, 10, 19, 20, 2, 8, 11, 13, 14, 15, 16, 20, 1, 3, 4, 6, 8, 10, 15, 16, 19, 3, 11, 12, 2, 3, 4, 5, 6, 7, 10, 11, 14, 16, 17, 18, 19, 1, 11, 16, 2, 11, 15, 6, 15, 1, 17, 8, 9, 13, 15, 6, 12, 13, 1, 2, 3, 4, 5, 6, 7, 8, 9, 10, 11, 12, 13, 14, 15, 16, 18, 20, 2, 5, 12, 15, 8, 13, 16, 15, 16, 17, 3, 4, 10, 11, 16, 14, 15, 17, 2, 5, 6, 9, 10, 11, 5, 8, 15, 20, 3, 4, 7, 3, 5, 9, 10, 19, 5, 8, 13, 3, 12, 19, 1, 4, 5, 6, 7, 8, 10, 12, 13, 15, 20, 6, 7, 1, 3, 5, 6, 11, 12, 14, 17, 3, 5, 6, 8, 11, 16, 2, 3, 6, 7, 9, 15, 1, 11, 2, 6, 14, 18, 3, 14, 18, 4, 11, 16, 1, 3, 7, 8, 11, 14, 19, 2, 6, 10, 16, 19, 2, 9, 12, 2, 7, 15, 17, 4, 5, 7, 8, 9, 10, 12, 14, 16, 17, 18, 20, 1, 2, 4, 5, 10, 11, 13, 14, 15, 16, 17, 19, 20, 7, 9, 10, 13, 16, 19, 3, 4, 6, 8, 12, 17, 2, 6, 2, 18, 1, 3, 6, 7, 8, 9, 10, 11, 15, 18, 19, 20, 1, 3, 6, 8, 14, 15, 20, 1, 4, 14, 18, 13, 2, 5, 11], \"Freq\": [0.2448984682559967, 0.4897969365119934, 0.2448984682559967, 0.1855708807706833, 0.09278544038534164, 0.2783563435077667, 0.09278544038534164, 0.1855708807706833, 0.1855708807706833, 0.32206109166145325, 0.32206109166145325, 0.32206109166145325, 0.2463260143995285, 0.2463260143995285, 0.492652028799057, 0.11272285878658295, 0.11272285878658295, 0.11272285878658295, 0.11272285878658295, 0.33816859126091003, 0.11272285878658295, 0.11272285878658295, 0.24388426542282104, 0.4877685308456421, 0.24388426542282104, 0.2503746747970581, 0.12518733739852905, 0.12518733739852905, 0.12518733739852905, 0.2503746747970581, 0.12518733739852905, 0.3206581473350525, 0.641316294670105, 0.32202762365341187, 0.32202762365341187, 0.32202762365341187, 0.2449558973312378, 0.2449558973312378, 0.4899117946624756, 0.12691311538219452, 0.12691311538219452, 0.06345655769109726, 0.19036968052387238, 0.19036968052387238, 0.06345655769109726, 0.06345655769109726, 0.12691311538219452, 0.06345655769109726, 0.33421874046325684, 0.16710937023162842, 0.33421874046325684, 0.16710937023162842, 0.3227814733982086, 0.3227814733982086, 0.3227814733982086, 0.197280153632164, 0.197280153632164, 0.197280153632164, 0.394560307264328, 0.14320290088653564, 0.14320290088653564, 0.2864058017730713, 0.14320290088653564, 0.2864058017730713, 0.2079354226589203, 0.8317416906356812, 0.07844500243663788, 0.3137800097465515, 0.07844500243663788, 0.15689000487327576, 0.15689000487327576, 0.07844500243663788, 0.07844500243663788, 0.07844500243663788, 0.2462729960680008, 0.2462729960680008, 0.4925459921360016, 0.32266029715538025, 0.6453205943107605, 0.14389120042324066, 0.14389120042324066, 0.2877824008464813, 0.14389120042324066, 0.14389120042324066, 0.14389120042324066, 0.20364366471767426, 0.20364366471767426, 0.20364366471767426, 0.4072873294353485, 0.16737261414527893, 0.16737261414527893, 0.33474522829055786, 0.16737261414527893, 0.16737261414527893, 0.3963283896446228, 0.1981641948223114, 0.1981641948223114, 0.1981641948223114, 0.3331497609615326, 0.1665748804807663, 0.1665748804807663, 0.1665748804807663, 0.1665748804807663, 0.6432186365127563, 0.3216093182563782, 0.16616290807724, 0.49848872423171997, 0.33232581615448, 0.12612679600715637, 0.12612679600715637, 0.12612679600715637, 0.12612679600715637, 0.12612679600715637, 0.25225359201431274, 0.12612679600715637, 0.0920378640294075, 0.0920378640294075, 0.184075728058815, 0.184075728058815, 0.0920378640294075, 0.0920378640294075, 0.184075728058815, 0.0920378640294075, 0.11236558854579926, 0.11236558854579926, 0.11236558854579926, 0.5618279576301575, 0.11236558854579926, 0.32177734375, 0.6435546875, 0.3360474705696106, 0.11201582849025726, 0.22403165698051453, 0.11201582849025726, 0.11201582849025726, 0.11201582849025726, 0.3318714201450348, 0.3318714201450348, 0.1659357100725174, 0.1659357100725174, 0.3234836161136627, 0.3234836161136627, 0.3234836161136627, 0.12575587630271912, 0.12575587630271912, 0.25151175260543823, 0.12575587630271912, 0.12575587630271912, 0.12575587630271912, 0.12575587630271912, 0.24606916308403015, 0.4921383261680603, 0.24606916308403015, 0.9672958850860596, 0.3234633207321167, 0.3234633207321167, 0.3234633207321167, 0.6449819803237915, 0.32249099016189575, 0.09191235154867172, 0.18382470309734344, 0.09191235154867172, 0.09191235154867172, 0.18382470309734344, 0.09191235154867172, 0.09191235154867172, 0.18382470309734344, 0.7369800806045532, 0.24566002190113068, 0.3259032666683197, 0.3259032666683197, 0.3259032666683197, 0.19769948720932007, 0.19769948720932007, 0.5930984616279602, 0.09216270595788956, 0.1843254119157791, 0.09216270595788956, 0.09216270595788956, 0.09216270595788956, 0.09216270595788956, 0.09216270595788956, 0.09216270595788956, 0.09216270595788956, 0.09216270595788956, 0.17028969526290894, 0.5108690857887268, 0.17028969526290894, 0.17028969526290894, 0.32101112604141235, 0.32101112604141235, 0.32101112604141235, 0.24748192727565765, 0.7424458265304565, 0.22570405900478363, 0.11285202950239182, 0.11285202950239182, 0.33855608105659485, 0.11285202950239182, 0.11285202950239182, 0.6463514566421509, 0.32317572832107544, 0.39673176407814026, 0.19836588203907013, 0.19836588203907013, 0.19836588203907013, 0.32176774740219116, 0.6435354948043823, 0.16725845634937286, 0.16725845634937286, 0.16725845634937286, 0.3345169126987457, 0.16725845634937286, 0.6375999450683594, 0.3220883309841156, 0.3220883309841156, 0.3220883309841156, 0.6413851976394653, 0.32069259881973267, 0.4900316596031189, 0.24501582980155945, 0.24501582980155945, 0.19854769110679626, 0.19854769110679626, 0.19854769110679626, 0.19854769110679626, 0.19854769110679626, 0.49457383155822754, 0.24728691577911377, 0.24728691577911377, 0.3263922333717346, 0.3263922333717346, 0.3263922333717346, 0.1356593370437622, 0.0678296685218811, 0.2034890055656433, 0.1356593370437622, 0.1356593370437622, 0.0678296685218811, 0.0678296685218811, 0.0678296685218811, 0.0678296685218811, 0.0678296685218811, 0.33275747299194336, 0.16637873649597168, 0.49913617968559265, 0.2516593933105469, 0.2516593933105469, 0.12582969665527344, 0.2516593933105469, 0.12582969665527344, 0.19793860614299774, 0.19793860614299774, 0.19793860614299774, 0.3958772122859955, 0.2552395761013031, 0.1020958349108696, 0.0510479174554348, 0.1531437486410141, 0.1531437486410141, 0.0510479174554348, 0.0510479174554348, 0.0510479174554348, 0.0510479174554348, 0.1020958349108696, 0.19955940544605255, 0.7982376217842102, 0.14352262020111084, 0.43056783080101013, 0.14352262020111084, 0.14352262020111084, 0.14352262020111084, 0.1358044147491455, 0.06790220737457275, 0.271608829498291, 0.06790220737457275, 0.1358044147491455, 0.1358044147491455, 0.06790220737457275, 0.06790220737457275, 0.06790220737457275, 0.6413008570671082, 0.3206504285335541, 0.08466185629367828, 0.25398555397987366, 0.08466185629367828, 0.08466185629367828, 0.4233092665672302, 0.2016599178314209, 0.10082995891571045, 0.30248987674713135, 0.10082995891571045, 0.10082995891571045, 0.10082995891571045, 0.10082995891571045, 0.33683812618255615, 0.16841906309127808, 0.33683812618255615, 0.16841906309127808, 0.2457893043756485, 0.491578608751297, 0.2457893043756485, 0.32316717505455017, 0.32316717505455017, 0.32316717505455017, 0.07270664721727371, 0.07270664721727371, 0.14541329443454742, 0.07270664721727371, 0.07270664721727371, 0.14541329443454742, 0.21811994910240173, 0.07270664721727371, 0.14541329443454742, 0.25150933861732483, 0.25150933861732483, 0.5030186772346497, 0.39632710814476013, 0.19816355407238007, 0.19816355407238007, 0.19816355407238007, 0.2459930181503296, 0.2459930181503296, 0.4919860363006592, 0.3222888708114624, 0.3222888708114624, 0.3222888708114624, 0.2521167993545532, 0.1260583996772766, 0.1260583996772766, 0.1260583996772766, 0.2521167993545532, 0.1260583996772766, 0.14253848791122437, 0.4276154339313507, 0.14253848791122437, 0.14253848791122437, 0.14253848791122437, 0.49353376030921936, 0.24676688015460968, 0.24676688015460968, 0.2404976189136505, 0.12024880945682526, 0.18037322163581848, 0.12024880945682526, 0.06012440472841263, 0.12024880945682526, 0.06012440472841263, 0.12024880945682526, 0.33631861209869385, 0.11210621148347855, 0.11210621148347855, 0.2242124229669571, 0.11210621148347855, 0.11210621148347855, 0.22456452250480652, 0.11228226125240326, 0.11228226125240326, 0.33684679865837097, 0.11228226125240326, 0.11228226125240326, 0.3231000006198883, 0.3231000006198883, 0.3231000006198883, 0.24475227296352386, 0.48950454592704773, 0.24475227296352386, 0.07267764955759048, 0.07267764955759048, 0.07267764955759048, 0.07267764955759048, 0.07267764955759048, 0.07267764955759048, 0.07267764955759048, 0.14535529911518097, 0.14535529911518097, 0.07267764955759048, 0.07267764955759048, 0.07267764955759048, 0.5930038690567017, 0.1976679563522339, 0.1976679563522339, 0.39546918869018555, 0.19773459434509277, 0.19773459434509277, 0.19773459434509277, 0.08521056175231934, 0.17042112350463867, 0.08521056175231934, 0.04260528087615967, 0.08521056175231934, 0.04260528087615967, 0.04260528087615967, 0.127815842628479, 0.08521056175231934, 0.04260528087615967, 0.08521056175231934, 0.04260528087615967, 0.04260528087615967, 0.32177984714508057, 0.32177984714508057, 0.32177984714508057, 0.322367787361145, 0.64473557472229, 0.1677592694759369, 0.3355185389518738, 0.1677592694759369, 0.3355185389518738, 0.16582423448562622, 0.16582423448562622, 0.33164846897125244, 0.16582423448562622, 0.16582423448562622, 0.32324960827827454, 0.32324960827827454, 0.32324960827827454, 0.199165940284729, 0.398331880569458, 0.199165940284729, 0.199165940284729, 0.15619489550590515, 0.07809744775295258, 0.07809744775295258, 0.3904872238636017, 0.07809744775295258, 0.07809744775295258, 0.07809744775295258, 0.07809744775295258, 0.3209364116191864, 0.6418728232383728, 0.32163843512535095, 0.32163843512535095, 0.32163843512535095, 0.32297903299331665, 0.32297903299331665, 0.32297903299331665, 0.4944407641887665, 0.4944407641887665, 0.06354107707738876, 0.06354107707738876, 0.06354107707738876, 0.12708215415477753, 0.06354107707738876, 0.06354107707738876, 0.12708215415477753, 0.06354107707738876, 0.06354107707738876, 0.1906232386827469, 0.12708215415477753, 0.24595245718955994, 0.24595245718955994, 0.4919049143791199, 0.19674767553806305, 0.19674767553806305, 0.19674767553806305, 0.3934953510761261, 0.3777780532836914, 0.3777780532836914, 0.12592601776123047, 0.12592601776123047, 0.5685679316520691, 0.14214198291301727, 0.14214198291301727, 0.14214198291301727, 0.04631730541586876, 0.04631730541586876, 0.13895191252231598, 0.18526922166347504, 0.13895191252231598, 0.09263461083173752, 0.04631730541586876, 0.04631730541586876, 0.09263461083173752, 0.04631730541586876, 0.09263461083173752, 0.20237615704536438, 0.3035642206668854, 0.10118807852268219, 0.10118807852268219, 0.10118807852268219, 0.20237615704536438, 0.6467454433441162, 0.3233727216720581, 0.1985653191804886, 0.3971306383609772, 0.1985653191804886, 0.1985653191804886, 0.32193124294281006, 0.32193124294281006, 0.32193124294281006, 0.14265739917755127, 0.14265739917755127, 0.14265739917755127, 0.14265739917755127, 0.14265739917755127, 0.28531479835510254, 0.395720899105072, 0.197860449552536, 0.197860449552536, 0.197860449552536, 0.2759036719799042, 0.09196788817644119, 0.09196788817644119, 0.18393577635288239, 0.2759036719799042, 0.09196788817644119, 0.18408575654029846, 0.09204287827014923, 0.2761286199092865, 0.18408575654029846, 0.09204287827014923, 0.09204287827014923, 0.09204287827014923, 0.4881846010684967, 0.24409230053424835, 0.24409230053424835, 0.32176193594932556, 0.32176193594932556, 0.32176193594932556, 0.3964208662509918, 0.1982104331254959, 0.3964208662509918, 0.39567479491233826, 0.19783739745616913, 0.19783739745616913, 0.16677305102348328, 0.33354610204696655, 0.16677305102348328, 0.16677305102348328, 0.16677305102348328, 0.24483133852481842, 0.24483133852481842, 0.24483133852481842, 0.0856393352150917, 0.1712786704301834, 0.04281966760754585, 0.0856393352150917, 0.04281966760754585, 0.2569180130958557, 0.0856393352150917, 0.0856393352150917, 0.04281966760754585, 0.04281966760754585, 0.04281966760754585, 0.33434632420539856, 0.6686926484107971, 0.32230398058891296, 0.32230398058891296, 0.32230398058891296, 0.6428229808807373, 0.32141149044036865, 0.19886688888072968, 0.19886688888072968, 0.39773377776145935, 0.19886688888072968, 0.1437196284532547, 0.2874392569065094, 0.1437196284532547, 0.2874392569065094, 0.1437196284532547, 0.1657177209854126, 0.3314354419708252, 0.1657177209854126, 0.1657177209854126, 0.1657177209854126, 0.24561934173107147, 0.7368580102920532, 0.05396858975291252, 0.16190576553344727, 0.08095288276672363, 0.10793717950582504, 0.10793717950582504, 0.05396858975291252, 0.05396858975291252, 0.02698429487645626, 0.02698429487645626, 0.08095288276672363, 0.02698429487645626, 0.08095288276672363, 0.05396858975291252, 0.02698429487645626, 0.11979988217353821, 0.23959976434707642, 0.11979988217353821, 0.059899941086769104, 0.059899941086769104, 0.059899941086769104, 0.059899941086769104, 0.059899941086769104, 0.11979988217353821, 0.059899941086769104, 0.059899941086769104, 0.30382171273231506, 0.10127390176057816, 0.30382171273231506, 0.10127390176057816, 0.10127390176057816, 0.10127390176057816, 0.3222590982913971, 0.6445181965827942, 0.19725972414016724, 0.5917791724205017, 0.19725972414016724, 0.08458655327558517, 0.16917310655117035, 0.08458655327558517, 0.16917310655117035, 0.16917310655117035, 0.08458655327558517, 0.08458655327558517, 0.08458655327558517, 0.08458655327558517, 0.24448083341121674, 0.24448083341121674, 0.48896166682243347, 0.19740261137485504, 0.19740261137485504, 0.19740261137485504, 0.3948052227497101, 0.07835087925195694, 0.31340351700782776, 0.15670175850391388, 0.15670175850391388, 0.07835087925195694, 0.07835087925195694, 0.15670175850391388, 0.14418929815292358, 0.14418929815292358, 0.14418929815292358, 0.28837859630584717, 0.14418929815292358, 0.14418929815292358, 0.647743821144104, 0.323871910572052, 0.07567975670099258, 0.03783987835049629, 0.03783987835049629, 0.07567975670099258, 0.07567975670099258, 0.03783987835049629, 0.07567975670099258, 0.03783987835049629, 0.03783987835049629, 0.07567975670099258, 0.07567975670099258, 0.03783987835049629, 0.03783987835049629, 0.15135951340198517, 0.03783987835049629, 0.07567975670099258, 0.4886992275714874, 0.2443496137857437, 0.2443496137857437, 0.7375410199165344, 0.24584701657295227, 0.32404664158821106, 0.32404664158821106, 0.32404664158821106, 0.2445545643568039, 0.4891091287136078, 0.2445545643568039, 0.24650393426418304, 0.24650393426418304, 0.24650393426418304, 0.6443001627922058, 0.3221500813961029, 0.39634373784065247, 0.19817186892032623, 0.19817186892032623, 0.19817186892032623, 0.32216760516166687, 0.6443352103233337, 0.33197474479675293, 0.16598737239837646, 0.16598737239837646, 0.16598737239837646, 0.16598737239837646, 0.046444814652204514, 0.18577925860881805, 0.046444814652204514, 0.046444814652204514, 0.046444814652204514, 0.046444814652204514, 0.046444814652204514, 0.046444814652204514, 0.23222406208515167, 0.046444814652204514, 0.13933444023132324, 0.046444814652204514, 0.046444814652204514, 0.0922468975186348, 0.0922468975186348, 0.1844937950372696, 0.1844937950372696, 0.0922468975186348, 0.0922468975186348, 0.1844937950372696, 0.0922468975186348, 0.3201827108860016, 0.3201827108860016, 0.3201827108860016, 0.3215021789073944, 0.3215021789073944, 0.3215021789073944, 0.1666795015335083, 0.3333590030670166, 0.1666795015335083, 0.1666795015335083, 0.1666795015335083, 0.24365253746509552, 0.24365253746509552, 0.48730507493019104, 0.16683106124401093, 0.16683106124401093, 0.16683106124401093, 0.16683106124401093, 0.33366212248802185, 0.1976420134305954, 0.3952840268611908, 0.1976420134305954, 0.1976420134305954, 0.39824625849723816, 0.19912312924861908, 0.19912312924861908, 0.19912312924861908, 0.32324862480163574, 0.32324862480163574, 0.32324862480163574, 0.19791361689567566, 0.3958272337913513, 0.3958272337913513, 0.0919036790728569, 0.3676147162914276, 0.0919036790728569, 0.0919036790728569, 0.0919036790728569, 0.1838073581457138, 0.5996537804603577, 0.1998845934867859, 0.9746798872947693, 0.1989665925502777, 0.1989665925502777, 0.3979331851005554, 0.1989665925502777, 0.3761587142944336, 0.12538623809814453, 0.12538623809814453, 0.25077247619628906, 0.12538623809814453, 0.28640785813331604, 0.28640785813331604, 0.42961180210113525, 0.14238281548023224, 0.14238281548023224, 0.14238281548023224, 0.14238281548023224, 0.14238281548023224, 0.2847656309604645, 0.14341002702713013, 0.14341002702713013, 0.28682005405426025, 0.28682005405426025, 0.14341002702713013, 0.33302220702171326, 0.16651110351085663, 0.33302220702171326, 0.16651110351085663, 0.49021115899086, 0.49021115899086, 0.6421052813529968, 0.3210526406764984, 0.11960287392139435, 0.059801436960697174, 0.17940431833267212, 0.2990071773529053, 0.059801436960697174, 0.059801436960697174, 0.2392057478427887, 0.39635372161865234, 0.19817686080932617, 0.19817686080932617, 0.19817686080932617, 0.6465571522712708, 0.3232785761356354, 0.3334575295448303, 0.16672876477241516, 0.16672876477241516, 0.16672876477241516, 0.16672876477241516, 0.400172621011734, 0.200086310505867, 0.200086310505867, 0.200086310505867, 0.59881192445755, 0.19960397481918335, 0.19960397481918335, 0.32038256525993347, 0.6407651305198669, 0.2626478970050812, 0.7879437208175659, 0.32436221837997437, 0.32436221837997437, 0.32436221837997437, 0.32370078563690186, 0.32370078563690186, 0.32370078563690186, 0.3363407850265503, 0.1121135950088501, 0.1121135950088501, 0.1121135950088501, 0.1121135950088501, 0.1121135950088501, 0.1121135950088501, 0.39749619364738464, 0.19874809682369232, 0.19874809682369232, 0.19874809682369232, 0.12579748034477234, 0.12579748034477234, 0.12579748034477234, 0.12579748034477234, 0.12579748034477234, 0.2515949606895447, 0.12579748034477234, 0.15301108360290527, 0.10200738906860352, 0.05100369453430176, 0.10200738906860352, 0.10200738906860352, 0.10200738906860352, 0.05100369453430176, 0.10200738906860352, 0.05100369453430176, 0.05100369453430176, 0.10200738906860352, 0.16575954854488373, 0.16575954854488373, 0.16575954854488373, 0.16575954854488373, 0.33151909708976746, 0.244793102145195, 0.48958620429039, 0.244793102145195, 0.19701550900936127, 0.19701550900936127, 0.39403101801872253, 0.19701550900936127, 0.4900795817375183, 0.24503979086875916, 0.24503979086875916, 0.14540702104568481, 0.14540702104568481, 0.07270351052284241, 0.07270351052284241, 0.07270351052284241, 0.07270351052284241, 0.29081404209136963, 0.14540702104568481, 0.19823670387268066, 0.19823670387268066, 0.19823670387268066, 0.39647340774536133, 0.16660086810588837, 0.16660086810588837, 0.16660086810588837, 0.16660086810588837, 0.33320173621177673, 0.2524251937866211, 0.12621259689331055, 0.2524251937866211, 0.12621259689331055, 0.12621259689331055, 0.12621259689331055, 0.2869515120983124, 0.1434757560491562, 0.1434757560491562, 0.43042728304862976, 0.3225066363811493, 0.3225066363811493, 0.3225066363811493, 0.3254925310611725, 0.3254925310611725, 0.3254925310611725, 0.17001861333847046, 0.17001861333847046, 0.17001861333847046, 0.17001861333847046, 0.3400372266769409, 0.16930632293224335, 0.3386126458644867, 0.08465316146612167, 0.3386126458644867, 0.08465316146612167, 0.7400458455085754, 0.24668194353580475, 0.32476603984832764, 0.32476603984832764, 0.32476603984832764, 0.5090670585632324, 0.16968901455402374, 0.16968901455402374, 0.16968901455402374, 0.09182213246822357, 0.18364426493644714, 0.09182213246822357, 0.09182213246822357, 0.2754664123058319, 0.09182213246822357, 0.09182213246822357, 0.09182213246822357, 0.3978530764579773, 0.19892653822898865, 0.3978530764579773, 0.4280732572078705, 0.14269109070301056, 0.2853821814060211, 0.14269109070301056, 0.07891455292701721, 0.07891455292701721, 0.07891455292701721, 0.39457276463508606, 0.07891455292701721, 0.07891455292701721, 0.07891455292701721, 0.07891455292701721, 0.6429411768913269, 0.32147058844566345, 0.3973376452922821, 0.19866882264614105, 0.19866882264614105, 0.19866882264614105, 0.2452211081981659, 0.4904422163963318, 0.2452211081981659, 0.3309507369995117, 0.16547536849975586, 0.3309507369995117, 0.16547536849975586, 0.17931216955184937, 0.059770725667476654, 0.11954145133495331, 0.059770725667476654, 0.059770725667476654, 0.059770725667476654, 0.11954145133495331, 0.17931216955184937, 0.059770725667476654, 0.11954145133495331, 0.20190878212451935, 0.20190878212451935, 0.3028631806373596, 0.10095439106225967, 0.10095439106225967, 0.10095439106225967, 0.09937665611505508, 0.1325022131204605, 0.1325022131204605, 0.06625110656023026, 0.06625110656023026, 0.03312555328011513, 0.06625110656023026, 0.1325022131204605, 0.06625110656023026, 0.03312555328011513, 0.09937665611505508, 0.03312555328011513, 0.03312555328011513, 0.03312555328011513, 0.32487353682518005, 0.32487353682518005, 0.32487353682518005, 0.19815097749233246, 0.19815097749233246, 0.3963019549846649, 0.19815097749233246, 0.08422653377056122, 0.08422653377056122, 0.16845306754112244, 0.16845306754112244, 0.08422653377056122, 0.08422653377056122, 0.16845306754112244, 0.08422653377056122, 0.08422653377056122, 0.16634802520275116, 0.16634802520275116, 0.16634802520275116, 0.3326960504055023, 0.16634802520275116, 0.11232409626245499, 0.11232409626245499, 0.11232409626245499, 0.11232409626245499, 0.11232409626245499, 0.44929638504981995, 0.32407769560813904, 0.6481553912162781, 0.1664348989725113, 0.3328697979450226, 0.1664348989725113, 0.1664348989725113, 0.1664348989725113, 0.6400499939918518, 0.3200249969959259, 0.1418227106332779, 0.5672908425331116, 0.2836454212665558, 0.7376229166984558, 0.2458743155002594, 0.1982230842113495, 0.396446168422699, 0.1982230842113495, 0.1982230842113495, 0.07823362201452255, 0.07823362201452255, 0.1564672440290451, 0.07823362201452255, 0.1564672440290451, 0.07823362201452255, 0.07823362201452255, 0.1564672440290451, 0.07823362201452255, 0.07823362201452255, 0.6465542912483215, 0.32327714562416077, 0.25239890813827515, 0.25239890813827515, 0.5047978162765503, 0.4904329776763916, 0.4904329776763916, 0.3234167695045471, 0.3234167695045471, 0.3234167695045471, 0.6464487910270691, 0.32322439551353455, 0.6405366063117981, 0.32026830315589905, 0.12651678919792175, 0.12651678919792175, 0.37955039739608765, 0.2530335783958435, 0.12651678919792175, 0.19951042532920837, 0.39902085065841675, 0.19951042532920837, 0.19951042532920837, 0.1985715627670288, 0.3971431255340576, 0.1985715627670288, 0.1985715627670288, 0.25110048055648804, 0.12555024027824402, 0.5022009611129761, 0.12555024027824402, 0.3323608338832855, 0.3323608338832855, 0.16618041694164276, 0.16618041694164276, 0.12694789469242096, 0.2538957893848419, 0.06347394734621048, 0.06347394734621048, 0.06347394734621048, 0.12694789469242096, 0.19042184948921204, 0.06347394734621048, 0.12584544718265533, 0.12584544718265533, 0.25169089436531067, 0.25169089436531067, 0.12584544718265533, 0.12584544718265533, 0.0379038080573082, 0.0758076161146164, 0.11371143162250519, 0.11371143162250519, 0.0758076161146164, 0.11371143162250519, 0.0758076161146164, 0.0379038080573082, 0.0379038080573082, 0.0379038080573082, 0.0379038080573082, 0.0379038080573082, 0.11371143162250519, 0.0758076161146164, 0.0379038080573082, 0.4005669355392456, 0.2002834677696228, 0.2002834677696228, 0.2002834677696228, 0.32487305998802185, 0.32487305998802185, 0.32487305998802185, 0.48740628361701965, 0.24370314180850983, 0.24370314180850983, 0.05113121122121811, 0.10226242244243622, 0.05113121122121811, 0.05113121122121811, 0.05113121122121811, 0.05113121122121811, 0.10226242244243622, 0.05113121122121811, 0.15339364111423492, 0.15339364111423492, 0.10226242244243622, 0.10226242244243622, 0.3211890459060669, 0.6423780918121338, 0.029325731098651886, 0.029325731098651886, 0.14662864804267883, 0.11730292439460754, 0.08797719329595566, 0.14662864804267883, 0.029325731098651886, 0.05865146219730377, 0.05865146219730377, 0.05865146219730377, 0.05865146219730377, 0.08797719329595566, 0.029325731098651886, 0.05865146219730377, 0.24672715365886688, 0.49345430731773376, 0.24672715365886688, 0.323331743478775, 0.323331743478775, 0.323331743478775, 0.32335057854652405, 0.6467011570930481, 0.30346524715423584, 0.10115507990121841, 0.10115507990121841, 0.30346524715423584, 0.10115507990121841, 0.10115507990121841, 0.11161914467811584, 0.2232382893562317, 0.2232382893562317, 0.11161914467811584, 0.11161914467811584, 0.11161914467811584, 0.11161914467811584, 0.3218337297439575, 0.3218337297439575, 0.3218337297439575, 0.5022169351577759, 0.1674056351184845, 0.1674056351184845, 0.1674056351184845, 0.24425938725471497, 0.48851877450942993, 0.24425938725471497, 0.2435118705034256, 0.2435118705034256, 0.4870237410068512, 0.11263127624988556, 0.3378938138484955, 0.22526255249977112, 0.11263127624988556, 0.11263127624988556, 0.11263127624988556, 0.1985992044210434, 0.1985992044210434, 0.1985992044210434, 0.3971984088420868, 0.1986905187368393, 0.3973810374736786, 0.1986905187368393, 0.1986905187368393, 0.6424071788787842, 0.3212035894393921, 0.14382804930210114, 0.14382804930210114, 0.14382804930210114, 0.14382804930210114, 0.14382804930210114, 0.28765609860420227, 0.08550406992435455, 0.1710081398487091, 0.08550406992435455, 0.08550406992435455, 0.08550406992435455, 0.42752036452293396, 0.08550406992435455, 0.09210456907749176, 0.09210456907749176, 0.18420913815498352, 0.2763137221336365, 0.18420913815498352, 0.09210456907749176, 0.09210456907749176, 0.19813433289527893, 0.19813433289527893, 0.19813433289527893, 0.39626866579055786, 0.0853271335363388, 0.0853271335363388, 0.0426635667681694, 0.0853271335363388, 0.0426635667681694, 0.0426635667681694, 0.0426635667681694, 0.0426635667681694, 0.1706542670726776, 0.0426635667681694, 0.0426635667681694, 0.0426635667681694, 0.0426635667681694, 0.0426635667681694, 0.0426635667681694, 0.0426635667681694, 0.39717403054237366, 0.19858701527118683, 0.19858701527118683, 0.19858701527118683, 1.0177414417266846, 0.13558074831962585, 0.06779037415981293, 0.33895185589790344, 0.20337112247943878, 0.06779037415981293, 0.13558074831962585, 0.06779037415981293, 0.3227643072605133, 0.3227643072605133, 0.3227643072605133, 0.19850315153598785, 0.19850315153598785, 0.3970063030719757, 0.19850315153598785, 0.9610730409622192, 0.16729621589183807, 0.16729621589183807, 0.16729621589183807, 0.33459243178367615, 0.16729621589183807, 0.09169510006904602, 0.09169510006904602, 0.18339020013809204, 0.09169510006904602, 0.09169510006904602, 0.09169510006904602, 0.18339020013809204, 0.18339020013809204, 0.16632325947284698, 0.16632325947284698, 0.33264651894569397, 0.16632325947284698, 0.16632325947284698, 0.20212802290916443, 0.5053200721740723, 0.10106401145458221, 0.10106401145458221, 0.10106401145458221, 0.32416656613349915, 0.6483331322669983, 0.11321847885847092, 0.05660923942923546, 0.11321847885847092, 0.05660923942923546, 0.33965542912483215, 0.16982771456241608, 0.05660923942923546, 0.05660923942923546, 0.05660923942923546, 0.2437286525964737, 0.7311859726905823, 0.25164204835891724, 0.37746307253837585, 0.12582102417945862, 0.12582102417945862, 0.12582102417945862, 0.15297569334506989, 0.05099190026521683, 0.10198380053043365, 0.6119027733802795, 0.32525530457496643, 0.32525530457496643, 0.32525530457496643, 0.9765884280204773, 0.323752224445343, 0.323752224445343, 0.323752224445343, 0.14328217506408691, 0.14328217506408691, 0.14328217506408691, 0.14328217506408691, 0.14328217506408691, 0.28656435012817383, 0.24482132494449615, 0.4896426498889923, 0.24482132494449615, 0.6436848640441895, 0.3218424320220947, 0.09034963697195053, 0.1204661875963211, 0.06023309379816055, 0.09034963697195053, 0.09034963697195053, 0.09034963697195053, 0.06023309379816055, 0.030116546899080276, 0.06023309379816055, 0.06023309379816055, 0.030116546899080276, 0.030116546899080276, 0.15058273077011108, 0.06023309379816055, 0.10141002386808395, 0.30423006415367126, 0.10141002386808395, 0.10141002386808395, 0.10141002386808395, 0.2028200477361679, 0.10141002386808395, 0.32088008522987366, 0.6417601704597473, 0.113164521753788, 0.113164521753788, 0.5658226013183594, 0.113164521753788, 0.113164521753788, 0.49464312195777893, 0.24732156097888947, 0.24732156097888947, 0.2471579760313034, 0.2471579760313034, 0.4943159520626068, 0.3210718631744385, 0.642143726348877, 0.3215356767177582, 0.6430713534355164, 0.05671105161309242, 0.11342210322618484, 0.05671105161309242, 0.11342210322618484, 0.05671105161309242, 0.05671105161309242, 0.11342210322618484, 0.11342210322618484, 0.17013315856456757, 0.05671105161309242, 0.11342210322618484, 0.3225666284561157, 0.3225666284561157, 0.3225666284561157, 0.3310515880584717, 0.3310515880584717, 0.16552579402923584, 0.16552579402923584, 0.19826899468898773, 0.19826899468898773, 0.19826899468898773, 0.39653798937797546, 0.3210887610912323, 0.3210887610912323, 0.3210887610912323, 0.2446805089712143, 0.4893610179424286, 0.2446805089712143, 0.3238670825958252, 0.3238670825958252, 0.3238670825958252, 0.3223174214363098, 0.6446348428726196, 0.1446584016084671, 0.1446584016084671, 0.2893168032169342, 0.1446584016084671, 0.1446584016084671, 0.1446584016084671, 0.07831897586584091, 0.23495693504810333, 0.07831897586584091, 0.15663795173168182, 0.15663795173168182, 0.15663795173168182, 0.07831897586584091, 0.12559230625629425, 0.12559230625629425, 0.12559230625629425, 0.12559230625629425, 0.12559230625629425, 0.12559230625629425, 0.2511846125125885, 0.1564950793981552, 0.0782475396990776, 0.23474261164665222, 0.0782475396990776, 0.0782475396990776, 0.0782475396990776, 0.0782475396990776, 0.1564950793981552, 0.0782475396990776, 0.28732964396476746, 0.14366482198238373, 0.14366482198238373, 0.14366482198238373, 0.28732964396476746, 0.09208366274833679, 0.2762509882450104, 0.09208366274833679, 0.2762509882450104, 0.09208366274833679, 0.09208366274833679, 0.09208366274833679, 0.1420963704586029, 0.1420963704586029, 0.4262891113758087, 0.1420963704586029, 0.1420963704586029, 0.24597732722759247, 0.7379319667816162, 0.32144680619239807, 0.32144680619239807, 0.32144680619239807, 0.14300163090229034, 0.14300163090229034, 0.14300163090229034, 0.2860032618045807, 0.14300163090229034, 0.14300163090229034, 0.6674467921257019, 0.33372339606285095, 0.19751067459583282, 0.39502134919166565, 0.19751067459583282, 0.19751067459583282, 0.4284902811050415, 0.14283008873462677, 0.14283008873462677, 0.14283008873462677, 0.14283008873462677, 0.3949795961380005, 0.19748979806900024, 0.3949795961380005, 0.24653592705726624, 0.24653592705726624, 0.24653592705726624, 0.24653592705726624, 0.24756589531898499, 0.49513179063796997, 0.24756589531898499, 0.1124303787946701, 0.1124303787946701, 0.1124303787946701, 0.1124303787946701, 0.1124303787946701, 0.2248607575893402, 0.1124303787946701, 0.1124303787946701, 0.09194999188184738, 0.27584996819496155, 0.09194999188184738, 0.09194999188184738, 0.09194999188184738, 0.09194999188184738, 0.09194999188184738, 0.18389998376369476, 0.0845007449388504, 0.2535022497177124, 0.0845007449388504, 0.0845007449388504, 0.1690014898777008, 0.1690014898777008, 0.0845007449388504, 0.0845007449388504, 0.09196383506059647, 0.18392767012119293, 0.09196383506059647, 0.36785534024238586, 0.18392767012119293, 0.09196383506059647, 0.16632437705993652, 0.16632437705993652, 0.49897313117980957, 0.16632437705993652, 0.30265992879867554, 0.10088664293289185, 0.10088664293289185, 0.10088664293289185, 0.10088664293289185, 0.10088664293289185, 0.10088664293289185, 0.10088664293289185, 0.1256982386112213, 0.1256982386112213, 0.1256982386112213, 0.1256982386112213, 0.1256982386112213, 0.2513964772224426, 0.1256982386112213, 0.3798713684082031, 0.12662379443645477, 0.12662379443645477, 0.25324758887290955, 0.12662379443645477, 0.33841726183891296, 0.11280576139688492, 0.11280576139688492, 0.22561152279376984, 0.11280576139688492, 0.11280576139688492, 0.20348073542118073, 0.06782691180706024, 0.06782691180706024, 0.13565382361412048, 0.06782691180706024, 0.40696147084236145, 0.06782691180706024, 0.19694676995277405, 0.3938935399055481, 0.19694676995277405, 0.19694676995277405, 0.11248765140771866, 0.11248765140771866, 0.11248765140771866, 0.11248765140771866, 0.22497530281543732, 0.22497530281543732, 0.11248765140771866, 0.23405291140079498, 0.15603527426719666, 0.07801763713359833, 0.3120705485343933, 0.07801763713359833, 0.07801763713359833, 0.09727209061384201, 0.09727209061384201, 0.048636045306921005, 0.09727209061384201, 0.24318021535873413, 0.048636045306921005, 0.24318021535873413, 0.048636045306921005, 0.048636045306921005, 0.048636045306921005, 0.24439756572246552, 0.24439756572246552, 0.48879513144493103, 0.16600598394870758, 0.16600598394870758, 0.33201196789741516, 0.33201196789741516, 0.12559141218662262, 0.12559141218662262, 0.6279571056365967, 0.12559141218662262, 0.3987914025783539, 0.19939570128917694, 0.3987914025783539, 0.19915629923343658, 0.39831259846687317, 0.39831259846687317, 0.22204624116420746, 0.0888184979557991, 0.0888184979557991, 0.13322775065898895, 0.04440924897789955, 0.04440924897789955, 0.04440924897789955, 0.1776369959115982, 0.04440924897789955, 0.04440924897789955, 0.04440924897789955, 0.04440924897789955, 0.12537607550621033, 0.12537607550621033, 0.376128226518631, 0.25075215101242065, 0.12537607550621033, 0.16820698976516724, 0.5046209692955017, 0.16820698976516724, 0.16820698976516724, 0.37117764353752136, 0.09279441088438034, 0.09279441088438034, 0.18558882176876068, 0.09279441088438034, 0.09279441088438034, 0.09279441088438034, 0.1695515662431717, 0.25432735681533813, 0.08477578312158585, 0.08477578312158585, 0.08477578312158585, 0.1695515662431717, 0.08477578312158585, 0.08477578312158585, 0.10142824053764343, 0.10142824053764343, 0.10142824053764343, 0.10142824053764343, 0.3042847216129303, 0.10142824053764343, 0.20285648107528687, 0.14483539760112762, 0.14483539760112762, 0.14483539760112762, 0.4345061779022217, 0.14483539760112762, 0.04667098820209503, 0.1400129646062851, 0.04667098820209503, 0.1400129646062851, 0.04667098820209503, 0.09334197640419006, 0.04667098820209503, 0.18668395280838013, 0.09334197640419006, 0.1400129646062851, 0.04667098820209503, 0.22448496520519257, 0.11224248260259628, 0.11224248260259628, 0.33672744035720825, 0.11224248260259628, 0.11224248260259628, 0.24692857265472412, 0.49385714530944824, 0.24692857265472412, 0.32256773114204407, 0.32256773114204407, 0.32256773114204407, 0.144292950630188, 0.43287885189056396, 0.144292950630188, 0.144292950630188, 0.144292950630188, 0.2869516909122467, 0.14347584545612335, 0.14347584545612335, 0.2869516909122467, 0.14347584545612335, 0.32220539450645447, 0.32220539450645447, 0.32220539450645447, 0.16561424732208252, 0.16561424732208252, 0.16561424732208252, 0.49684274196624756, 0.24716627597808838, 0.24716627597808838, 0.49433255195617676, 0.16627344489097595, 0.6650937795639038, 0.16627344489097595, 0.32564008235931396, 0.6512801647186279, 0.0892409011721611, 0.0892409011721611, 0.0892409011721611, 0.13386134803295135, 0.04462045058608055, 0.04462045058608055, 0.13386134803295135, 0.04462045058608055, 0.04462045058608055, 0.1784818023443222, 0.0892409011721611, 0.04462045058608055, 0.3225216567516327, 0.3225216567516327, 0.3225216567516327, 0.32512426376342773, 0.32512426376342773, 0.32512426376342773, 0.1659020632505417, 0.3318041265010834, 0.1659020632505417, 0.1659020632505417, 0.1659020632505417, 0.6419025659561157, 0.32095128297805786, 0.32153570652008057, 0.6430714130401611, 0.4873031973838806, 0.2436515986919403, 0.2436515986919403, 0.33681926131248474, 0.16840963065624237, 0.16840963065624237, 0.16840963065624237, 0.08420481532812119, 0.08420481532812119, 0.32346323132514954, 0.32346323132514954, 0.32346323132514954, 0.12557654082775116, 0.5023061633110046, 0.12557654082775116, 0.12557654082775116, 0.12557654082775116, 0.11334649473428726, 0.45338597893714905, 0.11334649473428726, 0.11334649473428726, 0.11334649473428726, 0.11252753436565399, 0.3375825881958008, 0.11252753436565399, 0.3375825881958008, 0.11252753436565399, 0.32525599002838135, 0.32525599002838135, 0.32525599002838135, 0.3213936686515808, 0.3213936686515808, 0.3213936686515808, 0.1990509033203125, 0.1990509033203125, 0.398101806640625, 0.1990509033203125, 0.16624464094638824, 0.3324892818927765, 0.3324892818927765, 0.16624464094638824, 0.1972668319940567, 0.3945336639881134, 0.3945336639881134, 0.25182798504829407, 0.25182798504829407, 0.5036559700965881, 0.06795039027929306, 0.20385116338729858, 0.06795039027929306, 0.06795039027929306, 0.06795039027929306, 0.06795039027929306, 0.40770232677459717, 0.06795039027929306, 0.24581865966320038, 0.49163731932640076, 0.24581865966320038, 0.16641996800899506, 0.16641996800899506, 0.16641996800899506, 0.499259889125824, 0.25101613998413086, 0.12550806999206543, 0.25101613998413086, 0.12550806999206543, 0.12550806999206543, 0.12550806999206543, 0.24495303630828857, 0.24495303630828857, 0.48990607261657715, 0.16571155190467834, 0.16571155190467834, 0.3314231038093567, 0.16571155190467834, 0.16571155190467834, 0.3241684138774872, 0.3241684138774872, 0.3241684138774872, 0.11233136802911758, 0.33699408173561096, 0.11233136802911758, 0.11233136802911758, 0.11233136802911758, 0.22466273605823517, 0.11188626289367676, 0.11188626289367676, 0.11188626289367676, 0.11188626289367676, 0.11188626289367676, 0.11188626289367676, 0.11188626289367676, 0.22377252578735352, 0.28532320261001587, 0.14266160130500793, 0.28532320261001587, 0.14266160130500793, 0.14266160130500793, 0.32442232966423035, 0.32442232966423035, 0.32442232966423035, 0.20277303457260132, 0.304159551858902, 0.10138651728630066, 0.10138651728630066, 0.10138651728630066, 0.10138651728630066, 0.10138651728630066, 0.16675928235054016, 0.16675928235054016, 0.3335185647010803, 0.16675928235054016, 0.16675928235054016, 0.16567806899547577, 0.33135613799095154, 0.16567806899547577, 0.16567806899547577, 0.16567806899547577, 0.245161771774292, 0.245161771774292, 0.490323543548584, 0.322421669960022, 0.322421669960022, 0.322421669960022, 0.07331377267837524, 0.07331377267837524, 0.07331377267837524, 0.07331377267837524, 0.07331377267837524, 0.1466275453567505, 0.07331377267837524, 0.293255090713501, 0.1466275453567505, 0.6449966430664062, 0.3224983215332031, 0.32266297936439514, 0.32266297936439514, 0.32266297936439514, 0.3218778967857361, 0.3218778967857361, 0.3218778967857361, 0.22376100718975067, 0.22376100718975067, 0.3356415331363678, 0.11188050359487534, 0.11188050359487534, 0.04876750707626343, 0.09753501415252686, 0.09753501415252686, 0.04876750707626343, 0.09753501415252686, 0.24383753538131714, 0.09753501415252686, 0.09753501415252686, 0.04876750707626343, 0.04876750707626343, 0.09753501415252686, 0.24511930346488953, 0.49023860692977905, 0.24511930346488953, 0.08486663550138474, 0.16973327100276947, 0.08486663550138474, 0.16973327100276947, 0.08486663550138474, 0.08486663550138474, 0.08486663550138474, 0.16973327100276947, 0.08486663550138474, 0.053619418293237686, 0.10723883658647537, 0.053619418293237686, 0.053619418293237686, 0.053619418293237686, 0.4289553463459015, 0.053619418293237686, 0.10723883658647537, 0.053619418293237686, 0.053619418293237686, 0.24604485929012299, 0.49208971858024597, 0.24604485929012299, 0.3234880864620209, 0.6469761729240417, 0.20221547782421112, 0.20221547782421112, 0.10110773891210556, 0.10110773891210556, 0.20221547782421112, 0.10110773891210556, 0.10110773891210556, 0.07872159034013748, 0.1968039721250534, 0.07872159034013748, 0.03936079517006874, 0.11808238923549652, 0.03936079517006874, 0.03936079517006874, 0.03936079517006874, 0.03936079517006874, 0.07872159034013748, 0.07872159034013748, 0.11808238923549652, 0.07872159034013748, 0.10110750049352646, 0.20221500098705292, 0.20221500098705292, 0.5055375099182129, 0.4905775487422943, 0.24528877437114716, 0.24528877437114716, 0.32184094190597534, 0.6436818838119507, 0.20243898034095764, 0.10121949017047882, 0.10121949017047882, 0.10121949017047882, 0.30365845561027527, 0.10121949017047882, 0.10121949017047882, 0.3227151334285736, 0.3227151334285736, 0.3227151334285736, 0.49236270785331726, 0.24618135392665863, 0.24618135392665863, 0.24527643620967865, 0.24527643620967865, 0.24527643620967865, 0.24527643620967865, 0.19944225251674652, 0.39888450503349304, 0.19944225251674652, 0.19944225251674652, 0.0727146565914154, 0.21814396977424622, 0.0727146565914154, 0.0727146565914154, 0.0727146565914154, 0.0727146565914154, 0.0727146565914154, 0.2908586263656616, 0.0727146565914154, 0.1981394737958908, 0.1981394737958908, 0.1981394737958908, 0.3962789475917816, 0.1018313392996788, 0.2036626785993576, 0.2036626785993576, 0.1018313392996788, 0.4073253571987152, 0.1656094491481781, 0.3312188982963562, 0.4968283474445343, 0.6485767364501953, 0.32428836822509766, 0.06776750087738037, 0.06776750087738037, 0.13553500175476074, 0.13553500175476074, 0.2033025026321411, 0.06776750087738037, 0.06776750087738037, 0.06776750087738037, 0.06776750087738037, 0.06776750087738037, 0.06776750087738037, 0.24678732454776764, 0.24678732454776764, 0.4935746490955353, 0.7349115014076233, 0.24497050046920776, 0.18400311470031738, 0.09200155735015869, 0.09200155735015869, 0.18400311470031738, 0.09200155735015869, 0.18400311470031738, 0.09200155735015869, 0.09200155735015869, 0.32213494181632996, 0.32213494181632996, 0.32213494181632996, 0.4959840476512909, 0.24799202382564545, 0.24799202382564545, 0.1977607011795044, 0.5932821035385132, 0.1977607011795044, 0.16685739159584045, 0.16685739159584045, 0.16685739159584045, 0.3337147831916809, 0.16685739159584045, 0.5912261009216309, 0.19707538187503815, 0.19707538187503815, 0.19803136587142944, 0.19803136587142944, 0.19803136587142944, 0.19803136587142944, 0.9698572158813477, 0.251411110162735, 0.1257055550813675, 0.1257055550813675, 0.251411110162735, 0.1257055550813675, 0.1257055550813675, 0.33278340101242065, 0.16639170050621033, 0.49917513132095337, 0.25236040353775024, 0.12618020176887512, 0.12618020176887512, 0.37854060530662537, 0.12618020176887512, 0.32420000433921814, 0.32420000433921814, 0.32420000433921814, 0.10057912766933441, 0.10057912766933441, 0.20115825533866882, 0.20115825533866882, 0.30173736810684204, 0.14613871276378632, 0.04871290177106857, 0.04871290177106857, 0.14613871276378632, 0.09742580354213715, 0.09742580354213715, 0.04871290177106857, 0.04871290177106857, 0.04871290177106857, 0.04871290177106857, 0.04871290177106857, 0.04871290177106857, 0.09742580354213715, 0.3245384991168976, 0.6490769982337952, 0.39679619669914246, 0.19839809834957123, 0.39679619669914246, 0.24680611491203308, 0.24680611491203308, 0.49361222982406616, 0.3215734362602234, 0.6431468725204468, 0.3258686065673828, 0.6517372131347656, 0.16559270024299622, 0.49677807092666626, 0.16559270024299622, 0.16559270024299622, 0.2457484006881714, 0.4914968013763428, 0.2457484006881714, 0.32462140917778015, 0.32462140917778015, 0.32462140917778015, 0.024350760504603386, 0.04870152100920677, 0.12175380438566208, 0.04870152100920677, 0.024350760504603386, 0.12175380438566208, 0.24350760877132416, 0.04870152100920677, 0.04870152100920677, 0.024350760504603386, 0.024350760504603386, 0.07305227965116501, 0.07305227965116501, 0.07305227965116501, 0.32299309968948364, 0.32299309968948364, 0.32299309968948364, 0.16948646306991577, 0.16948646306991577, 0.16948646306991577, 0.16948646306991577, 0.33897292613983154, 0.32586926221847534, 0.6517385244369507, 0.11178680509328842, 0.22357361018657684, 0.33536040782928467, 0.11178680509328842, 0.11178680509328842, 0.11178680509328842, 0.30471888184547424, 0.10157296061515808, 0.20314592123031616, 0.10157296061515808, 0.10157296061515808, 0.10157296061515808, 0.10157296061515808, 0.16911019384860992, 0.08455509692430496, 0.2536652982234955, 0.16911019384860992, 0.08455509692430496, 0.08455509692430496, 0.08455509692430496, 0.32359808683395386, 0.32359808683395386, 0.32359808683395386, 0.12606751918792725, 0.37820252776145935, 0.12606751918792725, 0.12606751918792725, 0.12606751918792725, 0.12606751918792725, 0.1833081841468811, 0.1833081841468811, 0.27496227622032166, 0.1833081841468811, 0.1833081841468811, 0.3232383131980896, 0.3232383131980896, 0.3232383131980896, 0.10087769478559494, 0.10087769478559494, 0.20175538957118988, 0.20175538957118988, 0.10087769478559494, 0.10087769478559494, 0.20175538957118988, 0.33256059885025024, 0.16628029942512512, 0.16628029942512512, 0.33256059885025024, 0.10127322375774384, 0.20254644751548767, 0.10127322375774384, 0.10127322375774384, 0.20254644751548767, 0.10127322375774384, 0.10127322375774384, 0.10127322375774384, 0.6701557636260986, 0.16753894090652466, 0.16753894090652466, 0.9742346405982971, 0.24548669159412384, 0.24548669159412384, 0.4909733831882477, 0.1672164648771286, 0.1672164648771286, 0.3344329297542572, 0.1672164648771286, 0.1672164648771286, 0.09251133352518082, 0.09251133352518082, 0.18502266705036163, 0.18502266705036163, 0.18502266705036163, 0.09251133352518082, 0.09251133352518082, 0.09251133352518082, 0.24624402821063995, 0.24624402821063995, 0.4924880564212799, 0.1664850413799286, 0.3329700827598572, 0.1664850413799286, 0.1664850413799286, 0.1664850413799286, 0.32071349024772644, 0.6414269804954529, 0.19895069301128387, 0.19895069301128387, 0.19895069301128387, 0.19895069301128387, 0.1276358664035797, 0.1276358664035797, 0.19145378470420837, 0.1276358664035797, 0.06381793320178986, 0.06381793320178986, 0.1276358664035797, 0.1276358664035797, 0.06381793320178986, 0.4899427592754364, 0.2449713796377182, 0.2449713796377182, 0.3235015273094177, 0.3235015273094177, 0.3235015273094177, 0.9675338268280029, 0.32155683636665344, 0.6431136727333069, 0.31918635964393616, 0.6383727192878723, 0.6521018147468567, 0.32605090737342834, 0.19847917556762695, 0.19847917556762695, 0.19847917556762695, 0.3969583511352539, 0.11215969920158386, 0.11215969920158386, 0.11215969920158386, 0.22431939840316772, 0.11215969920158386, 0.22431939840316772, 0.11215969920158386, 0.1438235491514206, 0.1438235491514206, 0.2876470983028412, 0.2876470983028412, 0.1438235491514206, 0.1987942010164261, 0.3975884020328522, 0.3975884020328522, 0.7306873202323914, 0.24356244504451752, 0.16707420349121094, 0.16707420349121094, 0.16707420349121094, 0.16707420349121094, 0.3341484069824219, 0.4941027760505676, 0.2470513880252838, 0.2470513880252838, 0.33187729120254517, 0.16593864560127258, 0.16593864560127258, 0.16593864560127258, 0.16593864560127258, 0.32384446263313293, 0.6476889252662659, 0.336465060710907, 0.1682325303554535, 0.1682325303554535, 0.08411626517772675, 0.1682325303554535, 0.08411626517772675, 0.3226960003376007, 0.3226960003376007, 0.3226960003376007, 0.4919017553329468, 0.4919017553329468, 0.0725671723484993, 0.0725671723484993, 0.0725671723484993, 0.0725671723484993, 0.0725671723484993, 0.1451343446969986, 0.0725671723484993, 0.0725671723484993, 0.0725671723484993, 0.1451343446969986, 0.0725671723484993, 0.0725671723484993, 0.4907982647418976, 0.2453991323709488, 0.2453991323709488, 0.19910794496536255, 0.19910794496536255, 0.3982158899307251, 0.19910794496536255, 0.3219923675060272, 0.3219923675060272, 0.3219923675060272, 0.25041648745536804, 0.12520824372768402, 0.25041648745536804, 0.12520824372768402, 0.12520824372768402, 0.16652938723564148, 0.33305877447128296, 0.16652938723564148, 0.16652938723564148, 0.16652938723564148, 0.16555741429328918, 0.16555741429328918, 0.33111482858657837, 0.16555741429328918, 0.16555741429328918, 0.10094427317380905, 0.4037770926952362, 0.2018885463476181, 0.2018885463476181, 0.10094427317380905, 0.2536903917789459, 0.08456346392631531, 0.2536903917789459, 0.08456346392631531, 0.16912692785263062, 0.08456346392631531, 0.08456346392631531, 0.32251396775245667, 0.6450279355049133, 0.398158460855484, 0.199079230427742, 0.199079230427742, 0.199079230427742, 0.1983085572719574, 0.1983085572719574, 0.1983085572719574, 0.3966171145439148, 0.09197326749563217, 0.18394653499126434, 0.09197326749563217, 0.09197326749563217, 0.2759197950363159, 0.09197326749563217, 0.09197326749563217, 0.09197326749563217, 0.32257935404777527, 0.32257935404777527, 0.32257935404777527, 0.14296069741249084, 0.14296069741249084, 0.14296069741249084, 0.2859213948249817, 0.2859213948249817, 0.49530813097953796, 0.24765406548976898, 0.24765406548976898, 0.19827885925769806, 0.3965577185153961, 0.19827885925769806, 0.19827885925769806, 0.3242264986038208, 0.3242264986038208, 0.3242264986038208, 0.1437903493642807, 0.1437903493642807, 0.1437903493642807, 0.1437903493642807, 0.2875806987285614, 0.1437903493642807, 0.19966815412044525, 0.19966815412044525, 0.3993363082408905, 0.19966815412044525, 0.32284656167030334, 0.32284656167030334, 0.32284656167030334, 0.3228255808353424, 0.3228255808353424, 0.3228255808353424, 0.6442406177520752, 0.3221203088760376, 0.32181984186172485, 0.6436396837234497, 0.1011226549744606, 0.2022453099489212, 0.3033679723739624, 0.1011226549744606, 0.1011226549744606, 0.1011226549744606, 0.1011226549744606, 0.10121922194957733, 0.10121922194957733, 0.20243844389915466, 0.20243844389915466, 0.10121922194957733, 0.20243844389915466, 0.10121922194957733, 0.245458722114563, 0.245458722114563, 0.490917444229126, 0.03787003457546234, 0.07574006915092468, 0.1893501728773117, 0.1893501728773117, 0.11361011117696762, 0.03787003457546234, 0.03787003457546234, 0.03787003457546234, 0.07574006915092468, 0.03787003457546234, 0.11361011117696762, 0.07574006915092468, 0.1667451709508896, 0.1667451709508896, 0.1667451709508896, 0.3334903419017792, 0.1667451709508896, 0.32370415329933167, 0.32370415329933167, 0.32370415329933167, 0.09238533675670624, 0.2771560251712799, 0.09238533675670624, 0.09238533675670624, 0.09238533675670624, 0.18477067351341248, 0.09238533675670624, 0.09238533675670624, 0.4936777651309967, 0.4936777651309967, 0.07774905115365982, 0.07774905115365982, 0.07774905115365982, 0.07774905115365982, 0.3109962046146393, 0.3109962046146393, 0.07774905115365982, 0.1256851851940155, 0.1256851851940155, 0.1256851851940155, 0.1256851851940155, 0.1256851851940155, 0.1256851851940155, 0.251370370388031, 0.19817852973937988, 0.5945355892181396, 0.19817852973937988, 0.3961305618286133, 0.19806528091430664, 0.19806528091430664, 0.19806528091430664, 0.09374041110277176, 0.4687020480632782, 0.09374041110277176, 0.09374041110277176, 0.18748082220554352, 0.09374041110277176, 0.6436147093772888, 0.3218073546886444, 0.32663193345069885, 0.6532638669013977, 0.12091562896966934, 0.06045781448483467, 0.24183125793933868, 0.1813734471797943, 0.12091562896966934, 0.12091562896966934, 0.12091562896966934, 0.06045781448483467, 0.11197850108146667, 0.22395700216293335, 0.11197850108146667, 0.11197850108146667, 0.22395700216293335, 0.22395700216293335, 0.16643552482128143, 0.4993065595626831, 0.16643552482128143, 0.16643552482128143, 0.16614413261413574, 0.16614413261413574, 0.3322882652282715, 0.16614413261413574, 0.16614413261413574, 0.49108919501304626, 0.24554459750652313, 0.24554459750652313, 0.1664799302816391, 0.1664799302816391, 0.1664799302816391, 0.3329598605632782, 0.1664799302816391, 0.24497590959072113, 0.7349277138710022, 0.14376947283744812, 0.28753894567489624, 0.14376947283744812, 0.14376947283744812, 0.28753894567489624, 0.6462032198905945, 0.32310160994529724, 0.16813582181930542, 0.08406791090965271, 0.33627164363861084, 0.16813582181930542, 0.25220373272895813, 0.49902334809303284, 0.3326822519302368, 0.1663411259651184, 0.24778425693511963, 0.24778425693511963, 0.49556851387023926, 0.06783425807952881, 0.13566851615905762, 0.06783425807952881, 0.27133703231811523, 0.13566851615905762, 0.06783425807952881, 0.06783425807952881, 0.06783425807952881, 0.13566851615905762, 0.2856677174568176, 0.2856677174568176, 0.1428338587284088, 0.1428338587284088, 0.1428338587284088, 0.24545171856880188, 0.49090343713760376, 0.24545171856880188, 0.6484909653663635, 0.32424548268318176, 0.24432535469532013, 0.24432535469532013, 0.48865070939064026, 0.1262851059436798, 0.1262851059436798, 0.2525702118873596, 0.2525702118873596, 0.2525702118873596, 0.4915279150009155, 0.24576395750045776, 0.24576395750045776, 0.3230626881122589, 0.3230626881122589, 0.3230626881122589, 0.1663832664489746, 0.1663832664489746, 0.1663832664489746, 0.3327665328979492, 0.1663832664489746, 0.3207656741142273, 0.3207656741142273, 0.11257436871528625, 0.11257436871528625, 0.11257436871528625, 0.11257436871528625, 0.2251487374305725, 0.11257436871528625, 0.11257436871528625, 0.11257436871528625, 0.7535736560821533, 0.3232068717479706, 0.3232068717479706, 0.3232068717479706, 0.14385083317756653, 0.14385083317756653, 0.14385083317756653, 0.14385083317756653, 0.14385083317756653, 0.28770166635513306, 0.3237524926662445, 0.3237524926662445, 0.3237524926662445, 0.32319918274879456, 0.32319918274879456, 0.32319918274879456, 0.32377269864082336, 0.32377269864082336, 0.32377269864082336, 0.6488443613052368, 0.3244221806526184, 0.1702173799276352, 0.1702173799276352, 0.1702173799276352, 0.1702173799276352, 0.3404347598552704, 0.24535904824733734, 0.4907180964946747, 0.24535904824733734, 0.14459174871444702, 0.14459174871444702, 0.14459174871444702, 0.4337752163410187, 0.14459174871444702, 0.2454506903886795, 0.490901380777359, 0.2454506903886795, 0.3227829933166504, 0.3227829933166504, 0.3227829933166504, 0.32397714257240295, 0.32397714257240295, 0.32397714257240295, 0.32335165143013, 0.64670330286026, 0.04091258719563484, 0.04091258719563484, 0.32730069756507874, 0.08182517439126968, 0.04091258719563484, 0.08182517439126968, 0.04091258719563484, 0.04091258719563484, 0.04091258719563484, 0.04091258719563484, 0.04091258719563484, 0.16365034878253937, 0.3239750564098358, 0.3239750564098358, 0.3239750564098358, 0.18413642048835754, 0.18413642048835754, 0.09206821024417877, 0.09206821024417877, 0.09206821024417877, 0.09206821024417877, 0.2762046456336975, 0.9657073616981506, 0.6520306468009949, 0.32601532340049744, 0.19983379542827606, 0.3996675908565521, 0.19983379542827606, 0.19983379542827606, 0.060106221586465836, 0.12021244317293167, 0.060106221586465836, 0.060106221586465836, 0.060106221586465836, 0.12021244317293167, 0.060106221586465836, 0.12021244317293167, 0.060106221586465836, 0.24042488634586334, 0.060106221586465836, 0.196853905916214, 0.196853905916214, 0.393707811832428, 0.196853905916214, 0.3204435408115387, 0.6408870816230774, 0.3238660991191864, 0.3238660991191864, 0.3238660991191864, 0.07840391993522644, 0.15680783987045288, 0.15680783987045288, 0.07840391993522644, 0.07840391993522644, 0.31361567974090576, 0.15680783987045288, 0.11255934834480286, 0.11255934834480286, 0.11255934834480286, 0.11255934834480286, 0.11255934834480286, 0.11255934834480286, 0.2251186966896057, 0.11255934834480286, 0.3256092369556427, 0.3256092369556427, 0.3256092369556427, 0.08462024480104446, 0.16924048960208893, 0.08462024480104446, 0.16924048960208893, 0.08462024480104446, 0.16924048960208893, 0.16924048960208893, 0.08462024480104446, 0.1661587357521057, 0.1661587357521057, 0.1661587357521057, 0.49847620725631714, 0.32349348068237305, 0.32349348068237305, 0.32349348068237305, 0.19908854365348816, 0.3981770873069763, 0.19908854365348816, 0.19908854365348816, 0.6443880200386047, 0.32219401001930237, 0.1992199867963791, 0.1992199867963791, 0.3984399735927582, 0.1992199867963791, 0.14571669697761536, 0.2914333939552307, 0.14571669697761536, 0.07285834848880768, 0.07285834848880768, 0.07285834848880768, 0.14571669697761536, 0.07285834848880768, 0.16557025909423828, 0.16557025909423828, 0.49671077728271484, 0.16557025909423828, 0.3209124505519867, 0.6418249011039734, 0.19707374274730682, 0.19707374274730682, 0.19707374274730682, 0.39414748549461365, 0.6458315849304199, 0.32291579246520996, 0.32206884026527405, 0.6441376805305481, 0.20216912031173706, 0.20216912031173706, 0.10108456015586853, 0.3032536804676056, 0.10108456015586853, 0.10108456015586853, 0.15301647782325745, 0.10201098024845123, 0.10201098024845123, 0.051005490124225616, 0.051005490124225616, 0.3060329556465149, 0.051005490124225616, 0.15301647782325745, 0.051005490124225616, 0.3043259084224701, 0.20288392901420593, 0.10144196450710297, 0.10144196450710297, 0.10144196450710297, 0.10144196450710297, 0.10144196450710297, 0.1458769589662552, 0.1458769589662552, 0.1458769589662552, 0.1458769589662552, 0.2917539179325104, 0.1458769589662552, 0.4950147569179535, 0.24750737845897675, 0.24750737845897675, 0.3227466344833374, 0.3227466344833374, 0.3227466344833374, 0.24501097202301025, 0.24501097202301025, 0.4900219440460205, 0.16628685593605042, 0.16628685593605042, 0.49886056780815125, 0.16628685593605042, 0.14227484166622162, 0.28454968333244324, 0.42682451009750366, 0.14227484166622162, 0.3250434100627899, 0.3250434100627899, 0.3250434100627899, 0.056639473885297775, 0.11327894777059555, 0.11327894777059555, 0.056639473885297775, 0.16991841793060303, 0.056639473885297775, 0.11327894777059555, 0.056639473885297775, 0.056639473885297775, 0.056639473885297775, 0.056639473885297775, 0.056639473885297775, 0.056639473885297775, 0.32447734475135803, 0.32447734475135803, 0.32447734475135803, 0.12746906280517578, 0.25493812561035156, 0.25493812561035156, 0.38240718841552734, 0.2690405249595642, 0.10761621594429016, 0.16142432391643524, 0.21523243188858032, 0.16142432391643524, 0.05380810797214508, 0.05380810797214508, 0.20171195268630981, 0.3025679290294647, 0.10085597634315491, 0.20171195268630981, 0.10085597634315491, 0.10085597634315491, 0.24535204470157623, 0.49070408940315247, 0.24535204470157623, 0.323702871799469, 0.323702871799469, 0.323702871799469, 0.09190497547388077, 0.2757149040699005, 0.09190497547388077, 0.2757149040699005, 0.18380995094776154, 0.09190497547388077, 0.19731871783733368, 0.39463743567466736, 0.19731871783733368, 0.19731871783733368, 0.49011456966400146, 0.49011456966400146, 0.11209225654602051, 0.11209225654602051, 0.3362767696380615, 0.11209225654602051, 0.11209225654602051, 0.22418451309204102, 0.32283130288124084, 0.32283130288124084, 0.32283130288124084, 0.1982998549938202, 0.1982998549938202, 0.1982998549938202, 0.3965997099876404, 0.9633151888847351, 0.49373552203178406, 0.24686776101589203, 0.24686776101589203, 0.24295465648174286, 0.24295465648174286, 0.4859093129634857, 0.24492597579956055, 0.4898519515991211, 0.24492597579956055, 0.12626798450946808, 0.12626798450946808, 0.37880396842956543, 0.12626798450946808, 0.12626798450946808, 0.12626798450946808, 0.07811535894870758, 0.07811535894870758, 0.07811535894870758, 0.3124614357948303, 0.23434607684612274, 0.07811535894870758, 0.15623071789741516, 0.1982365846633911, 0.3964731693267822, 0.1982365846633911, 0.1982365846633911, 0.16562458872795105, 0.3312491774559021, 0.3312491774559021, 0.16562458872795105, 0.166032075881958, 0.166032075881958, 0.332064151763916, 0.166032075881958, 0.166032075881958, 0.3357105851173401, 0.6714211702346802, 0.14270225167274475, 0.14270225167274475, 0.14270225167274475, 0.14270225167274475, 0.2854045033454895, 0.14270225167274475, 0.3224624693393707, 0.3224624693393707, 0.3224624693393707, 0.24481253325939178, 0.24481253325939178, 0.48962506651878357, 0.33490926027297974, 0.6698185205459595, 0.03942662104964256, 0.15770648419857025, 0.15770648419857025, 0.03942662104964256, 0.11827986687421799, 0.03942662104964256, 0.03942662104964256, 0.03942662104964256, 0.03942662104964256, 0.03942662104964256, 0.03942662104964256, 0.15770648419857025, 0.07885324209928513, 0.03942662104964256, 0.10200917720794678, 0.10200917720794678, 0.15301376581192017, 0.10200917720794678, 0.10200917720794678, 0.15301376581192017, 0.05100458860397339, 0.10200917720794678, 0.05100458860397339, 0.05100458860397339, 0.05100458860397339, 0.14336293935775757, 0.28672587871551514, 0.28672587871551514, 0.14336293935775757, 0.14336293935775757, 0.3216394782066345, 0.3216394782066345, 0.3216394782066345, 0.32003793120384216, 0.6400758624076843, 0.32334211468696594, 0.32334211468696594, 0.32334211468696594, 0.12562516331672668, 0.12562516331672668, 0.12562516331672668, 0.12562516331672668, 0.37687548995018005, 0.12562516331672668, 0.035337112843990326, 0.10601133853197098, 0.07067422568798065, 0.07067422568798065, 0.035337112843990326, 0.21202267706394196, 0.10601133853197098, 0.035337112843990326, 0.10601133853197098, 0.10601133853197098, 0.07067422568798065, 0.035337112843990326, 0.035337112843990326, 0.3248547911643982, 0.3248547911643982, 0.3248547911643982, 0.3229185938835144, 0.3229185938835144, 0.3229185938835144, 0.32294970750808716, 0.32294970750808716, 0.32294970750808716, 0.14258846640586853, 0.28517693281173706, 0.14258846640586853, 0.14258846640586853, 0.14258846640586853, 0.14258846640586853, 0.2748585045337677, 0.09161949902772903, 0.09161949902772903, 0.09161949902772903, 0.09161949902772903, 0.09161949902772903, 0.09161949902772903, 0.18323899805545807, 0.24604126811027527, 0.49208253622055054, 0.24604126811027527, 0.19819243252277374, 0.3963848650455475, 0.19819243252277374, 0.19819243252277374, 0.2468269318342209, 0.2468269318342209, 0.2468269318342209, 0.6484472155570984, 0.3242236077785492, 0.19793756306171417, 0.39587512612342834, 0.19793756306171417, 0.19793756306171417, 0.2035638839006424, 0.2035638839006424, 0.2035638839006424, 0.4071277678012848, 0.2858111560344696, 0.1429055780172348, 0.2858111560344696, 0.1429055780172348, 0.1429055780172348, 0.32676371932029724, 0.32676371932029724, 0.32676371932029724, 0.10116831213235855, 0.10116831213235855, 0.10116831213235855, 0.10116831213235855, 0.10116831213235855, 0.10116831213235855, 0.2023366242647171, 0.2023366242647171, 0.14342670142650604, 0.2868534028530121, 0.14342670142650604, 0.43028008937835693, 0.16630172729492188, 0.33260345458984375, 0.16630172729492188, 0.16630172729492188, 0.16630172729492188, 0.32379770278930664, 0.6475954055786133, 0.6462467312812805, 0.32312336564064026, 0.32301992177963257, 0.6460398435592651, 0.1809619814157486, 0.2412826418876648, 0.0603206604719162, 0.0603206604719162, 0.0603206604719162, 0.0603206604719162, 0.0603206604719162, 0.0603206604719162, 0.1206413209438324, 0.0603206604719162, 0.3249945044517517, 0.3249945044517517, 0.3249945044517517, 0.1660207062959671, 0.3320414125919342, 0.3320414125919342, 0.1660207062959671, 0.14249499142169952, 0.14249499142169952, 0.42748498916625977, 0.14249499142169952, 0.14249499142169952, 0.16910184919834137, 0.16910184919834137, 0.08455092459917068, 0.08455092459917068, 0.08455092459917068, 0.25365278124809265, 0.08455092459917068, 0.08455092459917068, 0.05379412695765495, 0.3227647542953491, 0.16138237714767456, 0.05379412695765495, 0.16138237714767456, 0.05379412695765495, 0.05379412695765495, 0.05379412695765495, 0.05379412695765495, 0.32637935876846313, 0.32637935876846313, 0.32637935876846313, 0.09726087749004364, 0.04863043874502182, 0.04863043874502182, 0.04863043874502182, 0.04863043874502182, 0.09726087749004364, 0.19452175498008728, 0.09726087749004364, 0.04863043874502182, 0.04863043874502182, 0.04863043874502182, 0.04863043874502182, 0.14589130878448486, 0.32466182112693787, 0.32466182112693787, 0.32466182112693787, 0.3240017890930176, 0.3240017890930176, 0.3240017890930176, 0.33250537514686584, 0.6650107502937317, 0.6438827514648438, 0.3219413757324219, 0.16684696078300476, 0.16684696078300476, 0.5005408525466919, 0.16684696078300476, 0.49129754304885864, 0.24564877152442932, 0.24564877152442932, 0.11805859953165054, 0.03373102843761444, 0.10119308531284332, 0.11805859953165054, 0.05059654265642166, 0.10119308531284332, 0.06746205687522888, 0.03373102843761444, 0.05059654265642166, 0.01686551421880722, 0.03373102843761444, 0.05059654265642166, 0.06746205687522888, 0.03373102843761444, 0.03373102843761444, 0.03373102843761444, 0.03373102843761444, 0.03373102843761444, 0.19836628437042236, 0.19836628437042236, 0.19836628437042236, 0.3967325687408447, 0.3232010304927826, 0.3232010304927826, 0.3232010304927826, 0.49065110087394714, 0.24532555043697357, 0.24532555043697357, 0.14416365325450897, 0.28832730650901794, 0.14416365325450897, 0.14416365325450897, 0.28832730650901794, 0.28616613149642944, 0.5723322629928589, 0.14308306574821472, 0.37705451250076294, 0.12568484246730804, 0.12568484246730804, 0.12568484246730804, 0.12568484246730804, 0.12568484246730804, 0.16527843475341797, 0.4958353042602539, 0.16527843475341797, 0.16527843475341797, 0.2464946061372757, 0.4929892122745514, 0.2464946061372757, 0.16588611900806427, 0.33177223801612854, 0.16588611900806427, 0.16588611900806427, 0.16588611900806427, 0.32250747084617615, 0.32250747084617615, 0.32250747084617615, 0.5985497832298279, 0.19951659440994263, 0.19951659440994263, 0.1018143966794014, 0.1018143966794014, 0.1018143966794014, 0.2036287933588028, 0.1018143966794014, 0.0509071983397007, 0.0509071983397007, 0.0509071983397007, 0.1018143966794014, 0.0509071983397007, 0.1018143966794014, 0.31996604800224304, 0.6399320960044861, 0.1459217220544815, 0.291843444108963, 0.1459217220544815, 0.07296086102724075, 0.1459217220544815, 0.07296086102724075, 0.07296086102724075, 0.07296086102724075, 0.13575078547000885, 0.40725237131118774, 0.06787539273500443, 0.13575078547000885, 0.06787539273500443, 0.20362618565559387, 0.11184745281934738, 0.22369490563869476, 0.11184745281934738, 0.22369490563869476, 0.11184745281934738, 0.22369490563869476, 0.32631000876426697, 0.6526200175285339, 0.1976596564054489, 0.3953193128108978, 0.1976596564054489, 0.1976596564054489, 0.3235478103160858, 0.3235478103160858, 0.3235478103160858, 0.2486625462770462, 0.4973250925540924, 0.2486625462770462, 0.08475812524557114, 0.2542743682861328, 0.08475812524557114, 0.08475812524557114, 0.16951625049114227, 0.08475812524557114, 0.2542743682861328, 0.14247871935367584, 0.4274361729621887, 0.14247871935367584, 0.14247871935367584, 0.14247871935367584, 0.19890174269676208, 0.39780348539352417, 0.39780348539352417, 0.19773626327514648, 0.19773626327514648, 0.39547252655029297, 0.19773626327514648, 0.030067233368754387, 0.4209412634372711, 0.030067233368754387, 0.1503361612558365, 0.030067233368754387, 0.030067233368754387, 0.030067233368754387, 0.030067233368754387, 0.030067233368754387, 0.09020169824361801, 0.030067233368754387, 0.060134466737508774, 0.05995917320251465, 0.05995917320251465, 0.1199183464050293, 0.05995917320251465, 0.05995917320251465, 0.05995917320251465, 0.05995917320251465, 0.05995917320251465, 0.17987751960754395, 0.05995917320251465, 0.05995917320251465, 0.05995917320251465, 0.1199183464050293, 0.14287850260734558, 0.14287850260734558, 0.14287850260734558, 0.14287850260734558, 0.14287850260734558, 0.28575700521469116, 0.1261325478553772, 0.3783976435661316, 0.1261325478553772, 0.1261325478553772, 0.1261325478553772, 0.1261325478553772, 0.6424655914306641, 0.32123279571533203, 0.7370249032974243, 0.2456749677658081, 0.0329926498234272, 0.0989779457449913, 0.0659852996468544, 0.0989779457449913, 0.0659852996468544, 0.1319705992937088, 0.0659852996468544, 0.0989779457449913, 0.0989779457449913, 0.0989779457449913, 0.0659852996468544, 0.0659852996468544, 0.11144815385341644, 0.11144815385341644, 0.22289630770683289, 0.11144815385341644, 0.11144815385341644, 0.11144815385341644, 0.22289630770683289, 0.22491097450256348, 0.3373664617538452, 0.22491097450256348, 0.22491097450256348, 0.9776820540428162, 0.19882778823375702, 0.5964833498001099, 0.19882778823375702], \"Term\": [\"ability\", \"ability\", \"ability\", \"able\", \"able\", \"able\", \"able\", \"able\", \"able\", \"academic\", \"academic\", \"academic\", \"accept\", \"accept\", \"accept\", \"accord\", \"accord\", \"accord\", \"accord\", \"accord\", \"accord\", \"accord\", \"according\", \"according\", \"according\", \"account\", \"account\", \"account\", \"account\", \"account\", \"account\", \"accuse\", \"accuse\", \"activity\", \"activity\", \"activity\", \"actress\", \"actress\", \"actress\", \"add\", \"add\", \"add\", \"add\", \"add\", \"add\", \"add\", \"add\", \"add\", \"address\", \"address\", \"address\", \"address\", \"advance\", \"advance\", \"advance\", \"advertising\", \"advertising\", \"advertising\", \"advertising\", \"affect\", \"affect\", \"affect\", \"affect\", \"affect\", \"afp\", \"afp\", \"age\", \"age\", \"age\", \"age\", \"age\", \"age\", \"age\", \"age\", \"agency\", \"agency\", \"agency\", \"agent\", \"agent\", \"agree\", \"agree\", \"agree\", \"agree\", \"agree\", \"agree\", \"ahead\", \"ahead\", \"ahead\", \"ahead\", \"aim\", \"aim\", \"aim\", \"aim\", \"aim\", \"algorithm\", \"algorithm\", \"algorithm\", \"algorithm\", \"alkahest\", \"alkahest\", \"alkahest\", \"alkahest\", \"alkahest\", \"allegation\", \"allegation\", \"allen\", \"allen\", \"allen\", \"allow\", \"allow\", \"allow\", \"allow\", \"allow\", \"allow\", \"allow\", \"already\", \"already\", \"already\", \"already\", \"already\", \"already\", \"already\", \"already\", \"alzheimer\", \"alzheimer\", \"alzheimer\", \"alzheimer\", \"alzheimer\", \"alzheimer_disease\", \"alzheimer_disease\", \"america\", \"america\", \"america\", \"america\", \"america\", \"america\", \"american\", \"american\", \"american\", \"american\", \"americans\", \"americans\", \"americans\", \"among\", \"among\", \"among\", \"among\", \"among\", \"among\", \"among\", \"amount\", \"amount\", \"amount\", \"analysis\", \"animal\", \"animal\", \"animal\", \"anomaly\", \"anomaly\", \"another\", \"another\", \"another\", \"another\", \"another\", \"another\", \"another\", \"another\", \"appeal\", \"appeal\", \"area\", \"area\", \"area\", \"arianespace\", \"arianespace\", \"arianespace\", \"around\", \"around\", \"around\", \"around\", \"around\", \"around\", \"around\", \"around\", \"around\", \"around\", \"around_world\", \"around_world\", \"around_world\", \"around_world\", \"arrive\", \"arrive\", \"arrive\", \"article\", \"article\", \"ask\", \"ask\", \"ask\", \"ask\", \"ask\", \"ask\", \"assault\", \"assault\", \"asset\", \"asset\", \"asset\", \"asset\", \"athens\", \"athens\", \"attempt\", \"attempt\", \"attempt\", \"attempt\", \"attempt\", \"attend\", \"australian\", \"australian\", \"australian\", \"author\", \"author\", \"automated_story\", \"automated_story\", \"automated_story\", \"automation\", \"automation\", \"automation\", \"automation\", \"automation\", \"award\", \"award\", \"award\", \"baby_girl\", \"baby_girl\", \"baby_girl\", \"back\", \"back\", \"back\", \"back\", \"back\", \"back\", \"back\", \"back\", \"back\", \"back\", \"ban\", \"ban\", \"ban\", \"bank\", \"bank\", \"bank\", \"bank\", \"bank\", \"base\", \"base\", \"base\", \"base\", \"become\", \"become\", \"become\", \"become\", \"become\", \"become\", \"become\", \"become\", \"become\", \"become\", \"bed\", \"bed\", \"behind\", \"behind\", \"behind\", \"behind\", \"behind\", \"believe\", \"believe\", \"believe\", \"believe\", \"believe\", \"believe\", \"believe\", \"believe\", \"believe\", \"bellonias\", \"bellonias\", \"benefit\", \"benefit\", \"benefit\", \"benefit\", \"benefit\", \"big\", \"big\", \"big\", \"big\", \"big\", \"big\", \"big\", \"bill\", \"bill\", \"bill\", \"bill\", \"blankfein\", \"blankfein\", \"blankfein\", \"board\", \"board\", \"board\", \"body\", \"body\", \"body\", \"body\", \"body\", \"body\", \"body\", \"body\", \"body\", \"bomb\", \"bomb\", \"bomb\", \"book\", \"book\", \"book\", \"book\", \"boost\", \"boost\", \"boost\", \"bos\", \"bos\", \"bos\", \"brain\", \"brain\", \"brain\", \"brain\", \"brain\", \"brain\", \"brand\", \"brand\", \"brand\", \"brand\", \"brand\", \"bras\", \"bras\", \"bras\", \"brexit\", \"brexit\", \"brexit\", \"brexit\", \"brexit\", \"brexit\", \"brexit\", \"brexit\", \"brexiteers\", \"brexiteers\", \"brexiteers\", \"brexiteers\", \"brexiteers\", \"brexiteers\", \"bring\", \"bring\", \"bring\", \"bring\", \"bring\", \"bring\", \"broadly\", \"broadly\", \"broadly\", \"burning\", \"burning\", \"burning\", \"business\", \"business\", \"business\", \"business\", \"business\", \"business\", \"business\", \"business\", \"business\", \"business\", \"business\", \"business\", \"caatsa\", \"caatsa\", \"caatsa\", \"california\", \"california\", \"california\", \"california\", \"call\", \"call\", \"call\", \"call\", \"call\", \"call\", \"call\", \"call\", \"call\", \"call\", \"call\", \"call\", \"call\", \"camera\", \"camera\", \"camera\", \"canada\", \"canada\", \"capital\", \"capital\", \"capital\", \"capital\", \"car\", \"car\", \"car\", \"car\", \"car\", \"card\", \"card\", \"card\", \"care\", \"care\", \"care\", \"care\", \"case\", \"case\", \"case\", \"case\", \"case\", \"case\", \"case\", \"case\", \"cash\", \"cash\", \"catch\", \"catch\", \"catch\", \"catwalk\", \"catwalk\", \"catwalk\", \"chance\", \"chance\", \"change\", \"change\", \"change\", \"change\", \"change\", \"change\", \"change\", \"change\", \"change\", \"change\", \"change\", \"check\", \"check\", \"check\", \"chef\", \"chef\", \"chef\", \"chef\", \"chief\", \"chief\", \"chief\", \"chief\", \"chief_executive\", \"chief_executive\", \"chief_executive\", \"chief_executive\", \"child\", \"child\", \"child\", \"child\", \"child\", \"child\", \"child\", \"child\", \"child\", \"child\", \"child\", \"china\", \"china\", \"china\", \"china\", \"china\", \"china\", \"chris_parker\", \"chris_parker\", \"circumstance\", \"circumstance\", \"circumstance\", \"circumstance\", \"cite\", \"cite\", \"cite\", \"city\", \"city\", \"city\", \"city\", \"city\", \"city\", \"civilisation\", \"civilisation\", \"civilisation\", \"civilisation\", \"claim\", \"claim\", \"claim\", \"claim\", \"claim\", \"claim\", \"clear\", \"clear\", \"clear\", \"clear\", \"clear\", \"clear\", \"clear\", \"client\", \"client\", \"client\", \"climb\", \"climb\", \"climb\", \"cognitive\", \"cognitive\", \"cognitive\", \"colour\", \"colour\", \"colour\", \"comment\", \"comment\", \"comment\", \"comment\", \"comment\", \"common\", \"common\", \"common\", \"company\", \"company\", \"company\", \"company\", \"company\", \"company\", \"company\", \"company\", \"company\", \"company\", \"company\", \"concern\", \"concern\", \"connect\", \"connect\", \"connect\", \"consequence\", \"consequence\", \"consider\", \"consider\", \"consider\", \"consider\", \"content\", \"content\", \"content\", \"content\", \"content\", \"control\", \"control\", \"control\", \"control\", \"control\", \"correspondent\", \"correspondent\", \"could\", \"could\", \"could\", \"could\", \"could\", \"could\", \"could\", \"could\", \"could\", \"could\", \"could\", \"could\", \"could\", \"could\", \"country\", \"country\", \"country\", \"country\", \"country\", \"country\", \"country\", \"country\", \"country\", \"country\", \"country\", \"couple\", \"couple\", \"couple\", \"couple\", \"couple\", \"couple\", \"couple_meet\", \"couple_meet\", \"court\", \"court\", \"court\", \"create\", \"create\", \"create\", \"create\", \"create\", \"create\", \"create\", \"create\", \"create\", \"crown_princess\", \"crown_princess\", \"crown_princess\", \"current\", \"current\", \"current\", \"current\", \"data\", \"data\", \"data\", \"data\", \"data\", \"data\", \"data\", \"davos\", \"davos\", \"davos\", \"davos\", \"davos\", \"davos\", \"dawn\", \"dawn\", \"day\", \"day\", \"day\", \"day\", \"day\", \"day\", \"day\", \"day\", \"day\", \"day\", \"day\", \"day\", \"day\", \"day\", \"day\", \"day\", \"december\", \"december\", \"december\", \"deep\", \"deep\", \"deep_brain\", \"deep_brain\", \"deep_brain\", \"degree\", \"degree\", \"degree\", \"deliver\", \"deliver\", \"deliver\", \"dementia\", \"dementia\", \"democrats\", \"democrats\", \"democrats\", \"democrats\", \"depression\", \"depression\", \"describe\", \"describe\", \"describe\", \"describe\", \"describe\", \"design\", \"design\", \"design\", \"design\", \"design\", \"design\", \"design\", \"design\", \"design\", \"design\", \"design\", \"design\", \"design\", \"designer\", \"designer\", \"designer\", \"designer\", \"designer\", \"designer\", \"designer\", \"designer\", \"despite\", \"despite\", \"despite\", \"develop\", \"develop\", \"develop\", \"different\", \"different\", \"different\", \"different\", \"different\", \"direct\", \"direct\", \"direct\", \"director\", \"director\", \"director\", \"director\", \"director\", \"donald_trump\", \"donald_trump\", \"donald_trump\", \"donald_trump\", \"dr\", \"dr\", \"dr\", \"dr\", \"dreamers\", \"dreamers\", \"dreamers\", \"drink\", \"drink\", \"drink\", \"drug\", \"drug\", \"drug\", \"drug\", \"drug\", \"drug\", \"duchess\", \"duchess\", \"duke\", \"earlier\", \"earlier\", \"earlier\", \"earlier\", \"early\", \"early\", \"early\", \"early\", \"early\", \"economic\", \"economic\", \"economic\", \"economy\", \"economy\", \"economy\", \"economy\", \"economy\", \"economy\", \"effect\", \"effect\", \"effect\", \"effect\", \"effect\", \"effort\", \"effort\", \"effort\", \"effort\", \"elite\", \"elite\", \"else\", \"else\", \"end\", \"end\", \"end\", \"end\", \"end\", \"end\", \"end\", \"energy\", \"energy\", \"energy\", \"energy\", \"english\", \"english\", \"enjoy\", \"enjoy\", \"enjoy\", \"enjoy\", \"enjoy\", \"enough\", \"enough\", \"enough\", \"enough\", \"ensure\", \"ensure\", \"ensure\", \"enter\", \"enter\", \"epa\", \"epa\", \"episode\", \"episode\", \"episode\", \"esrb\", \"esrb\", \"esrb\", \"eu\", \"eu\", \"eu\", \"eu\", \"eu\", \"eu\", \"eu\", \"eugt\", \"eugt\", \"eugt\", \"eugt\", \"europe\", \"europe\", \"europe\", \"europe\", \"europe\", \"europe\", \"europe\", \"even\", \"even\", \"even\", \"even\", \"even\", \"even\", \"even\", \"even\", \"even\", \"even\", \"even\", \"event\", \"event\", \"event\", \"event\", \"event\", \"every\", \"every\", \"every\", \"evidence\", \"evidence\", \"evidence\", \"evidence\", \"exactly\", \"exactly\", \"exactly\", \"expect\", \"expect\", \"expect\", \"expect\", \"expect\", \"expect\", \"expect\", \"expect\", \"experience\", \"experience\", \"experience\", \"experience\", \"experiment\", \"experiment\", \"experiment\", \"experiment\", \"experiment\", \"expert\", \"expert\", \"expert\", \"expert\", \"expert\", \"expert\", \"explain\", \"explain\", \"explain\", \"explain\", \"extra\", \"extra\", \"extra\", \"extraordinary\", \"extraordinary\", \"extraordinary\", \"face\", \"face\", \"face\", \"face\", \"face\", \"facebook\", \"facebook\", \"facebook\", \"facebook\", \"facebook\", \"fair\", \"fair\", \"family\", \"family\", \"family\", \"famous\", \"famous\", \"famous\", \"famous\", \"far\", \"far\", \"far\", \"far\", \"far\", \"far\", \"far\", \"far\", \"fasting\", \"fasting\", \"fasting\", \"feature\", \"feature\", \"feature\", \"feature\", \"feel\", \"feel\", \"feel\", \"feel\", \"feel\", \"feel\", \"feel\", \"feel\", \"fictional_drug\", \"fictional_drug\", \"fight\", \"fight\", \"fight\", \"fight\", \"figure\", \"figure\", \"figure\", \"final\", \"final\", \"final\", \"final\", \"find\", \"find\", \"find\", \"find\", \"find\", \"find\", \"find\", \"find\", \"find\", \"find\", \"firm\", \"firm\", \"firm\", \"firm\", \"firm\", \"firm\", \"first\", \"first\", \"first\", \"first\", \"first\", \"first\", \"first\", \"first\", \"first\", \"first\", \"first\", \"first\", \"first\", \"first\", \"fit\", \"fit\", \"fit\", \"five\", \"five\", \"five\", \"five\", \"flight\", \"flight\", \"flight\", \"flight\", \"flight\", \"flight\", \"flight\", \"flight\", \"flight\", \"focus\", \"focus\", \"focus\", \"focus\", \"focus\", \"follow\", \"follow\", \"follow\", \"follow\", \"follow\", \"follow\", \"follow_us\", \"follow_us\", \"follower\", \"follower\", \"follower\", \"follower\", \"follower\", \"following\", \"following\", \"food\", \"food\", \"food\", \"football\", \"football\", \"force\", \"force\", \"force\", \"force\", \"form\", \"form\", \"form\", \"form\", \"form\", \"form\", \"form\", \"form\", \"form\", \"form\", \"forum\", \"forum\", \"france\", \"france\", \"france\", \"frankfurt\", \"frankfurt\", \"free_trade\", \"free_trade\", \"free_trade\", \"french\", \"french\", \"friday\", \"friday\", \"fuel\", \"fuel\", \"fuel\", \"fuel\", \"fuel\", \"full\", \"full\", \"full\", \"full\", \"fund\", \"fund\", \"fund\", \"fund\", \"future\", \"future\", \"future\", \"future\", \"gain\", \"gain\", \"gain\", \"gain\", \"game\", \"game\", \"game\", \"game\", \"game\", \"game\", \"game\", \"game\", \"girl\", \"girl\", \"girl\", \"girl\", \"girl\", \"girl\", \"give\", \"give\", \"give\", \"give\", \"give\", \"give\", \"give\", \"give\", \"give\", \"give\", \"give\", \"give\", \"give\", \"give\", \"give\", \"goal\", \"goal\", \"goal\", \"goal\", \"goldman_bos\", \"goldman_bos\", \"goldman_bos\", \"goldman_sachs\", \"goldman_sachs\", \"goldman_sachs\", \"good\", \"good\", \"good\", \"good\", \"good\", \"good\", \"good\", \"good\", \"good\", \"good\", \"good\", \"good\", \"google\", \"google\", \"government\", \"government\", \"government\", \"government\", \"government\", \"government\", \"government\", \"government\", \"government\", \"government\", \"government\", \"government\", \"government\", \"government\", \"gradually\", \"gradually\", \"gradually\", \"grid\", \"grid\", \"grid\", \"ground\", \"ground\", \"grow\", \"grow\", \"grow\", \"grow\", \"grow\", \"grow\", \"growth\", \"growth\", \"growth\", \"growth\", \"growth\", \"growth\", \"growth\", \"guess\", \"guess\", \"guess\", \"guest\", \"guest\", \"guest\", \"guest\", \"guidance\", \"guidance\", \"guidance\", \"guide\", \"guide\", \"guide\", \"happen\", \"happen\", \"happen\", \"happen\", \"happen\", \"happen\", \"happy\", \"happy\", \"happy\", \"happy\", \"hard\", \"hard\", \"hard\", \"hard\", \"harmful\", \"harmful\", \"head\", \"head\", \"head\", \"head\", \"head\", \"head\", \"health\", \"health\", \"health\", \"health\", \"health\", \"health\", \"health\", \"hear\", \"hear\", \"hear\", \"hear\", \"hear\", \"hear\", \"hear\", \"heart\", \"heart\", \"heart\", \"heart\", \"help\", \"help\", \"help\", \"help\", \"help\", \"help\", \"help\", \"help\", \"help\", \"help\", \"help\", \"help\", \"help\", \"help\", \"help\", \"help\", \"highly\", \"highly\", \"highly\", \"highly\", \"hit\", \"home\", \"home\", \"home\", \"home\", \"home\", \"home\", \"home\", \"hong_kong\", \"hong_kong\", \"hong_kong\", \"hop\", \"hop\", \"hop\", \"hop\", \"hot\", \"hour\", \"hour\", \"hour\", \"hour\", \"hour\", \"however\", \"however\", \"however\", \"however\", \"however\", \"however\", \"however\", \"however\", \"huge\", \"huge\", \"huge\", \"huge\", \"huge\", \"human\", \"human\", \"human\", \"human\", \"human\", \"husband\", \"husband\", \"hush\", \"hush\", \"hush\", \"hush\", \"hush\", \"hush\", \"hush\", \"hush\", \"hush\", \"hvmn\", \"hvmn\", \"idea\", \"idea\", \"idea\", \"idea\", \"idea\", \"images\", \"images\", \"images\", \"images\", \"images_maye\", \"images_maye\", \"images_maye\", \"immediately\", \"immigration\", \"immigration\", \"immigration\", \"improve\", \"improve\", \"improve\", \"improve\", \"improve\", \"improve\", \"improve_air\", \"improve_air\", \"improve_air\", \"improve_sleep\", \"improve_sleep\", \"include\", \"include\", \"include\", \"include\", \"include\", \"include\", \"include\", \"include\", \"include\", \"include\", \"include\", \"include\", \"include\", \"include\", \"increase\", \"increase\", \"increase\", \"increase\", \"increase\", \"increase\", \"increase\", \"independence\", \"independence\", \"india\", \"india\", \"india\", \"india\", \"india\", \"influence\", \"influence\", \"influence\", \"initially\", \"initially\", \"initially\", \"innogy\", \"innogy\", \"inside\", \"inside\", \"instagram\", \"instagram\", \"instagram\", \"instagram\", \"instagram\", \"instagram\", \"instagram\", \"instagram\", \"instagram\", \"instagram\", \"instagram\", \"instagram_handle\", \"instagram_handle\", \"instagram_handle\", \"instead\", \"instead\", \"instead\", \"instead\", \"interest\", \"interest\", \"interest\", \"interest\", \"introduce\", \"introduce\", \"introduce\", \"investigation\", \"investigation\", \"investigation\", \"investment\", \"investment\", \"investment\", \"investor\", \"investor\", \"involve\", \"involve\", \"involve\", \"involve\", \"involve\", \"involve\", \"island\", \"island\", \"island\", \"island\", \"island\", \"island\", \"island\", \"issue\", \"issue\", \"issue\", \"issue\", \"issue\", \"issue\", \"issue\", \"job\", \"job\", \"job\", \"job\", \"job\", \"job\", \"job\", \"job\", \"job\", \"join\", \"join\", \"join\", \"join\", \"join\", \"journalist\", \"journalist\", \"journalist\", \"journalist\", \"journalist\", \"journalist\", \"journalist\", \"judge\", \"judge\", \"judge\", \"judge\", \"judge\", \"keaton\", \"keaton\", \"keen\", \"keen\", \"keen\", \"keep\", \"keep\", \"keep\", \"keep\", \"keep\", \"keep\", \"ketone\", \"ketone\", \"kid\", \"kid\", \"kid\", \"kid\", \"kind\", \"kind\", \"kind\", \"kind\", \"kind\", \"king\", \"king\", \"king\", \"korea\", \"korea\", \"korea\", \"korea\", \"language\", \"language\", \"language\", \"last\", \"last\", \"last\", \"last\", \"last\", \"last\", \"last\", \"last\", \"last_year\", \"last_year\", \"last_year\", \"last_year\", \"last_year\", \"last_year\", \"last_year\", \"last_year\", \"late\", \"late\", \"late\", \"late\", \"late\", \"late\", \"late\", \"late\", \"launch\", \"launch\", \"launch\", \"launch\", \"launch\", \"launch\", \"lavonne\", \"lavonne\", \"lavonne\", \"lavonne\", \"law\", \"law\", \"law\", \"law\", \"law\", \"law\", \"law\", \"law\", \"leader\", \"leader\", \"leader\", \"leader\", \"leader\", \"leader\", \"leader\", \"least\", \"least\", \"least\", \"least\", \"least\", \"leave\", \"leave\", \"leave\", \"leave\", \"leave\", \"leave\", \"less\", \"less\", \"less\", \"less\", \"less\", \"less\", \"less\", \"let\", \"let\", \"let\", \"let\", \"level\", \"level\", \"level\", \"level\", \"level\", \"level\", \"level\", \"life\", \"life\", \"life\", \"life\", \"life\", \"life\", \"light\", \"light\", \"light\", \"light\", \"light\", \"light\", \"light\", \"light\", \"light\", \"light\", \"light_box\", \"light_box\", \"light_box\", \"lighting\", \"lighting\", \"lighting\", \"lighting\", \"likely\", \"likely\", \"likely\", \"likely\", \"limit\", \"limit\", \"limit\", \"linear\", \"linear\", \"linear\", \"list\", \"list\", \"list\", \"list\", \"list\", \"list\", \"list\", \"list\", \"list\", \"list\", \"list\", \"list\", \"little\", \"little\", \"little\", \"little\", \"little\", \"live\", \"live\", \"live\", \"live\", \"local\", \"local\", \"local\", \"local\", \"local\", \"local\", \"local\", \"london\", \"london\", \"london\", \"london\", \"london\", \"london\", \"london\", \"london\", \"long\", \"long\", \"long\", \"long\", \"long\", \"long\", \"long\", \"longer\", \"longer\", \"longer\", \"longer\", \"longer\", \"look\", \"look\", \"look\", \"look\", \"look\", \"look\", \"look\", \"look\", \"look\", \"look\", \"look\", \"lose\", \"lose\", \"lose\", \"lose\", \"lose\", \"lose\", \"low\", \"low\", \"low\", \"luxury\", \"luxury\", \"luxury\", \"machine\", \"machine\", \"machine\", \"machine\", \"machine\", \"magazine\", \"magazine\", \"magazine\", \"magazine\", \"magazine\", \"main_interest\", \"main_interest\", \"main_interest\", \"majority\", \"majority\", \"majority\", \"majority\", \"man\", \"man\", \"man\", \"manage\", \"manage\", \"manage\", \"manufacturer\", \"manufacturer\", \"many\", \"many\", \"many\", \"many\", \"many\", \"many\", \"many\", \"many\", \"many\", \"many\", \"many\", \"many\", \"march\", \"march\", \"march\", \"mark\", \"mark\", \"mark\", \"market\", \"market\", \"market\", \"market\", \"market\", \"marry\", \"marry\", \"maybe\", \"maybe\", \"meal\", \"meal\", \"meal\", \"mean\", \"mean\", \"mean\", \"mean\", \"mean\", \"mean\", \"meanwhile\", \"meanwhile\", \"meanwhile\", \"media\", \"media\", \"media\", \"media\", \"media\", \"media_playback_unsupported_device\", \"media_playback_unsupported_device\", \"media_playback_unsupported_device\", \"media_playback_unsupported_device\", \"media_playback_unsupported_device\", \"meet\", \"meet\", \"meet\", \"meet\", \"meet\", \"meeting\", \"meeting\", \"meeting\", \"mental_health\", \"mental_health\", \"mental_health\", \"message\", \"message\", \"message\", \"message\", \"messenger_kids\", \"messenger_kids\", \"messenger_kids\", \"messenger_kids\", \"michelin_guide\", \"michelin_guide\", \"michelin_guide\", \"middle\", \"middle\", \"middle\", \"might\", \"might\", \"might\", \"might\", \"might\", \"might\", \"might\", \"might\", \"military\", \"military\", \"military\", \"million\", \"million\", \"million\", \"million\", \"mind\", \"mind\", \"mind\", \"mind\", \"mind\", \"mind\", \"minoan\", \"minoan\", \"minoan\", \"minoans\", \"minoans\", \"minoans\", \"minoans\", \"minoans\", \"mobile_phone\", \"mobile_phone\", \"mobile_phone\", \"model\", \"model\", \"model\", \"model\", \"model\", \"model\", \"monday\", \"monday\", \"monday\", \"monday\", \"monday\", \"monday\", \"monday\", \"monday\", \"money\", \"money\", \"money\", \"money\", \"money\", \"monowi\", \"monowi\", \"monowi\", \"month\", \"month\", \"month\", \"month\", \"month\", \"month\", \"month\", \"mood\", \"mood\", \"mood\", \"mood\", \"mood\", \"morning\", \"morning\", \"morning\", \"morning\", \"morning\", \"moscow\", \"moscow\", \"moscow\", \"mouse\", \"mouse\", \"mouse\", \"move\", \"move\", \"move\", \"move\", \"move\", \"move\", \"move\", \"move\", \"move\", \"movement\", \"movement\", \"mps\", \"mps\", \"mps\", \"ms\", \"ms\", \"ms\", \"ms_watkins\", \"ms_watkins\", \"ms_watkins\", \"ms_watkins\", \"ms_watkins\", \"much\", \"much\", \"much\", \"much\", \"much\", \"much\", \"much\", \"much\", \"much\", \"much\", \"much\", \"multiple\", \"multiple\", \"multiple\", \"musk\", \"musk\", \"musk\", \"musk\", \"musk\", \"musk\", \"musk\", \"musk\", \"musk\", \"name\", \"name\", \"name\", \"name\", \"name\", \"name\", \"name\", \"name\", \"name\", \"name\", \"national\", \"national\", \"national\", \"nature\", \"nature\", \"never\", \"never\", \"never\", \"never\", \"never\", \"never\", \"never\", \"new\", \"new\", \"new\", \"new\", \"new\", \"new\", \"new\", \"new\", \"new\", \"new\", \"new\", \"new\", \"new\", \"news\", \"news\", \"news\", \"news\", \"newsroom\", \"newsroom\", \"newsroom\", \"next\", \"next\", \"night\", \"night\", \"night\", \"night\", \"night\", \"night\", \"night\", \"nine_minute\", \"nine_minute\", \"nine_minute\", \"normally\", \"normally\", \"normally\", \"north\", \"north\", \"north\", \"north\", \"northern\", \"northern\", \"northern\", \"northern\", \"number\", \"number\", \"number\", \"number\", \"number\", \"number\", \"number\", \"number\", \"number\", \"offer\", \"offer\", \"offer\", \"offer\", \"office\", \"office\", \"office\", \"office\", \"office\", \"often\", \"often\", \"often\", \"ohio_state\", \"ohio_state\", \"old\", \"old\", \"old\", \"old\", \"old\", \"old\", \"old\", \"old\", \"old\", \"old\", \"old\", \"old_woman\", \"old_woman\", \"old_woman\", \"oligarch\", \"oligarch\", \"online\", \"online\", \"online\", \"online\", \"online\", \"online\", \"online\", \"online\", \"open\", \"open\", \"open\", \"opportunity\", \"opportunity\", \"opportunity\", \"orbit\", \"orbit\", \"orbit\", \"order\", \"order\", \"order\", \"order\", \"order\", \"organisation\", \"organisation\", \"organisation\", \"originally\", \"originally\", \"originally\", \"originally\", \"originate\", \"others\", \"others\", \"others\", \"others\", \"others\", \"others\", \"pa\", \"pa\", \"pa\", \"parent\", \"parent\", \"parent\", \"parent\", \"parent\", \"paris\", \"paris\", \"paris\", \"parker\", \"parker\", \"parker\", \"parker\", \"parker\", \"part\", \"part\", \"part\", \"part\", \"part\", \"part\", \"part\", \"part\", \"part\", \"part\", \"part\", \"part\", \"part\", \"particle\", \"particle\", \"particularly\", \"particularly\", \"particularly\", \"pass\", \"pass\", \"pass\", \"past\", \"past\", \"path\", \"path\", \"patient\", \"patient\", \"patient\", \"patient\", \"pattern\", \"pattern\", \"pattern\", \"paul_bert\", \"paul_bert\", \"paul_bert\", \"people\", \"people\", \"people\", \"people\", \"people\", \"people\", \"people\", \"people\", \"people\", \"people\", \"people\", \"people\", \"people\", \"people\", \"person\", \"person\", \"person\", \"phone\", \"phone\", \"phone\", \"phone\", \"phone\", \"photograph\", \"photograph\", \"pick\", \"pick\", \"pick\", \"pick\", \"pick\", \"pick\", \"place\", \"place\", \"place\", \"place\", \"place\", \"place\", \"place\", \"plan\", \"plan\", \"plan\", \"plan\", \"plan\", \"plan\", \"plan\", \"plasma\", \"plasma\", \"plasma\", \"platform\", \"platform\", \"platform\", \"platform\", \"platform\", \"platform\", \"play\", \"play\", \"play\", \"play\", \"play\", \"pm\", \"pm\", \"pm\", \"point\", \"point\", \"point\", \"point\", \"point\", \"point\", \"point\", \"police\", \"police\", \"police\", \"police\", \"political\", \"political\", \"political\", \"political\", \"political\", \"political\", \"political\", \"political\", \"pollution\", \"pollution\", \"pollution\", \"positive\", \"possibility\", \"possibility\", \"possibility\", \"possible\", \"possible\", \"possible\", \"possible\", \"possible\", \"post\", \"post\", \"post\", \"post\", \"post\", \"post\", \"post\", \"post\", \"potentially\", \"potentially\", \"potentially\", \"power\", \"power\", \"power\", \"power\", \"power\", \"predict\", \"predict\", \"present\", \"present\", \"present\", \"present\", \"president\", \"president\", \"president\", \"president\", \"president\", \"president\", \"president\", \"president\", \"president\", \"president_donald_trump\", \"president_donald_trump\", \"president_donald_trump\", \"president_trump\", \"president_trump\", \"president_trump\", \"presidential\", \"prince_daniel\", \"prince_daniel\", \"prince_william_catherine\", \"prince_william_catherine\", \"private\", \"private\", \"probably\", \"probably\", \"probably\", \"probably\", \"process\", \"process\", \"process\", \"process\", \"process\", \"process\", \"process\", \"produce\", \"produce\", \"produce\", \"produce\", \"produce\", \"productivity\", \"productivity\", \"productivity\", \"professor\", \"professor\", \"programme\", \"programme\", \"programme\", \"programme\", \"programme\", \"promise\", \"promise\", \"promise\", \"provide\", \"provide\", \"provide\", \"provide\", \"provide\", \"public_health\", \"public_health\", \"publish\", \"publish\", \"publish\", \"publish\", \"publish\", \"publish\", \"publisher\", \"publisher\", \"publisher\", \"push\", \"push\", \"put\", \"put\", \"put\", \"put\", \"put\", \"put\", \"put\", \"put\", \"put\", \"put\", \"put\", \"put\", \"quality\", \"quality\", \"quality\", \"question\", \"question\", \"question\", \"question\", \"radio\", \"radio\", \"radio\", \"raise\", \"raise\", \"raise\", \"raise\", \"raise\", \"rape\", \"rape\", \"rape\", \"rape\", \"rape\", \"rate\", \"rate\", \"rate\", \"rate\", \"rate\", \"rating\", \"rating\", \"rating\", \"rating\", \"rating\", \"reach\", \"reach\", \"reach\", \"reach\", \"reach\", \"reach\", \"reach\", \"react\", \"react\", \"read\", \"read\", \"read\", \"read\", \"real\", \"real\", \"real\", \"real\", \"really\", \"really\", \"really\", \"really\", \"really\", \"really\", \"really\", \"really\", \"reasonable\", \"reasonable\", \"reasonable\", \"recent\", \"recent\", \"recent\", \"recent\", \"recent\", \"recently\", \"recently\", \"recently\", \"record\", \"record\", \"record\", \"record\", \"recovery\", \"recovery\", \"recovery\", \"red\", \"red\", \"red\", \"red\", \"red\", \"red\", \"reduce\", \"reduce\", \"reduce\", \"reduce\", \"refer\", \"refer\", \"refer\", \"reform\", \"reform\", \"reform\", \"refuse\", \"refuse\", \"region\", \"region\", \"release\", \"release\", \"release\", \"release\", \"release\", \"release\", \"release\", \"remain\", \"remain\", \"remain\", \"remain\", \"remain\", \"remain\", \"remain\", \"remember\", \"remember\", \"remember\", \"report\", \"report\", \"report\", \"report\", \"report\", \"report\", \"report\", \"report\", \"report\", \"report\", \"report\", \"report\", \"represent\", \"represent\", \"represent\", \"represent\", \"represent\", \"reputation\", \"reputation\", \"reputation\", \"research\", \"research\", \"research\", \"research\", \"research\", \"research\", \"research\", \"research\", \"resource\", \"resource\", \"restaurant\", \"restaurant\", \"restaurant\", \"restaurant\", \"restaurant\", \"restaurant\", \"restaurant\", \"result\", \"result\", \"result\", \"result\", \"result\", \"result\", \"result\", \"retail\", \"retail\", \"retail\", \"return\", \"return\", \"return\", \"return\", \"reuters\", \"reuters\", \"reuters\", \"reuters\", \"reuters\", \"reuters\", \"reveal\", \"reveal\", \"review\", \"review\", \"right\", \"right\", \"right\", \"right\", \"right\", \"right\", \"right\", \"right\", \"rise\", \"rise\", \"rise\", \"rise\", \"rise\", \"rise\", \"road\", \"road\", \"road\", \"road\", \"rocket\", \"rocket\", \"rocket\", \"rocket\", \"rocket\", \"room\", \"room\", \"room\", \"route\", \"route\", \"route\", \"route\", \"route\", \"royal\", \"royal\", \"run\", \"run\", \"run\", \"run\", \"run\", \"rupert\", \"rupert\", \"russia\", \"russia\", \"russia\", \"russia\", \"russia\", \"russian\", \"russian\", \"russian\", \"safe\", \"safe\", \"safe\", \"santorini\", \"santorini\", \"santorini\", \"santorini\", \"santorini\", \"santorini\", \"santorini\", \"santorini\", \"santorini\", \"satellite\", \"satellite\", \"satellite\", \"satellite\", \"satellite\", \"saudi\", \"saudi\", \"saudi\", \"scandal\", \"scandal\", \"scheme\", \"scheme\", \"scheme\", \"science\", \"science\", \"science\", \"science\", \"science\", \"scientist\", \"scientist\", \"scientist\", \"screen\", \"screen\", \"screen\", \"script\", \"script\", \"script\", \"script\", \"script\", \"sea\", \"sea\", \"second\", \"second\", \"second\", \"second\", \"second\", \"second\", \"second\", \"second\", \"section\", \"seek\", \"seek\", \"seek\", \"seem\", \"seem\", \"seem\", \"seem\", \"seem\", \"seem\", \"send\", \"send\", \"send\", \"senior\", \"senior\", \"senior\", \"separate\", \"separate\", \"separate\", \"september\", \"september\", \"series\", \"series\", \"series\", \"series\", \"series\", \"service\", \"service\", \"service\", \"set\", \"set\", \"set\", \"set\", \"set\", \"settlement\", \"settlement\", \"settlement\", \"sexual_assault\", \"sexual_assault\", \"sexual_assault\", \"shame\", \"shame\", \"shame\", \"short\", \"short\", \"show\", \"show\", \"show\", \"show\", \"show\", \"show\", \"show\", \"show\", \"show\", \"show\", \"show\", \"show\", \"sight\", \"sight\", \"sight\", \"sign\", \"sign\", \"sign\", \"sign\", \"sign\", \"sign\", \"sign\", \"signal\", \"significant\", \"significant\", \"simply\", \"simply\", \"simply\", \"simply\", \"since\", \"since\", \"since\", \"since\", \"since\", \"since\", \"since\", \"since\", \"since\", \"since\", \"since\", \"situation\", \"situation\", \"situation\", \"situation\", \"size\", \"size\", \"skip_twitter\", \"skip_twitter\", \"skip_twitter\", \"sleep\", \"sleep\", \"sleep\", \"sleep\", \"sleep\", \"sleep\", \"sleep\", \"small\", \"small\", \"small\", \"small\", \"small\", \"small\", \"small\", \"small\", \"smart\", \"smart\", \"smart\", \"social_medium\", \"social_medium\", \"social_medium\", \"social_medium\", \"social_medium\", \"social_medium\", \"social_medium\", \"social_medium\", \"social_medium_platform\", \"social_medium_platform\", \"social_medium_platform\", \"social_medium_platform\", \"software\", \"software\", \"software\", \"source\", \"source\", \"source\", \"source\", \"spacecraft\", \"spacecraft\", \"speak\", \"speak\", \"speak\", \"speak\", \"speech\", \"speech\", \"speech\", \"speech\", \"speech\", \"speech\", \"speech\", \"speech\", \"spend\", \"spend\", \"spend\", \"spend\", \"spend_hour\", \"spend_hour\", \"spokesman\", \"spokesman\", \"spokesman\", \"spokesman\", \"spot\", \"spot\", \"square\", \"square\", \"star\", \"star\", \"star\", \"star\", \"star\", \"star\", \"start\", \"start\", \"start\", \"start\", \"start\", \"start\", \"start\", \"start\", \"start\", \"state\", \"state\", \"state\", \"state\", \"state\", \"state\", \"state\", \"statement\", \"statement\", \"statement\", \"statement\", \"statement\", \"statement\", \"statistic\", \"statistic\", \"statistic\", \"status_quo\", \"status_quo\", \"status_quo\", \"stay\", \"stay\", \"stay\", \"steal\", \"steal\", \"steal\", \"steal\", \"step\", \"step\", \"step\", \"step\", \"stick\", \"stick\", \"stick\", \"still\", \"still\", \"still\", \"still\", \"still\", \"still\", \"still\", \"still\", \"still\", \"still\", \"still\", \"still\", \"still\", \"stimulate\", \"stimulate\", \"stimulate\", \"store\", \"store\", \"store\", \"store\", \"story\", \"story\", \"story\", \"story\", \"story\", \"story\", \"story\", \"strong\", \"strong\", \"strong\", \"strong\", \"strong\", \"strong\", \"stronghyle\", \"stronghyle\", \"stronghyle\", \"struggle\", \"struggle\", \"struggle\", \"study\", \"study\", \"study\", \"study\", \"study\", \"study\", \"substance\", \"substance\", \"substance\", \"substance\", \"successful\", \"successful\", \"suggest\", \"suggest\", \"suggest\", \"suggest\", \"suggest\", \"suggest\", \"sunday\", \"sunday\", \"sunday\", \"sunrise_alarm\", \"sunrise_alarm\", \"sunrise_alarm\", \"sunrise_alarm\", \"sunset\", \"survivor\", \"survivor\", \"survivor\", \"sweden\", \"sweden\", \"sweden\", \"swedish\", \"swedish\", \"swedish\", \"switch\", \"switch\", \"switch\", \"switch\", \"switch\", \"switch\", \"system\", \"system\", \"system\", \"system\", \"system\", \"system\", \"system\", \"taipei\", \"taipei\", \"taipei\", \"taipei\", \"target\", \"target\", \"target\", \"target\", \"task\", \"task\", \"task\", \"task\", \"task\", \"taste\", \"taste\", \"team\", \"team\", \"team\", \"team\", \"team\", \"team\", \"tech\", \"tech\", \"tech\", \"technology\", \"technology\", \"technology\", \"technology_business\", \"technology_business\", \"tell\", \"tell\", \"tell\", \"tell\", \"tell\", \"tell\", \"tell\", \"tell\", \"tell\", \"tell\", \"tell\", \"tell\", \"tell\", \"tell\", \"think\", \"think\", \"think\", \"think\", \"think\", \"think\", \"think\", \"think\", \"think\", \"think\", \"think\", \"though\", \"though\", \"though\", \"though\", \"though\", \"thought\", \"thought\", \"thought\", \"three_month\", \"three_month\", \"thursday\", \"thursday\", \"thursday\", \"ticket\", \"ticket\", \"ticket\", \"ticket\", \"ticket\", \"ticket\", \"time\", \"time\", \"time\", \"time\", \"time\", \"time\", \"time\", \"time\", \"time\", \"time\", \"time\", \"time\", \"time\", \"tip\", \"tip\", \"tip\", \"told\", \"told\", \"told\", \"tone\", \"tone\", \"tone\", \"tool\", \"tool\", \"tool\", \"tool\", \"tool\", \"tool\", \"top\", \"top\", \"top\", \"top\", \"top\", \"top\", \"top\", \"top\", \"tour\", \"tour\", \"tour\", \"towards\", \"towards\", \"towards\", \"towards\", \"town\", \"town\", \"town\", \"track\", \"track\", \"trade\", \"trade\", \"trade\", \"trade\", \"trade_war\", \"trade_war\", \"trade_war\", \"trade_war\", \"transition\", \"transition\", \"transition\", \"transition\", \"transition\", \"transition_period\", \"transition_period\", \"transition_period\", \"travel\", \"travel\", \"travel\", \"travel\", \"travel\", \"travel\", \"travel\", \"travel\", \"treatment\", \"treatment\", \"treatment\", \"treatment\", \"trend\", \"trend\", \"trend\", \"trend\", \"trend\", \"trial\", \"trial\", \"trouble\", \"trouble\", \"true\", \"true\", \"trump\", \"trump\", \"trump\", \"trump\", \"trump\", \"trump\", \"trump\", \"trump\", \"trump\", \"trump\", \"trust\", \"trust\", \"trust\", \"try\", \"try\", \"try\", \"try\", \"turn\", \"turn\", \"turn\", \"turn\", \"turn\", \"twitter\", \"twitter\", \"twitter\", \"twitter\", \"twitter\", \"twitter\", \"twitter\", \"twitter\", \"two\", \"two\", \"two\", \"two\", \"two\", \"two\", \"two\", \"two\", \"two\", \"two_year\", \"two_year\", \"two_year\", \"uk\", \"uk\", \"uk\", \"uk\", \"uk\", \"uk\", \"uk\", \"uk\", \"uk\", \"uk\", \"uk\", \"uk\", \"uk\", \"uk_government\", \"uk_government\", \"uk_government\", \"ultimately\", \"ultimately\", \"ultimately\", \"undone\", \"undone\", \"union_address\", \"union_address\", \"university\", \"university\", \"university\", \"university\", \"unlikely\", \"unlikely\", \"unlikely\", \"us\", \"us\", \"us\", \"us\", \"us\", \"us\", \"us\", \"us\", \"us\", \"us\", \"us\", \"us\", \"us\", \"us\", \"us\", \"us\", \"us\", \"us\", \"user\", \"user\", \"user\", \"user\", \"usgs\", \"usgs\", \"usgs\", \"various\", \"various\", \"various\", \"victim\", \"victim\", \"victim\", \"victim\", \"victim\", \"video\", \"video\", \"video\", \"visit\", \"visit\", \"visit\", \"visit\", \"visit\", \"visit\", \"visual\", \"visual\", \"visual\", \"visual\", \"volkswagen\", \"volkswagen\", \"volkswagen\", \"vw\", \"vw\", \"vw\", \"vw\", \"vw\", \"warm\", \"warm\", \"warm\", \"watch\", \"watch\", \"watch\", \"way\", \"way\", \"way\", \"way\", \"way\", \"way\", \"way\", \"way\", \"way\", \"way\", \"way\", \"website\", \"website\", \"week\", \"week\", \"week\", \"week\", \"week\", \"week\", \"week\", \"week\", \"well\", \"well\", \"well\", \"well\", \"well\", \"well\", \"whether\", \"whether\", \"whether\", \"whether\", \"whether\", \"whether\", \"whole\", \"whole\", \"whose\", \"whose\", \"whose\", \"whose\", \"wipe\", \"wipe\", \"wipe\", \"wire\", \"wire\", \"wire\", \"woman\", \"woman\", \"woman\", \"woman\", \"woman\", \"woman\", \"woman\", \"woo\", \"woo\", \"woo\", \"woo\", \"woo\", \"wood\", \"wood\", \"wood\", \"word\", \"word\", \"word\", \"word\", \"work\", \"work\", \"work\", \"work\", \"work\", \"work\", \"work\", \"work\", \"work\", \"work\", \"work\", \"work\", \"world\", \"world\", \"world\", \"world\", \"world\", \"world\", \"world\", \"world\", \"world\", \"world\", \"world\", \"world\", \"world\", \"worth\", \"worth\", \"worth\", \"worth\", \"worth\", \"worth\", \"write\", \"write\", \"write\", \"write\", \"write\", \"write\", \"wrong\", \"wrong\", \"yahsat\", \"yahsat\", \"year\", \"year\", \"year\", \"year\", \"year\", \"year\", \"year\", \"year\", \"year\", \"year\", \"year\", \"year\", \"yet\", \"yet\", \"yet\", \"yet\", \"yet\", \"yet\", \"yet\", \"young\", \"young\", \"young\", \"young\", \"young_child\", \"youngman\", \"youngman\", \"youngman\"]}, \"R\": 30, \"lambda.step\": 0.01, \"plot.opts\": {\"xlab\": \"PC1\", \"ylab\": \"PC2\"}, \"topic.order\": [2, 9, 8, 19, 4, 15, 10, 18, 5, 7, 20, 13, 14, 6, 17, 11, 3, 12, 1, 16]};\n",
       "\n",
       "function LDAvis_load_lib(url, callback){\n",
       "  var s = document.createElement('script');\n",
       "  s.src = url;\n",
       "  s.async = true;\n",
       "  s.onreadystatechange = s.onload = callback;\n",
       "  s.onerror = function(){console.warn(\"failed to load library \" + url);};\n",
       "  document.getElementsByTagName(\"head\")[0].appendChild(s);\n",
       "}\n",
       "\n",
       "if(typeof(LDAvis) !== \"undefined\"){\n",
       "   // already loaded: just create the visualization\n",
       "   !function(LDAvis){\n",
       "       new LDAvis(\"#\" + \"ldavis_el805594929568723087980674\", ldavis_el805594929568723087980674_data);\n",
       "   }(LDAvis);\n",
       "}else if(typeof define === \"function\" && define.amd){\n",
       "   // require.js is available: use it to load d3/LDAvis\n",
       "   require.config({paths: {d3: \"https://cdnjs.cloudflare.com/ajax/libs/d3/3.5.5/d3.min\"}});\n",
       "   require([\"d3\"], function(d3){\n",
       "      window.d3 = d3;\n",
       "      LDAvis_load_lib(\"https://cdn.rawgit.com/bmabey/pyLDAvis/files/ldavis.v1.0.0.js\", function(){\n",
       "        new LDAvis(\"#\" + \"ldavis_el805594929568723087980674\", ldavis_el805594929568723087980674_data);\n",
       "      });\n",
       "    });\n",
       "}else{\n",
       "    // require.js not available: dynamically load d3 & LDAvis\n",
       "    LDAvis_load_lib(\"https://cdnjs.cloudflare.com/ajax/libs/d3/3.5.5/d3.min.js\", function(){\n",
       "         LDAvis_load_lib(\"https://cdn.rawgit.com/bmabey/pyLDAvis/files/ldavis.v1.0.0.js\", function(){\n",
       "                 new LDAvis(\"#\" + \"ldavis_el805594929568723087980674\", ldavis_el805594929568723087980674_data);\n",
       "            })\n",
       "         });\n",
       "}\n",
       "</script>"
      ],
      "text/plain": [
       "<IPython.core.display.HTML object>"
      ]
     },
     "execution_count": 79,
     "metadata": {},
     "output_type": "execute_result"
    }
   ],
   "source": [
    "vis = pyLDAvis.gensim.prepare(topic_model=lda_model, corpus=corpus, dictionary=dictionary_LDA)\n",
    "pyLDAvis.enable_notebook()\n",
    "pyLDAvis.display(vis)"
   ]
  },
  {
   "cell_type": "code",
   "execution_count": null,
   "metadata": {},
   "outputs": [],
   "source": []
  },
  {
   "cell_type": "code",
   "execution_count": null,
   "metadata": {},
   "outputs": [],
   "source": []
  }
 ],
 "metadata": {
  "kernelspec": {
   "display_name": "Python 3",
   "language": "python",
   "name": "python3"
  },
  "language_info": {
   "codemirror_mode": {
    "name": "ipython",
    "version": 3
   },
   "file_extension": ".py",
   "mimetype": "text/x-python",
   "name": "python",
   "nbconvert_exporter": "python",
   "pygments_lexer": "ipython3",
   "version": "3.7.4"
  }
 },
 "nbformat": 4,
 "nbformat_minor": 2
}
